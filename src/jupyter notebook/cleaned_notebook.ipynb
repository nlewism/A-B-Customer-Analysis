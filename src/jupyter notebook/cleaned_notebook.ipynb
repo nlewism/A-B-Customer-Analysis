{
 "cells": [
  {
   "cell_type": "code",
   "execution_count": 2,
   "id": "3179d31c",
   "metadata": {},
   "outputs": [],
   "source": [
    "%reload_ext autoreload\n",
    "%autoreload 2\n",
    "from backend import load_data, data_wrangling, calculate_completion_rate, error_rate, drop_off_rate, statistic_func, calculate_avg_time_per_step\n",
    "import seaborn as sns\n",
    "import matplotlib.pyplot as plt\n",
    "import pandas as pd\n",
    "import numpy as np\n",
    "from statsmodels.stats.proportion import proportions_ztest\n",
    "from scipy.stats import ttest_ind\n",
    "from scipy.stats import chi2_contingency\n"
   ]
  },
  {
   "cell_type": "code",
   "execution_count": 3,
   "id": "082c4c57",
   "metadata": {},
   "outputs": [],
   "source": [
    "client_profiles, experiment_roster, web_group = load_data()"
   ]
  },
  {
   "cell_type": "code",
   "execution_count": 4,
   "id": "98bf7cc1",
   "metadata": {},
   "outputs": [],
   "source": [
    "client_process_counts, final_rooster_process_counts_profile, control_profile_df, test_profile_df, web_group_experiment, client_profile_experiment = data_wrangling(web_group,experiment_roster,client_profiles)"
   ]
  },
  {
   "cell_type": "markdown",
   "id": "5787628d",
   "metadata": {},
   "source": [
    "# Running functions"
   ]
  },
  {
   "cell_type": "markdown",
   "id": "c1594e02",
   "metadata": {},
   "source": [
    "# KPI"
   ]
  },
  {
   "cell_type": "markdown",
   "id": "9edb9933",
   "metadata": {},
   "source": [
    "# Average Time per Step"
   ]
  },
  {
   "cell_type": "code",
   "execution_count": 5,
   "id": "0c2b0ae9",
   "metadata": {},
   "outputs": [
    {
     "data": {
      "text/plain": [
       "process_step\n",
       "step_1    0 days 00:30:38.781647281\n",
       "step_2    0 days 00:00:39.342259834\n",
       "step_3    0 days 00:09:35.220494575\n",
       "confirm   0 days 18:21:17.307379630\n",
       "Name: time_diff, dtype: timedelta64[ns]"
      ]
     },
     "execution_count": 5,
     "metadata": {},
     "output_type": "execute_result"
    }
   ],
   "source": [
    "calculate_avg_time_per_step(web_group_experiment,'Control')"
   ]
  },
  {
   "cell_type": "code",
   "execution_count": 6,
   "id": "5c3b6ca4",
   "metadata": {},
   "outputs": [
    {
     "data": {
      "text/plain": [
       "process_step\n",
       "step_1    0 days 00:22:19.804570955\n",
       "step_2    0 days 00:01:51.212471355\n",
       "step_3    0 days 00:12:18.920516488\n",
       "confirm   1 days 05:00:32.783103231\n",
       "Name: time_diff, dtype: timedelta64[ns]"
      ]
     },
     "execution_count": 6,
     "metadata": {},
     "output_type": "execute_result"
    }
   ],
   "source": [
    "calculate_avg_time_per_step(web_group_experiment,'Test')"
   ]
  },
  {
   "cell_type": "code",
   "execution_count": 7,
   "id": "68a76841",
   "metadata": {},
   "outputs": [
    {
     "data": {
      "text/plain": [
       "process_step\n",
       "step_1    0 days 00:25:56.019441799\n",
       "step_2    0 days 00:01:18.503631663\n",
       "step_3    0 days 00:11:02.287741086\n",
       "confirm   1 days 00:40:39.014174987\n",
       "Name: time_diff, dtype: timedelta64[ns]"
      ]
     },
     "execution_count": 7,
     "metadata": {},
     "output_type": "execute_result"
    }
   ],
   "source": [
    "calculate_avg_time_per_step(web_group_experiment,'Overall')"
   ]
  },
  {
   "cell_type": "markdown",
   "id": "7ae4561b",
   "metadata": {},
   "source": [
    "# Completion Rate"
   ]
  },
  {
   "cell_type": "code",
   "execution_count": 8,
   "id": "be0320ec",
   "metadata": {},
   "outputs": [
    {
     "data": {
      "text/plain": [
       "65.58728539860616"
      ]
     },
     "execution_count": 8,
     "metadata": {},
     "output_type": "execute_result"
    }
   ],
   "source": [
    "calculate_completion_rate(web_group_experiment,'Control')"
   ]
  },
  {
   "cell_type": "code",
   "execution_count": 9,
   "id": "258ad73e",
   "metadata": {},
   "outputs": [
    {
     "data": {
      "text/plain": [
       "69.29323642835953"
      ]
     },
     "execution_count": 9,
     "metadata": {},
     "output_type": "execute_result"
    }
   ],
   "source": [
    "calculate_completion_rate(web_group_experiment,'Test')"
   ]
  },
  {
   "cell_type": "code",
   "execution_count": 10,
   "id": "0a54ae6e",
   "metadata": {},
   "outputs": [
    {
     "data": {
      "text/plain": [
       "67.56633663366337"
      ]
     },
     "execution_count": 10,
     "metadata": {},
     "output_type": "execute_result"
    }
   ],
   "source": [
    "calculate_completion_rate(web_group_experiment)"
   ]
  },
  {
   "cell_type": "markdown",
   "id": "b5e8dbbd",
   "metadata": {},
   "source": [
    "# Error Rates"
   ]
  },
  {
   "cell_type": "code",
   "execution_count": 11,
   "id": "09557578",
   "metadata": {},
   "outputs": [
    {
     "data": {
      "text/plain": [
       "process_step\n",
       "0    17.828936\n",
       "1     7.904139\n",
       "2     9.163254\n",
       "3     0.570301\n",
       "4     0.000000\n",
       "Name: process_step, dtype: float64"
      ]
     },
     "execution_count": 11,
     "metadata": {},
     "output_type": "execute_result"
    }
   ],
   "source": [
    "control_total_errors, control_total_steps, control_error_rate, control_average_error_per_step = error_rate(web_group_experiment,'Control')\n",
    "control_average_error_per_step"
   ]
  },
  {
   "cell_type": "code",
   "execution_count": 12,
   "id": "2a090a9a",
   "metadata": {},
   "outputs": [
    {
     "data": {
      "text/plain": [
       "process_step\n",
       "0    23.550660\n",
       "1     8.922307\n",
       "2     7.421988\n",
       "3     0.111995\n",
       "4     0.000000\n",
       "Name: process_step, dtype: float64"
      ]
     },
     "execution_count": 12,
     "metadata": {},
     "output_type": "execute_result"
    }
   ],
   "source": [
    "test_total_errors, test_total_steps, test_error_rate, test_average_error_per_step = error_rate(web_group_experiment,'Test')\n",
    "test_average_error_per_step"
   ]
  },
  {
   "cell_type": "code",
   "execution_count": 13,
   "id": "915f2062",
   "metadata": {},
   "outputs": [
    {
     "data": {
      "text/plain": [
       "process_step\n",
       "0    20.933495\n",
       "1     8.480916\n",
       "2     8.214505\n",
       "3     0.326562\n",
       "4     0.000000\n",
       "Name: process_step, dtype: float64"
      ]
     },
     "execution_count": 13,
     "metadata": {},
     "output_type": "execute_result"
    }
   ],
   "source": [
    "total_errors, total_steps, error_rate, average_error_per_step = error_rate(web_group_experiment)\n",
    "average_error_per_step"
   ]
  },
  {
   "cell_type": "markdown",
   "id": "7e268c12",
   "metadata": {},
   "source": [
    "# Drop-off Rates"
   ]
  },
  {
   "cell_type": "code",
   "execution_count": 14,
   "id": "12364f2c",
   "metadata": {},
   "outputs": [
    {
     "data": {
      "text/html": [
       "<div>\n",
       "<style scoped>\n",
       "    .dataframe tbody tr th:only-of-type {\n",
       "        vertical-align: middle;\n",
       "    }\n",
       "\n",
       "    .dataframe tbody tr th {\n",
       "        vertical-align: top;\n",
       "    }\n",
       "\n",
       "    .dataframe thead th {\n",
       "        text-align: right;\n",
       "    }\n",
       "</style>\n",
       "<table border=\"1\" class=\"dataframe\">\n",
       "  <thead>\n",
       "    <tr style=\"text-align: right;\">\n",
       "      <th></th>\n",
       "      <th>process_step</th>\n",
       "      <th>dropoff_rate</th>\n",
       "    </tr>\n",
       "  </thead>\n",
       "  <tbody>\n",
       "    <tr>\n",
       "      <th>0</th>\n",
       "      <td>0</td>\n",
       "      <td>13.869299</td>\n",
       "    </tr>\n",
       "    <tr>\n",
       "      <th>1</th>\n",
       "      <td>1</td>\n",
       "      <td>7.453355</td>\n",
       "    </tr>\n",
       "    <tr>\n",
       "      <th>2</th>\n",
       "      <td>2</td>\n",
       "      <td>6.584450</td>\n",
       "    </tr>\n",
       "    <tr>\n",
       "      <th>3</th>\n",
       "      <td>3</td>\n",
       "      <td>11.410860</td>\n",
       "    </tr>\n",
       "    <tr>\n",
       "      <th>4</th>\n",
       "      <td>4</td>\n",
       "      <td>0.000000</td>\n",
       "    </tr>\n",
       "  </tbody>\n",
       "</table>\n",
       "</div>"
      ],
      "text/plain": [
       "   process_step  dropoff_rate\n",
       "0             0     13.869299\n",
       "1             1      7.453355\n",
       "2             2      6.584450\n",
       "3             3     11.410860\n",
       "4             4      0.000000"
      ]
     },
     "execution_count": 14,
     "metadata": {},
     "output_type": "execute_result"
    }
   ],
   "source": [
    "drop_off_rate(web_group_experiment,'Control')"
   ]
  },
  {
   "cell_type": "code",
   "execution_count": 15,
   "id": "3cf2b910",
   "metadata": {},
   "outputs": [
    {
     "data": {
      "text/html": [
       "<div>\n",
       "<style scoped>\n",
       "    .dataframe tbody tr th:only-of-type {\n",
       "        vertical-align: middle;\n",
       "    }\n",
       "\n",
       "    .dataframe tbody tr th {\n",
       "        vertical-align: top;\n",
       "    }\n",
       "\n",
       "    .dataframe thead th {\n",
       "        text-align: right;\n",
       "    }\n",
       "</style>\n",
       "<table border=\"1\" class=\"dataframe\">\n",
       "  <thead>\n",
       "    <tr style=\"text-align: right;\">\n",
       "      <th></th>\n",
       "      <th>process_step</th>\n",
       "      <th>dropoff_rate</th>\n",
       "    </tr>\n",
       "  </thead>\n",
       "  <tbody>\n",
       "    <tr>\n",
       "      <th>0</th>\n",
       "      <td>0</td>\n",
       "      <td>9.040819</td>\n",
       "    </tr>\n",
       "    <tr>\n",
       "      <th>1</th>\n",
       "      <td>1</td>\n",
       "      <td>8.278732</td>\n",
       "    </tr>\n",
       "    <tr>\n",
       "      <th>2</th>\n",
       "      <td>2</td>\n",
       "      <td>6.186540</td>\n",
       "    </tr>\n",
       "    <tr>\n",
       "      <th>3</th>\n",
       "      <td>3</td>\n",
       "      <td>10.507160</td>\n",
       "    </tr>\n",
       "    <tr>\n",
       "      <th>4</th>\n",
       "      <td>4</td>\n",
       "      <td>0.000000</td>\n",
       "    </tr>\n",
       "  </tbody>\n",
       "</table>\n",
       "</div>"
      ],
      "text/plain": [
       "   process_step  dropoff_rate\n",
       "0             0      9.040819\n",
       "1             1      8.278732\n",
       "2             2      6.186540\n",
       "3             3     10.507160\n",
       "4             4      0.000000"
      ]
     },
     "execution_count": 15,
     "metadata": {},
     "output_type": "execute_result"
    }
   ],
   "source": [
    "drop_off_rate(web_group_experiment,'Test')"
   ]
  },
  {
   "cell_type": "code",
   "execution_count": 16,
   "id": "774bfc08",
   "metadata": {},
   "outputs": [
    {
     "data": {
      "text/html": [
       "<div>\n",
       "<style scoped>\n",
       "    .dataframe tbody tr th:only-of-type {\n",
       "        vertical-align: middle;\n",
       "    }\n",
       "\n",
       "    .dataframe tbody tr th {\n",
       "        vertical-align: top;\n",
       "    }\n",
       "\n",
       "    .dataframe thead th {\n",
       "        text-align: right;\n",
       "    }\n",
       "</style>\n",
       "<table border=\"1\" class=\"dataframe\">\n",
       "  <thead>\n",
       "    <tr style=\"text-align: right;\">\n",
       "      <th></th>\n",
       "      <th>process_step</th>\n",
       "      <th>dropoff_rate</th>\n",
       "    </tr>\n",
       "  </thead>\n",
       "  <tbody>\n",
       "    <tr>\n",
       "      <th>0</th>\n",
       "      <td>0</td>\n",
       "      <td>11.296829</td>\n",
       "    </tr>\n",
       "    <tr>\n",
       "      <th>1</th>\n",
       "      <td>1</td>\n",
       "      <td>7.904275</td>\n",
       "    </tr>\n",
       "    <tr>\n",
       "      <th>2</th>\n",
       "      <td>2</td>\n",
       "      <td>6.367948</td>\n",
       "    </tr>\n",
       "    <tr>\n",
       "      <th>3</th>\n",
       "      <td>3</td>\n",
       "      <td>10.918205</td>\n",
       "    </tr>\n",
       "    <tr>\n",
       "      <th>4</th>\n",
       "      <td>4</td>\n",
       "      <td>0.000000</td>\n",
       "    </tr>\n",
       "  </tbody>\n",
       "</table>\n",
       "</div>"
      ],
      "text/plain": [
       "   process_step  dropoff_rate\n",
       "0             0     11.296829\n",
       "1             1      7.904275\n",
       "2             2      6.367948\n",
       "3             3     10.918205\n",
       "4             4      0.000000"
      ]
     },
     "execution_count": 16,
     "metadata": {},
     "output_type": "execute_result"
    }
   ],
   "source": [
    "drop_off_rate(web_group_experiment)"
   ]
  },
  {
   "cell_type": "markdown",
   "id": "f60c0cc3",
   "metadata": {},
   "source": [
    "# Statistics"
   ]
  },
  {
   "cell_type": "markdown",
   "id": "cdcf6e52",
   "metadata": {},
   "source": [
    "# Hypothesis\n",
    "\n",
    "-Null Hypothesis: The completion rate for the Test group \n",
    "(new design) is equal to the completion rate for the Control group (old design).\n",
    "\n",
    "-Alternative Hypothesis: The completion rate for the Test group \n",
    "(new design) is not equal to the completion rate for the Control group (old design)."
   ]
  },
  {
   "cell_type": "code",
   "execution_count": 250,
   "id": "fd3a8d0d",
   "metadata": {},
   "outputs": [
    {
     "data": {
      "image/png": "[encoded data removed]",
      "text/plain": [
       "<Figure size 640x480 with 1 Axes>"
      ]
     },
     "metadata": {},
     "output_type": "display_data"
    },
    {
     "name": "stdout",
     "output_type": "stream",
     "text": [
      "Z-statistic: -8.8745141890702\n",
      "P-value: 7.023933247581432e-19\n",
      "Reject the null hypothesis: There is evidence that completion rates are different.\n"
     ]
    }
   ],
   "source": [
    "completion_z_value, completion_p_value, completion_hypothesis = statistic_func(web_group_experiment, 'completition rate', 'two-proportion z-test', 0.05)"
   ]
  },
  {
   "cell_type": "markdown",
   "id": "8af24f2a",
   "metadata": {},
   "source": [
    "# Hypothesis\n",
    "\n",
    "-Null Hypothesis: The completion rate for the Test group \n",
    "(new design) is equal to or less than the completion rate for the Control group (old design) increased by 5%.\n",
    "\n",
    "-Alternative Hypothesis: The completion rate for the Test group \n",
    "(new design) is greater than the completion rate for the Control group (old design) increased by 5%."
   ]
  },
  {
   "cell_type": "code",
   "execution_count": 246,
   "id": "26854280",
   "metadata": {},
   "outputs": [
    {
     "data": {
      "image/png": "[encoded data removed]",
      "text/plain": [
       "<Figure size 640x480 with 1 Axes>"
      ]
     },
     "metadata": {},
     "output_type": "display_data"
    },
    {
     "name": "stdout",
     "output_type": "stream",
     "text": [
      "Z-statistic: -8.8745\n",
      "P-value: 1.0000\n",
      "Fail to reject the null hypothesis: There is no significant evidence that the completion rate for the Test group is greater than the Control group increased by 5%.\n"
     ]
    }
   ],
   "source": [
    "increase_5_z_value, increase_5_p_value, increase_5_hypothesis = statistic_func(web_group_experiment, '5% increase', 'one-sided z-test', 0.05)"
   ]
  },
  {
   "cell_type": "markdown",
   "id": "5e8a651c",
   "metadata": {},
   "source": [
    "# Hypothesis\n",
    "\n",
    "-Null Hypothesis: The average client tenure of those engaging with \n",
    "the new process is equal to the average client tenure of those engaging with the old process.\n",
    "\n",
    "-Alternative Hypothesis: The average client tenure of those engaging with \n",
    "the new process is different from the average client tenure of those engaging with the old process."
   ]
  },
  {
   "cell_type": "code",
   "execution_count": 470,
   "id": "3ae5a3ed",
   "metadata": {},
   "outputs": [
    {
     "name": "stdout",
     "output_type": "stream",
     "text": [
      "T-statistic: 1.7115\n",
      "P-value: 0.0870\n",
      "Fail to reject the null hypothesis: There is no significant difference in the average tenure years between the Control and Test groups.\n"
     ]
    }
   ],
   "source": [
    "tenure_t_value, tenure_p_value, tenure_hypothesis = statistic_func(final_rooster_process_counts_profile, 'tenure years', 't-test',0.05)"
   ]
  },
  {
   "cell_type": "markdown",
   "id": "68b2f5dc",
   "metadata": {},
   "source": [
    "# Hypothesis\n",
    "\n",
    "-Null Hypothesis: The average age of clients engaging with the \n",
    "new process is equal to the average age of clients engaging with the old process.\n",
    "\n",
    "-Alternative Hypothesis: The average age of clients engaging with \n",
    "the new process is not equal to the average age of clients engaging with the old process."
   ]
  },
  {
   "cell_type": "code",
   "execution_count": 471,
   "id": "53164a55",
   "metadata": {},
   "outputs": [
    {
     "name": "stdout",
     "output_type": "stream",
     "text": [
      "T-statistic: 2.4161\n",
      "P-value: 0.0157\n",
      "Reject the null hypothesis: There is a significant difference in the average age between the Control and Test groups.\n"
     ]
    }
   ],
   "source": [
    "age_t_value, age_p_value, age_hypothesis = statistic_func(final_rooster_process_counts_profile, 'age', 't-test',0.05)"
   ]
  },
  {
   "cell_type": "markdown",
   "id": "aec3bd03",
   "metadata": {},
   "source": [
    "# Hypothesis\n",
    "\n",
    "-Null Hypothesis: The proportion of clients engaging with the \n",
    "new process is the same for both genders.\n",
    "\n",
    "-Alternative Hypothesis: The proportion of clients engaging with the\n",
    "new process is different between genders."
   ]
  },
  {
   "cell_type": "code",
   "execution_count": 13,
   "id": "ebed5f8c",
   "metadata": {
    "scrolled": true
   },
   "outputs": [
    {
     "name": "stdout",
     "output_type": "stream",
     "text": [
      "Chi-square statistic: 3.6235\n",
      "P-value: 0.3051\n",
      "Fail to reject the null hypothesis: There is no significant difference in the proportion of clients engaging with the new process across different gender categories.\n"
     ]
    }
   ],
   "source": [
    "gender_chi, gender_p_value, gender_hypothesis = statistic_func(final_rooster_process_counts_profile, 'gender', 'chi-test',0.05)"
   ]
  },
  {
   "cell_type": "code",
   "execution_count": 49,
   "id": "88c20cf0",
   "metadata": {},
   "outputs": [
    {
     "name": "stdout",
     "output_type": "stream",
     "text": [
      "T-statistic: 2.0974\n",
      "P-value: 0.0360\n",
      "Reject the null hypothesis: There is a significant difference in the average number of accounts between the Control and Test groups.\n"
     ]
    }
   ],
   "source": [
    "acct_t_value, acct_p_value, acct_hypothesis = statistic_func(final_rooster_process_counts_profile, 'number of accounts', 't-test',0.05)"
   ]
  },
  {
   "cell_type": "code",
   "execution_count": 88,
   "id": "ee5bdbe8",
   "metadata": {},
   "outputs": [
    {
     "name": "stdout",
     "output_type": "stream",
     "text": [
      "Chi-square statistic: 0.5220\n",
      "P-value: 0.4700\n",
      "Fail to reject the null hypothesis: There is no significant difference in the proportion of clients engaging with the new process across different balance categories.\n"
     ]
    }
   ],
   "source": [
    "bal_chi, bal_p_value, bal_hypothesis = statistic_func(final_rooster_process_counts_profile, 'balance', 'chi-test',0.05)"
   ]
  },
  {
   "cell_type": "code",
   "execution_count": 5,
   "id": "8bf0979d",
   "metadata": {},
   "outputs": [
    {
     "name": "stdout",
     "output_type": "stream",
     "text": [
      "Chi-square statistic: 182.1466\n",
      "P-value: 0.0000\n",
      "Reject the null hypothesis: There is a significant difference in the proportion of clients engaging with the new process across different number of accounts categories.\n"
     ]
    }
   ],
   "source": [
    "acct_t_value, acct_p_value, acct_hypothesis = statistic_func(final_rooster_process_counts_profile, 'number of accounts', 'chi-test',0.05)"
   ]
  },
  {
   "cell_type": "code",
   "execution_count": 90,
   "id": "7bf40edc",
   "metadata": {},
   "outputs": [
    {
     "name": "stdout",
     "output_type": "stream",
     "text": [
      "Chi-square statistic: 69.2095\n",
      "P-value: 0.0000\n",
      "Reject the null hypothesis: There is a significant difference in the proportion of clients engaging with the new process across different calls in the last 6 months categories.\n"
     ]
    }
   ],
   "source": [
    "calls_t_value, calls_p_value, calls_hypothesis = statistic_func(final_rooster_process_counts_profile, 'calls in the last 6 months', 'chi-test',0.05)"
   ]
  },
  {
   "cell_type": "code",
   "execution_count": 91,
   "id": "c87ff837",
   "metadata": {},
   "outputs": [
    {
     "name": "stdout",
     "output_type": "stream",
     "text": [
      "Chi-square statistic: 61.6392\n",
      "P-value: 0.0000\n",
      "Reject the null hypothesis: There is a significant difference in the proportion of clients engaging with the new process across different logins in the last 6 months categories.\n"
     ]
    }
   ],
   "source": [
    "logins_t_value, logins_p_value, logins_hypothesis = statistic_func(final_rooster_process_counts_profile, 'logins in the last 6 months', 'chi-test',0.05)"
   ]
  },
  {
   "cell_type": "code",
   "execution_count": null,
   "id": "553473ae",
   "metadata": {},
   "outputs": [],
   "source": []
  },
  {
   "cell_type": "code",
   "execution_count": null,
   "id": "3f6cdda4",
   "metadata": {},
   "outputs": [],
   "source": []
  },
  {
   "cell_type": "code",
   "execution_count": null,
   "id": "f069d2fd",
   "metadata": {},
   "outputs": [],
   "source": []
  }
 ],
 "metadata": {
  "kernelspec": {
   "display_name": "project-2",
   "language": "python",
   "name": "project-2"
  },
  "language_info": {
   "codemirror_mode": {
    "name": "ipython",
    "version": 3
   },
   "file_extension": ".py",
   "mimetype": "text/x-python",
   "name": "python",
   "nbconvert_exporter": "python",
   "pygments_lexer": "ipython3",
   "version": "3.11.5"
  },
  "toc": {
   "base_numbering": 1,
   "nav_menu": {},
   "number_sections": true,
   "sideBar": true,
   "skip_h1_title": false,
   "title_cell": "Table of Contents",
   "title_sidebar": "Contents",
   "toc_cell": false,
   "toc_position": {},
   "toc_section_display": true,
   "toc_window_display": false
  }
 },
 "nbformat": 4,
 "nbformat_minor": 5
}
