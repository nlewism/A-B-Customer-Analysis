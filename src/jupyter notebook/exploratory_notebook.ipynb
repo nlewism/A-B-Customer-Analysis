{
 "cells": [
  {
   "cell_type": "code",
   "execution_count": 1,
   "id": "3179d31c",
   "metadata": {},
   "outputs": [],
   "source": [
    "%reload_ext autoreload\n",
    "%autoreload 2\n",
    "from backend import load_data, data_wrangling, calculate_completion_rate, error_rate, drop_off_rate, statistic_func, calculate_avg_time_per_step\n",
    "import seaborn as sns\n",
    "import matplotlib.pyplot as plt\n",
    "import pandas as pd\n",
    "import numpy as np\n",
    "from statsmodels.stats.proportion import proportions_ztest\n",
    "from scipy.stats import ttest_ind\n",
    "from scipy.stats import chi2_contingency\n"
   ]
  },
  {
   "cell_type": "code",
   "execution_count": 2,
   "id": "082c4c57",
   "metadata": {},
   "outputs": [],
   "source": [
    "client_profiles, experiment_roster, web_group = load_data()"
   ]
  },
  {
   "cell_type": "code",
   "execution_count": 3,
   "id": "9b66fdf1",
   "metadata": {},
   "outputs": [],
   "source": [
    "client_process_counts, final_rooster_process_counts_profile, control_profile_df, test_profile_df, web_group_experiment, client_profile_experiment = data_wrangling(web_group,experiment_roster,client_profiles)"
   ]
  },
  {
   "cell_type": "code",
   "execution_count": 4,
   "id": "ebdbb330",
   "metadata": {},
   "outputs": [],
   "source": [
    "experiment_roster.dropna(inplace=True)"
   ]
  },
  {
   "cell_type": "code",
   "execution_count": 5,
   "id": "c3aadbd6",
   "metadata": {},
   "outputs": [
    {
     "data": {
      "text/html": [
       "<div>\n",
       "<style scoped>\n",
       "    .dataframe tbody tr th:only-of-type {\n",
       "        vertical-align: middle;\n",
       "    }\n",
       "\n",
       "    .dataframe tbody tr th {\n",
       "        vertical-align: top;\n",
       "    }\n",
       "\n",
       "    .dataframe thead th {\n",
       "        text-align: right;\n",
       "    }\n",
       "</style>\n",
       "<table border=\"1\" class=\"dataframe\">\n",
       "  <thead>\n",
       "    <tr style=\"text-align: right;\">\n",
       "      <th></th>\n",
       "      <th>client_id</th>\n",
       "      <th>Variation</th>\n",
       "    </tr>\n",
       "  </thead>\n",
       "  <tbody>\n",
       "    <tr>\n",
       "      <th>0</th>\n",
       "      <td>9988021</td>\n",
       "      <td>Test</td>\n",
       "    </tr>\n",
       "    <tr>\n",
       "      <th>1</th>\n",
       "      <td>8320017</td>\n",
       "      <td>Test</td>\n",
       "    </tr>\n",
       "    <tr>\n",
       "      <th>2</th>\n",
       "      <td>4033851</td>\n",
       "      <td>Control</td>\n",
       "    </tr>\n",
       "    <tr>\n",
       "      <th>3</th>\n",
       "      <td>1982004</td>\n",
       "      <td>Test</td>\n",
       "    </tr>\n",
       "    <tr>\n",
       "      <th>4</th>\n",
       "      <td>9294070</td>\n",
       "      <td>Control</td>\n",
       "    </tr>\n",
       "    <tr>\n",
       "      <th>...</th>\n",
       "      <td>...</td>\n",
       "      <td>...</td>\n",
       "    </tr>\n",
       "    <tr>\n",
       "      <th>50495</th>\n",
       "      <td>393005</td>\n",
       "      <td>Control</td>\n",
       "    </tr>\n",
       "    <tr>\n",
       "      <th>50496</th>\n",
       "      <td>2908510</td>\n",
       "      <td>Control</td>\n",
       "    </tr>\n",
       "    <tr>\n",
       "      <th>50497</th>\n",
       "      <td>7230446</td>\n",
       "      <td>Test</td>\n",
       "    </tr>\n",
       "    <tr>\n",
       "      <th>50498</th>\n",
       "      <td>5230357</td>\n",
       "      <td>Test</td>\n",
       "    </tr>\n",
       "    <tr>\n",
       "      <th>50499</th>\n",
       "      <td>6334360</td>\n",
       "      <td>Test</td>\n",
       "    </tr>\n",
       "  </tbody>\n",
       "</table>\n",
       "<p>50500 rows × 2 columns</p>\n",
       "</div>"
      ],
      "text/plain": [
       "       client_id Variation\n",
       "0        9988021      Test\n",
       "1        8320017      Test\n",
       "2        4033851   Control\n",
       "3        1982004      Test\n",
       "4        9294070   Control\n",
       "...          ...       ...\n",
       "50495     393005   Control\n",
       "50496    2908510   Control\n",
       "50497    7230446      Test\n",
       "50498    5230357      Test\n",
       "50499    6334360      Test\n",
       "\n",
       "[50500 rows x 2 columns]"
      ]
     },
     "execution_count": 5,
     "metadata": {},
     "output_type": "execute_result"
    }
   ],
   "source": [
    "experiment_roster"
   ]
  },
  {
   "cell_type": "markdown",
   "id": "51d1d57a",
   "metadata": {},
   "source": [
    "# Not all clients were part of experiment"
   ]
  },
  {
   "cell_type": "markdown",
   "id": "dde90885",
   "metadata": {},
   "source": [
    "Concatenating both web data files."
   ]
  },
  {
   "cell_type": "code",
   "execution_count": 6,
   "id": "0d08580c",
   "metadata": {
    "collapsed": true
   },
   "outputs": [
    {
     "ename": "NameError",
     "evalue": "name 'df_web_data_pt1' is not defined",
     "output_type": "error",
     "traceback": [
      "\u001b[0;31m---------------------------------------------------------------------------\u001b[0m",
      "\u001b[0;31mNameError\u001b[0m                                 Traceback (most recent call last)",
      "Cell \u001b[0;32mIn[6], line 1\u001b[0m\n\u001b[0;32m----> 1\u001b[0m web_group \u001b[38;5;241m=\u001b[39m pd\u001b[38;5;241m.\u001b[39mconcat([\u001b[43mdf_web_data_pt1\u001b[49m,df_web_data_pt2])\n",
      "\u001b[0;31mNameError\u001b[0m: name 'df_web_data_pt1' is not defined"
     ]
    }
   ],
   "source": [
    "web_group = pd.concat([df_web_data_pt1,df_web_data_pt2])"
   ]
  },
  {
   "cell_type": "markdown",
   "id": "d65a9494",
   "metadata": {},
   "source": [
    "Transforming process_step values into numerical values to better manipulate the data."
   ]
  },
  {
   "cell_type": "code",
   "execution_count": 7,
   "id": "d4679f44",
   "metadata": {},
   "outputs": [],
   "source": [
    "process_dict = {'start': 0, 'step_1': 1, 'step_2': 2, 'step_3': 3, 'confirm': 4}\n",
    "web_group['process_step'] = web_group['process_step'].replace(process_dict)"
   ]
  },
  {
   "cell_type": "code",
   "execution_count": 8,
   "id": "6b46cd5e",
   "metadata": {},
   "outputs": [
    {
     "data": {
      "text/html": [
       "<div>\n",
       "<style scoped>\n",
       "    .dataframe tbody tr th:only-of-type {\n",
       "        vertical-align: middle;\n",
       "    }\n",
       "\n",
       "    .dataframe tbody tr th {\n",
       "        vertical-align: top;\n",
       "    }\n",
       "\n",
       "    .dataframe thead th {\n",
       "        text-align: right;\n",
       "    }\n",
       "</style>\n",
       "<table border=\"1\" class=\"dataframe\">\n",
       "  <thead>\n",
       "    <tr style=\"text-align: right;\">\n",
       "      <th></th>\n",
       "      <th>client_id</th>\n",
       "      <th>visitor_id</th>\n",
       "      <th>visit_id</th>\n",
       "      <th>process_step</th>\n",
       "      <th>date_time</th>\n",
       "    </tr>\n",
       "  </thead>\n",
       "  <tbody>\n",
       "    <tr>\n",
       "      <th>0</th>\n",
       "      <td>9988021</td>\n",
       "      <td>580560515_7732621733</td>\n",
       "      <td>781255054_21935453173_531117</td>\n",
       "      <td>3</td>\n",
       "      <td>2017-04-17 15:27:07</td>\n",
       "    </tr>\n",
       "    <tr>\n",
       "      <th>1</th>\n",
       "      <td>9988021</td>\n",
       "      <td>580560515_7732621733</td>\n",
       "      <td>781255054_21935453173_531117</td>\n",
       "      <td>2</td>\n",
       "      <td>2017-04-17 15:26:51</td>\n",
       "    </tr>\n",
       "    <tr>\n",
       "      <th>2</th>\n",
       "      <td>9988021</td>\n",
       "      <td>580560515_7732621733</td>\n",
       "      <td>781255054_21935453173_531117</td>\n",
       "      <td>3</td>\n",
       "      <td>2017-04-17 15:19:22</td>\n",
       "    </tr>\n",
       "    <tr>\n",
       "      <th>3</th>\n",
       "      <td>9988021</td>\n",
       "      <td>580560515_7732621733</td>\n",
       "      <td>781255054_21935453173_531117</td>\n",
       "      <td>2</td>\n",
       "      <td>2017-04-17 15:19:13</td>\n",
       "    </tr>\n",
       "    <tr>\n",
       "      <th>4</th>\n",
       "      <td>9988021</td>\n",
       "      <td>580560515_7732621733</td>\n",
       "      <td>781255054_21935453173_531117</td>\n",
       "      <td>3</td>\n",
       "      <td>2017-04-17 15:18:04</td>\n",
       "    </tr>\n",
       "    <tr>\n",
       "      <th>...</th>\n",
       "      <td>...</td>\n",
       "      <td>...</td>\n",
       "      <td>...</td>\n",
       "      <td>...</td>\n",
       "      <td>...</td>\n",
       "    </tr>\n",
       "    <tr>\n",
       "      <th>412259</th>\n",
       "      <td>9668240</td>\n",
       "      <td>388766751_9038881013</td>\n",
       "      <td>922267647_3096648104_968866</td>\n",
       "      <td>0</td>\n",
       "      <td>2017-05-24 18:46:10</td>\n",
       "    </tr>\n",
       "    <tr>\n",
       "      <th>412260</th>\n",
       "      <td>9668240</td>\n",
       "      <td>388766751_9038881013</td>\n",
       "      <td>922267647_3096648104_968866</td>\n",
       "      <td>0</td>\n",
       "      <td>2017-05-24 18:45:29</td>\n",
       "    </tr>\n",
       "    <tr>\n",
       "      <th>412261</th>\n",
       "      <td>9668240</td>\n",
       "      <td>388766751_9038881013</td>\n",
       "      <td>922267647_3096648104_968866</td>\n",
       "      <td>1</td>\n",
       "      <td>2017-05-24 18:44:51</td>\n",
       "    </tr>\n",
       "    <tr>\n",
       "      <th>412262</th>\n",
       "      <td>9668240</td>\n",
       "      <td>388766751_9038881013</td>\n",
       "      <td>922267647_3096648104_968866</td>\n",
       "      <td>0</td>\n",
       "      <td>2017-05-24 18:44:34</td>\n",
       "    </tr>\n",
       "    <tr>\n",
       "      <th>412263</th>\n",
       "      <td>674799</td>\n",
       "      <td>947159805_81558194550</td>\n",
       "      <td>86152093_47511127657_716022</td>\n",
       "      <td>0</td>\n",
       "      <td>2017-06-03 12:17:09</td>\n",
       "    </tr>\n",
       "  </tbody>\n",
       "</table>\n",
       "<p>755405 rows × 5 columns</p>\n",
       "</div>"
      ],
      "text/plain": [
       "        client_id             visitor_id                      visit_id  \\\n",
       "0         9988021   580560515_7732621733  781255054_21935453173_531117   \n",
       "1         9988021   580560515_7732621733  781255054_21935453173_531117   \n",
       "2         9988021   580560515_7732621733  781255054_21935453173_531117   \n",
       "3         9988021   580560515_7732621733  781255054_21935453173_531117   \n",
       "4         9988021   580560515_7732621733  781255054_21935453173_531117   \n",
       "...           ...                    ...                           ...   \n",
       "412259    9668240   388766751_9038881013   922267647_3096648104_968866   \n",
       "412260    9668240   388766751_9038881013   922267647_3096648104_968866   \n",
       "412261    9668240   388766751_9038881013   922267647_3096648104_968866   \n",
       "412262    9668240   388766751_9038881013   922267647_3096648104_968866   \n",
       "412263     674799  947159805_81558194550   86152093_47511127657_716022   \n",
       "\n",
       "        process_step           date_time  \n",
       "0                  3 2017-04-17 15:27:07  \n",
       "1                  2 2017-04-17 15:26:51  \n",
       "2                  3 2017-04-17 15:19:22  \n",
       "3                  2 2017-04-17 15:19:13  \n",
       "4                  3 2017-04-17 15:18:04  \n",
       "...              ...                 ...  \n",
       "412259             0 2017-05-24 18:46:10  \n",
       "412260             0 2017-05-24 18:45:29  \n",
       "412261             1 2017-05-24 18:44:51  \n",
       "412262             0 2017-05-24 18:44:34  \n",
       "412263             0 2017-06-03 12:17:09  \n",
       "\n",
       "[755405 rows x 5 columns]"
      ]
     },
     "execution_count": 8,
     "metadata": {},
     "output_type": "execute_result"
    }
   ],
   "source": [
    "web_group"
   ]
  },
  {
   "cell_type": "code",
   "execution_count": 9,
   "id": "df155553",
   "metadata": {},
   "outputs": [
    {
     "data": {
      "text/plain": [
       "158095"
      ]
     },
     "execution_count": 9,
     "metadata": {},
     "output_type": "execute_result"
    }
   ],
   "source": [
    "web_group['visit_id'].nunique()"
   ]
  },
  {
   "cell_type": "code",
   "execution_count": 96,
   "id": "c7d4cebf",
   "metadata": {},
   "outputs": [
    {
     "data": {
      "text/plain": [
       "130236"
      ]
     },
     "execution_count": 96,
     "metadata": {},
     "output_type": "execute_result"
    }
   ],
   "source": [
    "web_group['visitor_id'].nunique()"
   ]
  },
  {
   "cell_type": "code",
   "execution_count": 97,
   "id": "830981d3",
   "metadata": {},
   "outputs": [
    {
     "data": {
      "text/plain": [
       "120157"
      ]
     },
     "execution_count": 97,
     "metadata": {},
     "output_type": "execute_result"
    }
   ],
   "source": [
    "web_group['client_id'].nunique()"
   ]
  },
  {
   "cell_type": "code",
   "execution_count": 98,
   "id": "96ceb741",
   "metadata": {},
   "outputs": [
    {
     "data": {
      "text/plain": [
       "5"
      ]
     },
     "execution_count": 98,
     "metadata": {},
     "output_type": "execute_result"
    }
   ],
   "source": [
    "web_group['process_step'].nunique()"
   ]
  },
  {
   "cell_type": "code",
   "execution_count": 99,
   "id": "ab8eb288",
   "metadata": {},
   "outputs": [
    {
     "data": {
      "text/plain": [
       "629363"
      ]
     },
     "execution_count": 99,
     "metadata": {},
     "output_type": "execute_result"
    }
   ],
   "source": [
    "web_group['date_time'].nunique()"
   ]
  },
  {
   "cell_type": "markdown",
   "id": "61d712c0",
   "metadata": {},
   "source": [
    "Creating a count of how many times the client was on a specific step."
   ]
  },
  {
   "cell_type": "code",
   "execution_count": 100,
   "id": "ed7a51fa",
   "metadata": {},
   "outputs": [],
   "source": [
    "client_process_counts = web_group.groupby('client_id')['process_step'].value_counts().unstack(fill_value=0)"
   ]
  },
  {
   "cell_type": "code",
   "execution_count": 103,
   "id": "95840578",
   "metadata": {},
   "outputs": [
    {
     "data": {
      "text/html": [
       "<div>\n",
       "<style scoped>\n",
       "    .dataframe tbody tr th:only-of-type {\n",
       "        vertical-align: middle;\n",
       "    }\n",
       "\n",
       "    .dataframe tbody tr th {\n",
       "        vertical-align: top;\n",
       "    }\n",
       "\n",
       "    .dataframe thead th {\n",
       "        text-align: right;\n",
       "    }\n",
       "</style>\n",
       "<table border=\"1\" class=\"dataframe\">\n",
       "  <thead>\n",
       "    <tr style=\"text-align: right;\">\n",
       "      <th>process_step</th>\n",
       "      <th>0</th>\n",
       "      <th>1</th>\n",
       "      <th>2</th>\n",
       "      <th>3</th>\n",
       "      <th>4</th>\n",
       "    </tr>\n",
       "    <tr>\n",
       "      <th>client_id</th>\n",
       "      <th></th>\n",
       "      <th></th>\n",
       "      <th></th>\n",
       "      <th></th>\n",
       "      <th></th>\n",
       "    </tr>\n",
       "  </thead>\n",
       "  <tbody>\n",
       "    <tr>\n",
       "      <th>169</th>\n",
       "      <td>1</td>\n",
       "      <td>1</td>\n",
       "      <td>1</td>\n",
       "      <td>1</td>\n",
       "      <td>1</td>\n",
       "    </tr>\n",
       "    <tr>\n",
       "      <th>336</th>\n",
       "      <td>2</td>\n",
       "      <td>0</td>\n",
       "      <td>0</td>\n",
       "      <td>0</td>\n",
       "      <td>0</td>\n",
       "    </tr>\n",
       "    <tr>\n",
       "      <th>546</th>\n",
       "      <td>1</td>\n",
       "      <td>1</td>\n",
       "      <td>1</td>\n",
       "      <td>1</td>\n",
       "      <td>1</td>\n",
       "    </tr>\n",
       "    <tr>\n",
       "      <th>555</th>\n",
       "      <td>1</td>\n",
       "      <td>1</td>\n",
       "      <td>1</td>\n",
       "      <td>1</td>\n",
       "      <td>1</td>\n",
       "    </tr>\n",
       "    <tr>\n",
       "      <th>647</th>\n",
       "      <td>1</td>\n",
       "      <td>1</td>\n",
       "      <td>1</td>\n",
       "      <td>1</td>\n",
       "      <td>1</td>\n",
       "    </tr>\n",
       "    <tr>\n",
       "      <th>...</th>\n",
       "      <td>...</td>\n",
       "      <td>...</td>\n",
       "      <td>...</td>\n",
       "      <td>...</td>\n",
       "      <td>...</td>\n",
       "    </tr>\n",
       "    <tr>\n",
       "      <th>9999729</th>\n",
       "      <td>4</td>\n",
       "      <td>3</td>\n",
       "      <td>2</td>\n",
       "      <td>1</td>\n",
       "      <td>1</td>\n",
       "    </tr>\n",
       "    <tr>\n",
       "      <th>9999768</th>\n",
       "      <td>3</td>\n",
       "      <td>3</td>\n",
       "      <td>3</td>\n",
       "      <td>2</td>\n",
       "      <td>1</td>\n",
       "    </tr>\n",
       "    <tr>\n",
       "      <th>9999832</th>\n",
       "      <td>1</td>\n",
       "      <td>1</td>\n",
       "      <td>0</td>\n",
       "      <td>0</td>\n",
       "      <td>0</td>\n",
       "    </tr>\n",
       "    <tr>\n",
       "      <th>9999839</th>\n",
       "      <td>2</td>\n",
       "      <td>1</td>\n",
       "      <td>1</td>\n",
       "      <td>1</td>\n",
       "      <td>1</td>\n",
       "    </tr>\n",
       "    <tr>\n",
       "      <th>9999875</th>\n",
       "      <td>1</td>\n",
       "      <td>2</td>\n",
       "      <td>1</td>\n",
       "      <td>1</td>\n",
       "      <td>1</td>\n",
       "    </tr>\n",
       "  </tbody>\n",
       "</table>\n",
       "<p>120157 rows × 5 columns</p>\n",
       "</div>"
      ],
      "text/plain": [
       "process_step  0  1  2  3  4\n",
       "client_id                  \n",
       "169           1  1  1  1  1\n",
       "336           2  0  0  0  0\n",
       "546           1  1  1  1  1\n",
       "555           1  1  1  1  1\n",
       "647           1  1  1  1  1\n",
       "...          .. .. .. .. ..\n",
       "9999729       4  3  2  1  1\n",
       "9999768       3  3  3  2  1\n",
       "9999832       1  1  0  0  0\n",
       "9999839       2  1  1  1  1\n",
       "9999875       1  2  1  1  1\n",
       "\n",
       "[120157 rows x 5 columns]"
      ]
     },
     "execution_count": 103,
     "metadata": {},
     "output_type": "execute_result"
    }
   ],
   "source": [
    "client_process_counts"
   ]
  },
  {
   "cell_type": "code",
   "execution_count": 106,
   "id": "f2fa9399",
   "metadata": {},
   "outputs": [],
   "source": [
    "# Renaming columns.\n",
    "column_rename = {0: 'start', 1: 'step_1', 2: 'step_2', 3: 'step_3', 4: 'confirm'}\n",
    "client_process_counts = client_process_counts.rename(columns=column_rename)"
   ]
  },
  {
   "cell_type": "code",
   "execution_count": 107,
   "id": "a960db8c",
   "metadata": {},
   "outputs": [
    {
     "data": {
      "text/html": [
       "<div>\n",
       "<style scoped>\n",
       "    .dataframe tbody tr th:only-of-type {\n",
       "        vertical-align: middle;\n",
       "    }\n",
       "\n",
       "    .dataframe tbody tr th {\n",
       "        vertical-align: top;\n",
       "    }\n",
       "\n",
       "    .dataframe thead th {\n",
       "        text-align: right;\n",
       "    }\n",
       "</style>\n",
       "<table border=\"1\" class=\"dataframe\">\n",
       "  <thead>\n",
       "    <tr style=\"text-align: right;\">\n",
       "      <th>process_step</th>\n",
       "      <th>start</th>\n",
       "      <th>step_1</th>\n",
       "      <th>step_2</th>\n",
       "      <th>step_3</th>\n",
       "      <th>confirm</th>\n",
       "    </tr>\n",
       "    <tr>\n",
       "      <th>client_id</th>\n",
       "      <th></th>\n",
       "      <th></th>\n",
       "      <th></th>\n",
       "      <th></th>\n",
       "      <th></th>\n",
       "    </tr>\n",
       "  </thead>\n",
       "  <tbody>\n",
       "    <tr>\n",
       "      <th>169</th>\n",
       "      <td>1</td>\n",
       "      <td>1</td>\n",
       "      <td>1</td>\n",
       "      <td>1</td>\n",
       "      <td>1</td>\n",
       "    </tr>\n",
       "    <tr>\n",
       "      <th>336</th>\n",
       "      <td>2</td>\n",
       "      <td>0</td>\n",
       "      <td>0</td>\n",
       "      <td>0</td>\n",
       "      <td>0</td>\n",
       "    </tr>\n",
       "    <tr>\n",
       "      <th>546</th>\n",
       "      <td>1</td>\n",
       "      <td>1</td>\n",
       "      <td>1</td>\n",
       "      <td>1</td>\n",
       "      <td>1</td>\n",
       "    </tr>\n",
       "    <tr>\n",
       "      <th>555</th>\n",
       "      <td>1</td>\n",
       "      <td>1</td>\n",
       "      <td>1</td>\n",
       "      <td>1</td>\n",
       "      <td>1</td>\n",
       "    </tr>\n",
       "    <tr>\n",
       "      <th>647</th>\n",
       "      <td>1</td>\n",
       "      <td>1</td>\n",
       "      <td>1</td>\n",
       "      <td>1</td>\n",
       "      <td>1</td>\n",
       "    </tr>\n",
       "    <tr>\n",
       "      <th>...</th>\n",
       "      <td>...</td>\n",
       "      <td>...</td>\n",
       "      <td>...</td>\n",
       "      <td>...</td>\n",
       "      <td>...</td>\n",
       "    </tr>\n",
       "    <tr>\n",
       "      <th>9999729</th>\n",
       "      <td>4</td>\n",
       "      <td>3</td>\n",
       "      <td>2</td>\n",
       "      <td>1</td>\n",
       "      <td>1</td>\n",
       "    </tr>\n",
       "    <tr>\n",
       "      <th>9999768</th>\n",
       "      <td>3</td>\n",
       "      <td>3</td>\n",
       "      <td>3</td>\n",
       "      <td>2</td>\n",
       "      <td>1</td>\n",
       "    </tr>\n",
       "    <tr>\n",
       "      <th>9999832</th>\n",
       "      <td>1</td>\n",
       "      <td>1</td>\n",
       "      <td>0</td>\n",
       "      <td>0</td>\n",
       "      <td>0</td>\n",
       "    </tr>\n",
       "    <tr>\n",
       "      <th>9999839</th>\n",
       "      <td>2</td>\n",
       "      <td>1</td>\n",
       "      <td>1</td>\n",
       "      <td>1</td>\n",
       "      <td>1</td>\n",
       "    </tr>\n",
       "    <tr>\n",
       "      <th>9999875</th>\n",
       "      <td>1</td>\n",
       "      <td>2</td>\n",
       "      <td>1</td>\n",
       "      <td>1</td>\n",
       "      <td>1</td>\n",
       "    </tr>\n",
       "  </tbody>\n",
       "</table>\n",
       "<p>120157 rows × 5 columns</p>\n",
       "</div>"
      ],
      "text/plain": [
       "process_step  start  step_1  step_2  step_3  confirm\n",
       "client_id                                           \n",
       "169               1       1       1       1        1\n",
       "336               2       0       0       0        0\n",
       "546               1       1       1       1        1\n",
       "555               1       1       1       1        1\n",
       "647               1       1       1       1        1\n",
       "...             ...     ...     ...     ...      ...\n",
       "9999729           4       3       2       1        1\n",
       "9999768           3       3       3       2        1\n",
       "9999832           1       1       0       0        0\n",
       "9999839           2       1       1       1        1\n",
       "9999875           1       2       1       1        1\n",
       "\n",
       "[120157 rows x 5 columns]"
      ]
     },
     "execution_count": 107,
     "metadata": {},
     "output_type": "execute_result"
    }
   ],
   "source": [
    "client_process_counts"
   ]
  },
  {
   "cell_type": "markdown",
   "id": "8962a301",
   "metadata": {},
   "source": [
    "Merging process_counts with experiment roster to filter out the clients that weren't part of the experiment."
   ]
  },
  {
   "cell_type": "code",
   "execution_count": 108,
   "id": "4b3f794a",
   "metadata": {},
   "outputs": [],
   "source": [
    "final_rooster_process_counts = pd.merge(client_process_counts, experiment_roster, on='client_id', how='inner')"
   ]
  },
  {
   "cell_type": "markdown",
   "id": "3e26c224",
   "metadata": {},
   "source": [
    "Adding client information to last dataframe(final_rooster_process_counts)."
   ]
  },
  {
   "cell_type": "code",
   "execution_count": 109,
   "id": "f2898414",
   "metadata": {},
   "outputs": [],
   "source": [
    "final_rooster_process_counts_profile = pd.merge(final_rooster_process_counts, client_profiles, on='client_id', how='inner')"
   ]
  },
  {
   "cell_type": "code",
   "execution_count": 110,
   "id": "f7033742",
   "metadata": {},
   "outputs": [
    {
     "data": {
      "text/html": [
       "<div>\n",
       "<style scoped>\n",
       "    .dataframe tbody tr th:only-of-type {\n",
       "        vertical-align: middle;\n",
       "    }\n",
       "\n",
       "    .dataframe tbody tr th {\n",
       "        vertical-align: top;\n",
       "    }\n",
       "\n",
       "    .dataframe thead th {\n",
       "        text-align: right;\n",
       "    }\n",
       "</style>\n",
       "<table border=\"1\" class=\"dataframe\">\n",
       "  <thead>\n",
       "    <tr style=\"text-align: right;\">\n",
       "      <th></th>\n",
       "      <th>client_id</th>\n",
       "      <th>start</th>\n",
       "      <th>step_1</th>\n",
       "      <th>step_2</th>\n",
       "      <th>step_3</th>\n",
       "      <th>confirm</th>\n",
       "      <th>Variation</th>\n",
       "      <th>clnt_tenure_yr</th>\n",
       "      <th>clnt_tenure_mnth</th>\n",
       "      <th>clnt_age</th>\n",
       "      <th>gendr</th>\n",
       "      <th>num_accts</th>\n",
       "      <th>bal</th>\n",
       "      <th>calls_6_mnth</th>\n",
       "      <th>logons_6_mnth</th>\n",
       "    </tr>\n",
       "  </thead>\n",
       "  <tbody>\n",
       "    <tr>\n",
       "      <th>0</th>\n",
       "      <td>555</td>\n",
       "      <td>1</td>\n",
       "      <td>1</td>\n",
       "      <td>1</td>\n",
       "      <td>1</td>\n",
       "      <td>1</td>\n",
       "      <td>Test</td>\n",
       "      <td>3.0</td>\n",
       "      <td>46.0</td>\n",
       "      <td>29.5</td>\n",
       "      <td>U</td>\n",
       "      <td>2.0</td>\n",
       "      <td>25454.66</td>\n",
       "      <td>2.0</td>\n",
       "      <td>6.0</td>\n",
       "    </tr>\n",
       "    <tr>\n",
       "      <th>1</th>\n",
       "      <td>647</td>\n",
       "      <td>1</td>\n",
       "      <td>1</td>\n",
       "      <td>1</td>\n",
       "      <td>1</td>\n",
       "      <td>1</td>\n",
       "      <td>Test</td>\n",
       "      <td>12.0</td>\n",
       "      <td>151.0</td>\n",
       "      <td>57.5</td>\n",
       "      <td>M</td>\n",
       "      <td>2.0</td>\n",
       "      <td>30525.80</td>\n",
       "      <td>0.0</td>\n",
       "      <td>4.0</td>\n",
       "    </tr>\n",
       "    <tr>\n",
       "      <th>2</th>\n",
       "      <td>934</td>\n",
       "      <td>4</td>\n",
       "      <td>0</td>\n",
       "      <td>0</td>\n",
       "      <td>0</td>\n",
       "      <td>0</td>\n",
       "      <td>Test</td>\n",
       "      <td>9.0</td>\n",
       "      <td>109.0</td>\n",
       "      <td>51.0</td>\n",
       "      <td>F</td>\n",
       "      <td>2.0</td>\n",
       "      <td>32522.88</td>\n",
       "      <td>0.0</td>\n",
       "      <td>3.0</td>\n",
       "    </tr>\n",
       "    <tr>\n",
       "      <th>3</th>\n",
       "      <td>1028</td>\n",
       "      <td>1</td>\n",
       "      <td>5</td>\n",
       "      <td>2</td>\n",
       "      <td>1</td>\n",
       "      <td>0</td>\n",
       "      <td>Control</td>\n",
       "      <td>12.0</td>\n",
       "      <td>145.0</td>\n",
       "      <td>36.0</td>\n",
       "      <td>M</td>\n",
       "      <td>3.0</td>\n",
       "      <td>103520.22</td>\n",
       "      <td>1.0</td>\n",
       "      <td>4.0</td>\n",
       "    </tr>\n",
       "    <tr>\n",
       "      <th>4</th>\n",
       "      <td>1104</td>\n",
       "      <td>2</td>\n",
       "      <td>0</td>\n",
       "      <td>0</td>\n",
       "      <td>0</td>\n",
       "      <td>0</td>\n",
       "      <td>Control</td>\n",
       "      <td>5.0</td>\n",
       "      <td>66.0</td>\n",
       "      <td>48.0</td>\n",
       "      <td>U</td>\n",
       "      <td>3.0</td>\n",
       "      <td>154643.94</td>\n",
       "      <td>6.0</td>\n",
       "      <td>9.0</td>\n",
       "    </tr>\n",
       "    <tr>\n",
       "      <th>...</th>\n",
       "      <td>...</td>\n",
       "      <td>...</td>\n",
       "      <td>...</td>\n",
       "      <td>...</td>\n",
       "      <td>...</td>\n",
       "      <td>...</td>\n",
       "      <td>...</td>\n",
       "      <td>...</td>\n",
       "      <td>...</td>\n",
       "      <td>...</td>\n",
       "      <td>...</td>\n",
       "      <td>...</td>\n",
       "      <td>...</td>\n",
       "      <td>...</td>\n",
       "      <td>...</td>\n",
       "    </tr>\n",
       "    <tr>\n",
       "      <th>50495</th>\n",
       "      <td>9999150</td>\n",
       "      <td>2</td>\n",
       "      <td>1</td>\n",
       "      <td>0</td>\n",
       "      <td>0</td>\n",
       "      <td>0</td>\n",
       "      <td>Test</td>\n",
       "      <td>5.0</td>\n",
       "      <td>66.0</td>\n",
       "      <td>30.0</td>\n",
       "      <td>U</td>\n",
       "      <td>3.0</td>\n",
       "      <td>97141.71</td>\n",
       "      <td>6.0</td>\n",
       "      <td>9.0</td>\n",
       "    </tr>\n",
       "    <tr>\n",
       "      <th>50496</th>\n",
       "      <td>9999400</td>\n",
       "      <td>1</td>\n",
       "      <td>1</td>\n",
       "      <td>1</td>\n",
       "      <td>1</td>\n",
       "      <td>1</td>\n",
       "      <td>Test</td>\n",
       "      <td>7.0</td>\n",
       "      <td>86.0</td>\n",
       "      <td>28.5</td>\n",
       "      <td>U</td>\n",
       "      <td>2.0</td>\n",
       "      <td>51787.04</td>\n",
       "      <td>0.0</td>\n",
       "      <td>3.0</td>\n",
       "    </tr>\n",
       "    <tr>\n",
       "      <th>50497</th>\n",
       "      <td>9999626</td>\n",
       "      <td>1</td>\n",
       "      <td>1</td>\n",
       "      <td>0</td>\n",
       "      <td>0</td>\n",
       "      <td>0</td>\n",
       "      <td>Test</td>\n",
       "      <td>9.0</td>\n",
       "      <td>113.0</td>\n",
       "      <td>35.0</td>\n",
       "      <td>M</td>\n",
       "      <td>2.0</td>\n",
       "      <td>36642.88</td>\n",
       "      <td>6.0</td>\n",
       "      <td>9.0</td>\n",
       "    </tr>\n",
       "    <tr>\n",
       "      <th>50498</th>\n",
       "      <td>9999729</td>\n",
       "      <td>4</td>\n",
       "      <td>3</td>\n",
       "      <td>2</td>\n",
       "      <td>1</td>\n",
       "      <td>1</td>\n",
       "      <td>Test</td>\n",
       "      <td>10.0</td>\n",
       "      <td>124.0</td>\n",
       "      <td>31.0</td>\n",
       "      <td>F</td>\n",
       "      <td>3.0</td>\n",
       "      <td>107059.74</td>\n",
       "      <td>6.0</td>\n",
       "      <td>9.0</td>\n",
       "    </tr>\n",
       "    <tr>\n",
       "      <th>50499</th>\n",
       "      <td>9999832</td>\n",
       "      <td>1</td>\n",
       "      <td>1</td>\n",
       "      <td>0</td>\n",
       "      <td>0</td>\n",
       "      <td>0</td>\n",
       "      <td>Test</td>\n",
       "      <td>23.0</td>\n",
       "      <td>281.0</td>\n",
       "      <td>49.0</td>\n",
       "      <td>F</td>\n",
       "      <td>2.0</td>\n",
       "      <td>431887.61</td>\n",
       "      <td>1.0</td>\n",
       "      <td>4.0</td>\n",
       "    </tr>\n",
       "  </tbody>\n",
       "</table>\n",
       "<p>50500 rows × 15 columns</p>\n",
       "</div>"
      ],
      "text/plain": [
       "       client_id  start  step_1  step_2  step_3  confirm Variation  \\\n",
       "0            555      1       1       1       1        1      Test   \n",
       "1            647      1       1       1       1        1      Test   \n",
       "2            934      4       0       0       0        0      Test   \n",
       "3           1028      1       5       2       1        0   Control   \n",
       "4           1104      2       0       0       0        0   Control   \n",
       "...          ...    ...     ...     ...     ...      ...       ...   \n",
       "50495    9999150      2       1       0       0        0      Test   \n",
       "50496    9999400      1       1       1       1        1      Test   \n",
       "50497    9999626      1       1       0       0        0      Test   \n",
       "50498    9999729      4       3       2       1        1      Test   \n",
       "50499    9999832      1       1       0       0        0      Test   \n",
       "\n",
       "       clnt_tenure_yr  clnt_tenure_mnth  clnt_age gendr  num_accts        bal  \\\n",
       "0                 3.0              46.0      29.5     U        2.0   25454.66   \n",
       "1                12.0             151.0      57.5     M        2.0   30525.80   \n",
       "2                 9.0             109.0      51.0     F        2.0   32522.88   \n",
       "3                12.0             145.0      36.0     M        3.0  103520.22   \n",
       "4                 5.0              66.0      48.0     U        3.0  154643.94   \n",
       "...               ...               ...       ...   ...        ...        ...   \n",
       "50495             5.0              66.0      30.0     U        3.0   97141.71   \n",
       "50496             7.0              86.0      28.5     U        2.0   51787.04   \n",
       "50497             9.0             113.0      35.0     M        2.0   36642.88   \n",
       "50498            10.0             124.0      31.0     F        3.0  107059.74   \n",
       "50499            23.0             281.0      49.0     F        2.0  431887.61   \n",
       "\n",
       "       calls_6_mnth  logons_6_mnth  \n",
       "0               2.0            6.0  \n",
       "1               0.0            4.0  \n",
       "2               0.0            3.0  \n",
       "3               1.0            4.0  \n",
       "4               6.0            9.0  \n",
       "...             ...            ...  \n",
       "50495           6.0            9.0  \n",
       "50496           0.0            3.0  \n",
       "50497           6.0            9.0  \n",
       "50498           6.0            9.0  \n",
       "50499           1.0            4.0  \n",
       "\n",
       "[50500 rows x 15 columns]"
      ]
     },
     "execution_count": 110,
     "metadata": {},
     "output_type": "execute_result"
    }
   ],
   "source": [
    "final_rooster_process_counts_profile"
   ]
  },
  {
   "cell_type": "markdown",
   "id": "62ca3507",
   "metadata": {},
   "source": [
    "Extracting clients from each group."
   ]
  },
  {
   "cell_type": "code",
   "execution_count": 111,
   "id": "3cfcbf6b",
   "metadata": {},
   "outputs": [],
   "source": [
    "control_df = final_rooster_process_counts[final_rooster_process_counts['Variation'] == 'Control']\n",
    "test_df = final_rooster_process_counts[final_rooster_process_counts['Variation'] == 'Test']"
   ]
  },
  {
   "cell_type": "code",
   "execution_count": 112,
   "id": "caba8c2d",
   "metadata": {
    "scrolled": false
   },
   "outputs": [
    {
     "data": {
      "text/html": [
       "<div>\n",
       "<style scoped>\n",
       "    .dataframe tbody tr th:only-of-type {\n",
       "        vertical-align: middle;\n",
       "    }\n",
       "\n",
       "    .dataframe tbody tr th {\n",
       "        vertical-align: top;\n",
       "    }\n",
       "\n",
       "    .dataframe thead th {\n",
       "        text-align: right;\n",
       "    }\n",
       "</style>\n",
       "<table border=\"1\" class=\"dataframe\">\n",
       "  <thead>\n",
       "    <tr style=\"text-align: right;\">\n",
       "      <th></th>\n",
       "      <th>client_id</th>\n",
       "      <th>start</th>\n",
       "      <th>step_1</th>\n",
       "      <th>step_2</th>\n",
       "      <th>step_3</th>\n",
       "      <th>confirm</th>\n",
       "      <th>Variation</th>\n",
       "    </tr>\n",
       "  </thead>\n",
       "  <tbody>\n",
       "    <tr>\n",
       "      <th>3</th>\n",
       "      <td>1028</td>\n",
       "      <td>1</td>\n",
       "      <td>5</td>\n",
       "      <td>2</td>\n",
       "      <td>1</td>\n",
       "      <td>0</td>\n",
       "      <td>Control</td>\n",
       "    </tr>\n",
       "    <tr>\n",
       "      <th>4</th>\n",
       "      <td>1104</td>\n",
       "      <td>2</td>\n",
       "      <td>0</td>\n",
       "      <td>0</td>\n",
       "      <td>0</td>\n",
       "      <td>0</td>\n",
       "      <td>Control</td>\n",
       "    </tr>\n",
       "    <tr>\n",
       "      <th>5</th>\n",
       "      <td>1186</td>\n",
       "      <td>2</td>\n",
       "      <td>1</td>\n",
       "      <td>1</td>\n",
       "      <td>0</td>\n",
       "      <td>0</td>\n",
       "      <td>Control</td>\n",
       "    </tr>\n",
       "    <tr>\n",
       "      <th>6</th>\n",
       "      <td>1195</td>\n",
       "      <td>1</td>\n",
       "      <td>1</td>\n",
       "      <td>1</td>\n",
       "      <td>1</td>\n",
       "      <td>1</td>\n",
       "      <td>Control</td>\n",
       "    </tr>\n",
       "    <tr>\n",
       "      <th>7</th>\n",
       "      <td>1197</td>\n",
       "      <td>1</td>\n",
       "      <td>1</td>\n",
       "      <td>2</td>\n",
       "      <td>2</td>\n",
       "      <td>1</td>\n",
       "      <td>Control</td>\n",
       "    </tr>\n",
       "    <tr>\n",
       "      <th>...</th>\n",
       "      <td>...</td>\n",
       "      <td>...</td>\n",
       "      <td>...</td>\n",
       "      <td>...</td>\n",
       "      <td>...</td>\n",
       "      <td>...</td>\n",
       "      <td>...</td>\n",
       "    </tr>\n",
       "    <tr>\n",
       "      <th>50485</th>\n",
       "      <td>9997125</td>\n",
       "      <td>1</td>\n",
       "      <td>1</td>\n",
       "      <td>1</td>\n",
       "      <td>1</td>\n",
       "      <td>1</td>\n",
       "      <td>Control</td>\n",
       "    </tr>\n",
       "    <tr>\n",
       "      <th>50486</th>\n",
       "      <td>9997391</td>\n",
       "      <td>1</td>\n",
       "      <td>1</td>\n",
       "      <td>3</td>\n",
       "      <td>3</td>\n",
       "      <td>0</td>\n",
       "      <td>Control</td>\n",
       "    </tr>\n",
       "    <tr>\n",
       "      <th>50487</th>\n",
       "      <td>9997470</td>\n",
       "      <td>8</td>\n",
       "      <td>4</td>\n",
       "      <td>2</td>\n",
       "      <td>2</td>\n",
       "      <td>1</td>\n",
       "      <td>Control</td>\n",
       "    </tr>\n",
       "    <tr>\n",
       "      <th>50489</th>\n",
       "      <td>9998346</td>\n",
       "      <td>1</td>\n",
       "      <td>2</td>\n",
       "      <td>4</td>\n",
       "      <td>4</td>\n",
       "      <td>1</td>\n",
       "      <td>Control</td>\n",
       "    </tr>\n",
       "    <tr>\n",
       "      <th>50492</th>\n",
       "      <td>9998921</td>\n",
       "      <td>1</td>\n",
       "      <td>0</td>\n",
       "      <td>0</td>\n",
       "      <td>0</td>\n",
       "      <td>0</td>\n",
       "      <td>Control</td>\n",
       "    </tr>\n",
       "  </tbody>\n",
       "</table>\n",
       "<p>23532 rows × 7 columns</p>\n",
       "</div>"
      ],
      "text/plain": [
       "       client_id  start  step_1  step_2  step_3  confirm Variation\n",
       "3           1028      1       5       2       1        0   Control\n",
       "4           1104      2       0       0       0        0   Control\n",
       "5           1186      2       1       1       0        0   Control\n",
       "6           1195      1       1       1       1        1   Control\n",
       "7           1197      1       1       2       2        1   Control\n",
       "...          ...    ...     ...     ...     ...      ...       ...\n",
       "50485    9997125      1       1       1       1        1   Control\n",
       "50486    9997391      1       1       3       3        0   Control\n",
       "50487    9997470      8       4       2       2        1   Control\n",
       "50489    9998346      1       2       4       4        1   Control\n",
       "50492    9998921      1       0       0       0        0   Control\n",
       "\n",
       "[23532 rows x 7 columns]"
      ]
     },
     "execution_count": 112,
     "metadata": {},
     "output_type": "execute_result"
    }
   ],
   "source": [
    "control_df"
   ]
  },
  {
   "cell_type": "code",
   "execution_count": 113,
   "id": "7359b1a7",
   "metadata": {},
   "outputs": [
    {
     "data": {
      "text/html": [
       "<div>\n",
       "<style scoped>\n",
       "    .dataframe tbody tr th:only-of-type {\n",
       "        vertical-align: middle;\n",
       "    }\n",
       "\n",
       "    .dataframe tbody tr th {\n",
       "        vertical-align: top;\n",
       "    }\n",
       "\n",
       "    .dataframe thead th {\n",
       "        text-align: right;\n",
       "    }\n",
       "</style>\n",
       "<table border=\"1\" class=\"dataframe\">\n",
       "  <thead>\n",
       "    <tr style=\"text-align: right;\">\n",
       "      <th></th>\n",
       "      <th>client_id</th>\n",
       "      <th>start</th>\n",
       "      <th>step_1</th>\n",
       "      <th>step_2</th>\n",
       "      <th>step_3</th>\n",
       "      <th>confirm</th>\n",
       "      <th>Variation</th>\n",
       "    </tr>\n",
       "  </thead>\n",
       "  <tbody>\n",
       "    <tr>\n",
       "      <th>0</th>\n",
       "      <td>555</td>\n",
       "      <td>1</td>\n",
       "      <td>1</td>\n",
       "      <td>1</td>\n",
       "      <td>1</td>\n",
       "      <td>1</td>\n",
       "      <td>Test</td>\n",
       "    </tr>\n",
       "    <tr>\n",
       "      <th>1</th>\n",
       "      <td>647</td>\n",
       "      <td>1</td>\n",
       "      <td>1</td>\n",
       "      <td>1</td>\n",
       "      <td>1</td>\n",
       "      <td>1</td>\n",
       "      <td>Test</td>\n",
       "    </tr>\n",
       "    <tr>\n",
       "      <th>2</th>\n",
       "      <td>934</td>\n",
       "      <td>4</td>\n",
       "      <td>0</td>\n",
       "      <td>0</td>\n",
       "      <td>0</td>\n",
       "      <td>0</td>\n",
       "      <td>Test</td>\n",
       "    </tr>\n",
       "    <tr>\n",
       "      <th>8</th>\n",
       "      <td>1336</td>\n",
       "      <td>1</td>\n",
       "      <td>1</td>\n",
       "      <td>1</td>\n",
       "      <td>1</td>\n",
       "      <td>3</td>\n",
       "      <td>Test</td>\n",
       "    </tr>\n",
       "    <tr>\n",
       "      <th>9</th>\n",
       "      <td>1346</td>\n",
       "      <td>5</td>\n",
       "      <td>2</td>\n",
       "      <td>1</td>\n",
       "      <td>2</td>\n",
       "      <td>0</td>\n",
       "      <td>Test</td>\n",
       "    </tr>\n",
       "    <tr>\n",
       "      <th>...</th>\n",
       "      <td>...</td>\n",
       "      <td>...</td>\n",
       "      <td>...</td>\n",
       "      <td>...</td>\n",
       "      <td>...</td>\n",
       "      <td>...</td>\n",
       "      <td>...</td>\n",
       "    </tr>\n",
       "    <tr>\n",
       "      <th>50495</th>\n",
       "      <td>9999150</td>\n",
       "      <td>2</td>\n",
       "      <td>1</td>\n",
       "      <td>0</td>\n",
       "      <td>0</td>\n",
       "      <td>0</td>\n",
       "      <td>Test</td>\n",
       "    </tr>\n",
       "    <tr>\n",
       "      <th>50496</th>\n",
       "      <td>9999400</td>\n",
       "      <td>1</td>\n",
       "      <td>1</td>\n",
       "      <td>1</td>\n",
       "      <td>1</td>\n",
       "      <td>1</td>\n",
       "      <td>Test</td>\n",
       "    </tr>\n",
       "    <tr>\n",
       "      <th>50497</th>\n",
       "      <td>9999626</td>\n",
       "      <td>1</td>\n",
       "      <td>1</td>\n",
       "      <td>0</td>\n",
       "      <td>0</td>\n",
       "      <td>0</td>\n",
       "      <td>Test</td>\n",
       "    </tr>\n",
       "    <tr>\n",
       "      <th>50498</th>\n",
       "      <td>9999729</td>\n",
       "      <td>4</td>\n",
       "      <td>3</td>\n",
       "      <td>2</td>\n",
       "      <td>1</td>\n",
       "      <td>1</td>\n",
       "      <td>Test</td>\n",
       "    </tr>\n",
       "    <tr>\n",
       "      <th>50499</th>\n",
       "      <td>9999832</td>\n",
       "      <td>1</td>\n",
       "      <td>1</td>\n",
       "      <td>0</td>\n",
       "      <td>0</td>\n",
       "      <td>0</td>\n",
       "      <td>Test</td>\n",
       "    </tr>\n",
       "  </tbody>\n",
       "</table>\n",
       "<p>26968 rows × 7 columns</p>\n",
       "</div>"
      ],
      "text/plain": [
       "       client_id  start  step_1  step_2  step_3  confirm Variation\n",
       "0            555      1       1       1       1        1      Test\n",
       "1            647      1       1       1       1        1      Test\n",
       "2            934      4       0       0       0        0      Test\n",
       "8           1336      1       1       1       1        3      Test\n",
       "9           1346      5       2       1       2        0      Test\n",
       "...          ...    ...     ...     ...     ...      ...       ...\n",
       "50495    9999150      2       1       0       0        0      Test\n",
       "50496    9999400      1       1       1       1        1      Test\n",
       "50497    9999626      1       1       0       0        0      Test\n",
       "50498    9999729      4       3       2       1        1      Test\n",
       "50499    9999832      1       1       0       0        0      Test\n",
       "\n",
       "[26968 rows x 7 columns]"
      ]
     },
     "execution_count": 113,
     "metadata": {},
     "output_type": "execute_result"
    }
   ],
   "source": [
    "test_df"
   ]
  },
  {
   "cell_type": "markdown",
   "id": "bd15ed80",
   "metadata": {},
   "source": [
    "Verifying how many clients reached the last step in both groups."
   ]
  },
  {
   "cell_type": "code",
   "execution_count": 114,
   "id": "18cb2b0e",
   "metadata": {},
   "outputs": [
    {
     "data": {
      "text/plain": [
       "confirm\n",
       "True     18687\n",
       "False     8281\n",
       "Name: count, dtype: int64"
      ]
     },
     "execution_count": 114,
     "metadata": {},
     "output_type": "execute_result"
    }
   ],
   "source": [
    "(test_df['confirm'] > 0).value_counts()"
   ]
  },
  {
   "cell_type": "code",
   "execution_count": 115,
   "id": "828da2d8",
   "metadata": {},
   "outputs": [
    {
     "data": {
      "text/plain": [
       "confirm\n",
       "True     15434\n",
       "False     8098\n",
       "Name: count, dtype: int64"
      ]
     },
     "execution_count": 115,
     "metadata": {},
     "output_type": "execute_result"
    }
   ],
   "source": [
    "(control_df['confirm'] > 0).value_counts()"
   ]
  },
  {
   "cell_type": "markdown",
   "id": "93d7cdcf",
   "metadata": {},
   "source": [
    "Merging web data with experiment roster to classify clients by their group."
   ]
  },
  {
   "cell_type": "code",
   "execution_count": 116,
   "id": "830b1ceb",
   "metadata": {},
   "outputs": [],
   "source": [
    "web_group_experiment = pd.merge(web_group, experiment_roster, on='client_id', how='inner')"
   ]
  },
  {
   "cell_type": "code",
   "execution_count": 117,
   "id": "c644ae54",
   "metadata": {},
   "outputs": [
    {
     "data": {
      "text/html": [
       "<div>\n",
       "<style scoped>\n",
       "    .dataframe tbody tr th:only-of-type {\n",
       "        vertical-align: middle;\n",
       "    }\n",
       "\n",
       "    .dataframe tbody tr th {\n",
       "        vertical-align: top;\n",
       "    }\n",
       "\n",
       "    .dataframe thead th {\n",
       "        text-align: right;\n",
       "    }\n",
       "</style>\n",
       "<table border=\"1\" class=\"dataframe\">\n",
       "  <thead>\n",
       "    <tr style=\"text-align: right;\">\n",
       "      <th></th>\n",
       "      <th>client_id</th>\n",
       "      <th>visitor_id</th>\n",
       "      <th>visit_id</th>\n",
       "      <th>process_step</th>\n",
       "      <th>date_time</th>\n",
       "      <th>Variation</th>\n",
       "    </tr>\n",
       "  </thead>\n",
       "  <tbody>\n",
       "    <tr>\n",
       "      <th>0</th>\n",
       "      <td>9988021</td>\n",
       "      <td>580560515_7732621733</td>\n",
       "      <td>781255054_21935453173_531117</td>\n",
       "      <td>3</td>\n",
       "      <td>2017-04-17 15:27:07</td>\n",
       "      <td>Test</td>\n",
       "    </tr>\n",
       "    <tr>\n",
       "      <th>1</th>\n",
       "      <td>9988021</td>\n",
       "      <td>580560515_7732621733</td>\n",
       "      <td>781255054_21935453173_531117</td>\n",
       "      <td>2</td>\n",
       "      <td>2017-04-17 15:26:51</td>\n",
       "      <td>Test</td>\n",
       "    </tr>\n",
       "    <tr>\n",
       "      <th>2</th>\n",
       "      <td>9988021</td>\n",
       "      <td>580560515_7732621733</td>\n",
       "      <td>781255054_21935453173_531117</td>\n",
       "      <td>3</td>\n",
       "      <td>2017-04-17 15:19:22</td>\n",
       "      <td>Test</td>\n",
       "    </tr>\n",
       "    <tr>\n",
       "      <th>3</th>\n",
       "      <td>9988021</td>\n",
       "      <td>580560515_7732621733</td>\n",
       "      <td>781255054_21935453173_531117</td>\n",
       "      <td>2</td>\n",
       "      <td>2017-04-17 15:19:13</td>\n",
       "      <td>Test</td>\n",
       "    </tr>\n",
       "    <tr>\n",
       "      <th>4</th>\n",
       "      <td>9988021</td>\n",
       "      <td>580560515_7732621733</td>\n",
       "      <td>781255054_21935453173_531117</td>\n",
       "      <td>3</td>\n",
       "      <td>2017-04-17 15:18:04</td>\n",
       "      <td>Test</td>\n",
       "    </tr>\n",
       "    <tr>\n",
       "      <th>...</th>\n",
       "      <td>...</td>\n",
       "      <td>...</td>\n",
       "      <td>...</td>\n",
       "      <td>...</td>\n",
       "      <td>...</td>\n",
       "      <td>...</td>\n",
       "    </tr>\n",
       "    <tr>\n",
       "      <th>321304</th>\n",
       "      <td>1574008</td>\n",
       "      <td>117364417_77840596075</td>\n",
       "      <td>528720790_71583064618_169151</td>\n",
       "      <td>0</td>\n",
       "      <td>2017-05-06 23:43:27</td>\n",
       "      <td>Test</td>\n",
       "    </tr>\n",
       "    <tr>\n",
       "      <th>321305</th>\n",
       "      <td>2908510</td>\n",
       "      <td>814969699_90652851448</td>\n",
       "      <td>562606085_36368381773_92090</td>\n",
       "      <td>0</td>\n",
       "      <td>2017-05-10 22:57:17</td>\n",
       "      <td>Control</td>\n",
       "    </tr>\n",
       "    <tr>\n",
       "      <th>321306</th>\n",
       "      <td>2908510</td>\n",
       "      <td>814969699_90652851448</td>\n",
       "      <td>562606085_36368381773_92090</td>\n",
       "      <td>2</td>\n",
       "      <td>2017-05-10 22:56:31</td>\n",
       "      <td>Control</td>\n",
       "    </tr>\n",
       "    <tr>\n",
       "      <th>321307</th>\n",
       "      <td>2908510</td>\n",
       "      <td>814969699_90652851448</td>\n",
       "      <td>562606085_36368381773_92090</td>\n",
       "      <td>1</td>\n",
       "      <td>2017-05-10 22:56:23</td>\n",
       "      <td>Control</td>\n",
       "    </tr>\n",
       "    <tr>\n",
       "      <th>321308</th>\n",
       "      <td>2908510</td>\n",
       "      <td>814969699_90652851448</td>\n",
       "      <td>562606085_36368381773_92090</td>\n",
       "      <td>0</td>\n",
       "      <td>2017-05-10 22:56:20</td>\n",
       "      <td>Control</td>\n",
       "    </tr>\n",
       "  </tbody>\n",
       "</table>\n",
       "<p>321309 rows × 6 columns</p>\n",
       "</div>"
      ],
      "text/plain": [
       "        client_id             visitor_id                      visit_id  \\\n",
       "0         9988021   580560515_7732621733  781255054_21935453173_531117   \n",
       "1         9988021   580560515_7732621733  781255054_21935453173_531117   \n",
       "2         9988021   580560515_7732621733  781255054_21935453173_531117   \n",
       "3         9988021   580560515_7732621733  781255054_21935453173_531117   \n",
       "4         9988021   580560515_7732621733  781255054_21935453173_531117   \n",
       "...           ...                    ...                           ...   \n",
       "321304    1574008  117364417_77840596075  528720790_71583064618_169151   \n",
       "321305    2908510  814969699_90652851448   562606085_36368381773_92090   \n",
       "321306    2908510  814969699_90652851448   562606085_36368381773_92090   \n",
       "321307    2908510  814969699_90652851448   562606085_36368381773_92090   \n",
       "321308    2908510  814969699_90652851448   562606085_36368381773_92090   \n",
       "\n",
       "        process_step           date_time Variation  \n",
       "0                  3 2017-04-17 15:27:07      Test  \n",
       "1                  2 2017-04-17 15:26:51      Test  \n",
       "2                  3 2017-04-17 15:19:22      Test  \n",
       "3                  2 2017-04-17 15:19:13      Test  \n",
       "4                  3 2017-04-17 15:18:04      Test  \n",
       "...              ...                 ...       ...  \n",
       "321304             0 2017-05-06 23:43:27      Test  \n",
       "321305             0 2017-05-10 22:57:17   Control  \n",
       "321306             2 2017-05-10 22:56:31   Control  \n",
       "321307             1 2017-05-10 22:56:23   Control  \n",
       "321308             0 2017-05-10 22:56:20   Control  \n",
       "\n",
       "[321309 rows x 6 columns]"
      ]
     },
     "execution_count": 117,
     "metadata": {},
     "output_type": "execute_result"
    }
   ],
   "source": [
    "web_group_experiment"
   ]
  },
  {
   "cell_type": "markdown",
   "id": "a1cd610c",
   "metadata": {},
   "source": [
    "Merging last dataset (web_group_experiment) with client profiles."
   ]
  },
  {
   "cell_type": "code",
   "execution_count": 118,
   "id": "2e60f741",
   "metadata": {},
   "outputs": [
    {
     "data": {
      "text/html": [
       "<div>\n",
       "<style scoped>\n",
       "    .dataframe tbody tr th:only-of-type {\n",
       "        vertical-align: middle;\n",
       "    }\n",
       "\n",
       "    .dataframe tbody tr th {\n",
       "        vertical-align: top;\n",
       "    }\n",
       "\n",
       "    .dataframe thead th {\n",
       "        text-align: right;\n",
       "    }\n",
       "</style>\n",
       "<table border=\"1\" class=\"dataframe\">\n",
       "  <thead>\n",
       "    <tr style=\"text-align: right;\">\n",
       "      <th></th>\n",
       "      <th>client_id</th>\n",
       "      <th>visitor_id</th>\n",
       "      <th>visit_id</th>\n",
       "      <th>process_step</th>\n",
       "      <th>date_time</th>\n",
       "      <th>Variation</th>\n",
       "      <th>clnt_tenure_yr</th>\n",
       "      <th>clnt_tenure_mnth</th>\n",
       "      <th>clnt_age</th>\n",
       "      <th>gendr</th>\n",
       "      <th>num_accts</th>\n",
       "      <th>bal</th>\n",
       "      <th>calls_6_mnth</th>\n",
       "      <th>logons_6_mnth</th>\n",
       "    </tr>\n",
       "  </thead>\n",
       "  <tbody>\n",
       "    <tr>\n",
       "      <th>0</th>\n",
       "      <td>9988021</td>\n",
       "      <td>580560515_7732621733</td>\n",
       "      <td>781255054_21935453173_531117</td>\n",
       "      <td>3</td>\n",
       "      <td>2017-04-17 15:27:07</td>\n",
       "      <td>Test</td>\n",
       "      <td>5.0</td>\n",
       "      <td>64.0</td>\n",
       "      <td>79.0</td>\n",
       "      <td>U</td>\n",
       "      <td>2.0</td>\n",
       "      <td>189023.86</td>\n",
       "      <td>1.0</td>\n",
       "      <td>4.0</td>\n",
       "    </tr>\n",
       "    <tr>\n",
       "      <th>1</th>\n",
       "      <td>9988021</td>\n",
       "      <td>580560515_7732621733</td>\n",
       "      <td>781255054_21935453173_531117</td>\n",
       "      <td>2</td>\n",
       "      <td>2017-04-17 15:26:51</td>\n",
       "      <td>Test</td>\n",
       "      <td>5.0</td>\n",
       "      <td>64.0</td>\n",
       "      <td>79.0</td>\n",
       "      <td>U</td>\n",
       "      <td>2.0</td>\n",
       "      <td>189023.86</td>\n",
       "      <td>1.0</td>\n",
       "      <td>4.0</td>\n",
       "    </tr>\n",
       "    <tr>\n",
       "      <th>2</th>\n",
       "      <td>9988021</td>\n",
       "      <td>580560515_7732621733</td>\n",
       "      <td>781255054_21935453173_531117</td>\n",
       "      <td>3</td>\n",
       "      <td>2017-04-17 15:19:22</td>\n",
       "      <td>Test</td>\n",
       "      <td>5.0</td>\n",
       "      <td>64.0</td>\n",
       "      <td>79.0</td>\n",
       "      <td>U</td>\n",
       "      <td>2.0</td>\n",
       "      <td>189023.86</td>\n",
       "      <td>1.0</td>\n",
       "      <td>4.0</td>\n",
       "    </tr>\n",
       "    <tr>\n",
       "      <th>3</th>\n",
       "      <td>9988021</td>\n",
       "      <td>580560515_7732621733</td>\n",
       "      <td>781255054_21935453173_531117</td>\n",
       "      <td>2</td>\n",
       "      <td>2017-04-17 15:19:13</td>\n",
       "      <td>Test</td>\n",
       "      <td>5.0</td>\n",
       "      <td>64.0</td>\n",
       "      <td>79.0</td>\n",
       "      <td>U</td>\n",
       "      <td>2.0</td>\n",
       "      <td>189023.86</td>\n",
       "      <td>1.0</td>\n",
       "      <td>4.0</td>\n",
       "    </tr>\n",
       "    <tr>\n",
       "      <th>4</th>\n",
       "      <td>9988021</td>\n",
       "      <td>580560515_7732621733</td>\n",
       "      <td>781255054_21935453173_531117</td>\n",
       "      <td>3</td>\n",
       "      <td>2017-04-17 15:18:04</td>\n",
       "      <td>Test</td>\n",
       "      <td>5.0</td>\n",
       "      <td>64.0</td>\n",
       "      <td>79.0</td>\n",
       "      <td>U</td>\n",
       "      <td>2.0</td>\n",
       "      <td>189023.86</td>\n",
       "      <td>1.0</td>\n",
       "      <td>4.0</td>\n",
       "    </tr>\n",
       "    <tr>\n",
       "      <th>...</th>\n",
       "      <td>...</td>\n",
       "      <td>...</td>\n",
       "      <td>...</td>\n",
       "      <td>...</td>\n",
       "      <td>...</td>\n",
       "      <td>...</td>\n",
       "      <td>...</td>\n",
       "      <td>...</td>\n",
       "      <td>...</td>\n",
       "      <td>...</td>\n",
       "      <td>...</td>\n",
       "      <td>...</td>\n",
       "      <td>...</td>\n",
       "      <td>...</td>\n",
       "    </tr>\n",
       "    <tr>\n",
       "      <th>321304</th>\n",
       "      <td>1574008</td>\n",
       "      <td>117364417_77840596075</td>\n",
       "      <td>528720790_71583064618_169151</td>\n",
       "      <td>0</td>\n",
       "      <td>2017-05-06 23:43:27</td>\n",
       "      <td>Test</td>\n",
       "      <td>10.0</td>\n",
       "      <td>121.0</td>\n",
       "      <td>55.0</td>\n",
       "      <td>U</td>\n",
       "      <td>2.0</td>\n",
       "      <td>153238.83</td>\n",
       "      <td>3.0</td>\n",
       "      <td>6.0</td>\n",
       "    </tr>\n",
       "    <tr>\n",
       "      <th>321305</th>\n",
       "      <td>2908510</td>\n",
       "      <td>814969699_90652851448</td>\n",
       "      <td>562606085_36368381773_92090</td>\n",
       "      <td>0</td>\n",
       "      <td>2017-05-10 22:57:17</td>\n",
       "      <td>Control</td>\n",
       "      <td>21.0</td>\n",
       "      <td>252.0</td>\n",
       "      <td>34.0</td>\n",
       "      <td>M</td>\n",
       "      <td>3.0</td>\n",
       "      <td>141808.05</td>\n",
       "      <td>6.0</td>\n",
       "      <td>9.0</td>\n",
       "    </tr>\n",
       "    <tr>\n",
       "      <th>321306</th>\n",
       "      <td>2908510</td>\n",
       "      <td>814969699_90652851448</td>\n",
       "      <td>562606085_36368381773_92090</td>\n",
       "      <td>2</td>\n",
       "      <td>2017-05-10 22:56:31</td>\n",
       "      <td>Control</td>\n",
       "      <td>21.0</td>\n",
       "      <td>252.0</td>\n",
       "      <td>34.0</td>\n",
       "      <td>M</td>\n",
       "      <td>3.0</td>\n",
       "      <td>141808.05</td>\n",
       "      <td>6.0</td>\n",
       "      <td>9.0</td>\n",
       "    </tr>\n",
       "    <tr>\n",
       "      <th>321307</th>\n",
       "      <td>2908510</td>\n",
       "      <td>814969699_90652851448</td>\n",
       "      <td>562606085_36368381773_92090</td>\n",
       "      <td>1</td>\n",
       "      <td>2017-05-10 22:56:23</td>\n",
       "      <td>Control</td>\n",
       "      <td>21.0</td>\n",
       "      <td>252.0</td>\n",
       "      <td>34.0</td>\n",
       "      <td>M</td>\n",
       "      <td>3.0</td>\n",
       "      <td>141808.05</td>\n",
       "      <td>6.0</td>\n",
       "      <td>9.0</td>\n",
       "    </tr>\n",
       "    <tr>\n",
       "      <th>321308</th>\n",
       "      <td>2908510</td>\n",
       "      <td>814969699_90652851448</td>\n",
       "      <td>562606085_36368381773_92090</td>\n",
       "      <td>0</td>\n",
       "      <td>2017-05-10 22:56:20</td>\n",
       "      <td>Control</td>\n",
       "      <td>21.0</td>\n",
       "      <td>252.0</td>\n",
       "      <td>34.0</td>\n",
       "      <td>M</td>\n",
       "      <td>3.0</td>\n",
       "      <td>141808.05</td>\n",
       "      <td>6.0</td>\n",
       "      <td>9.0</td>\n",
       "    </tr>\n",
       "  </tbody>\n",
       "</table>\n",
       "<p>321309 rows × 14 columns</p>\n",
       "</div>"
      ],
      "text/plain": [
       "        client_id             visitor_id                      visit_id  \\\n",
       "0         9988021   580560515_7732621733  781255054_21935453173_531117   \n",
       "1         9988021   580560515_7732621733  781255054_21935453173_531117   \n",
       "2         9988021   580560515_7732621733  781255054_21935453173_531117   \n",
       "3         9988021   580560515_7732621733  781255054_21935453173_531117   \n",
       "4         9988021   580560515_7732621733  781255054_21935453173_531117   \n",
       "...           ...                    ...                           ...   \n",
       "321304    1574008  117364417_77840596075  528720790_71583064618_169151   \n",
       "321305    2908510  814969699_90652851448   562606085_36368381773_92090   \n",
       "321306    2908510  814969699_90652851448   562606085_36368381773_92090   \n",
       "321307    2908510  814969699_90652851448   562606085_36368381773_92090   \n",
       "321308    2908510  814969699_90652851448   562606085_36368381773_92090   \n",
       "\n",
       "        process_step           date_time Variation  clnt_tenure_yr  \\\n",
       "0                  3 2017-04-17 15:27:07      Test             5.0   \n",
       "1                  2 2017-04-17 15:26:51      Test             5.0   \n",
       "2                  3 2017-04-17 15:19:22      Test             5.0   \n",
       "3                  2 2017-04-17 15:19:13      Test             5.0   \n",
       "4                  3 2017-04-17 15:18:04      Test             5.0   \n",
       "...              ...                 ...       ...             ...   \n",
       "321304             0 2017-05-06 23:43:27      Test            10.0   \n",
       "321305             0 2017-05-10 22:57:17   Control            21.0   \n",
       "321306             2 2017-05-10 22:56:31   Control            21.0   \n",
       "321307             1 2017-05-10 22:56:23   Control            21.0   \n",
       "321308             0 2017-05-10 22:56:20   Control            21.0   \n",
       "\n",
       "        clnt_tenure_mnth  clnt_age gendr  num_accts        bal  calls_6_mnth  \\\n",
       "0                   64.0      79.0     U        2.0  189023.86           1.0   \n",
       "1                   64.0      79.0     U        2.0  189023.86           1.0   \n",
       "2                   64.0      79.0     U        2.0  189023.86           1.0   \n",
       "3                   64.0      79.0     U        2.0  189023.86           1.0   \n",
       "4                   64.0      79.0     U        2.0  189023.86           1.0   \n",
       "...                  ...       ...   ...        ...        ...           ...   \n",
       "321304             121.0      55.0     U        2.0  153238.83           3.0   \n",
       "321305             252.0      34.0     M        3.0  141808.05           6.0   \n",
       "321306             252.0      34.0     M        3.0  141808.05           6.0   \n",
       "321307             252.0      34.0     M        3.0  141808.05           6.0   \n",
       "321308             252.0      34.0     M        3.0  141808.05           6.0   \n",
       "\n",
       "        logons_6_mnth  \n",
       "0                 4.0  \n",
       "1                 4.0  \n",
       "2                 4.0  \n",
       "3                 4.0  \n",
       "4                 4.0  \n",
       "...               ...  \n",
       "321304            6.0  \n",
       "321305            9.0  \n",
       "321306            9.0  \n",
       "321307            9.0  \n",
       "321308            9.0  \n",
       "\n",
       "[321309 rows x 14 columns]"
      ]
     },
     "execution_count": 118,
     "metadata": {},
     "output_type": "execute_result"
    }
   ],
   "source": [
    "client_profile_experiment = pd.merge(web_group_experiment, client_profiles, on='client_id', how='left')\n",
    "client_profile_experiment"
   ]
  },
  {
   "cell_type": "markdown",
   "id": "163fb46a",
   "metadata": {},
   "source": [
    "Sorting by client_id and datetime to start calculating completion rate, average time per step and drop off rate."
   ]
  },
  {
   "cell_type": "code",
   "execution_count": 119,
   "id": "67443b57",
   "metadata": {},
   "outputs": [],
   "source": [
    "sorted_df = web_group_experiment.sort_values(by=['client_id', 'date_time'])\n",
    "result = sorted_df.groupby('client_id')['date_time'].diff()"
   ]
  },
  {
   "cell_type": "code",
   "execution_count": 120,
   "id": "b9008820",
   "metadata": {},
   "outputs": [
    {
     "data": {
      "text/html": [
       "<div>\n",
       "<style scoped>\n",
       "    .dataframe tbody tr th:only-of-type {\n",
       "        vertical-align: middle;\n",
       "    }\n",
       "\n",
       "    .dataframe tbody tr th {\n",
       "        vertical-align: top;\n",
       "    }\n",
       "\n",
       "    .dataframe thead th {\n",
       "        text-align: right;\n",
       "    }\n",
       "</style>\n",
       "<table border=\"1\" class=\"dataframe\">\n",
       "  <thead>\n",
       "    <tr style=\"text-align: right;\">\n",
       "      <th></th>\n",
       "      <th>client_id</th>\n",
       "      <th>visitor_id</th>\n",
       "      <th>visit_id</th>\n",
       "      <th>process_step</th>\n",
       "      <th>date_time</th>\n",
       "      <th>Variation</th>\n",
       "    </tr>\n",
       "  </thead>\n",
       "  <tbody>\n",
       "    <tr>\n",
       "      <th>147820</th>\n",
       "      <td>647</td>\n",
       "      <td>66758770_53988066587</td>\n",
       "      <td>40369564_40101682850_311847</td>\n",
       "      <td>0</td>\n",
       "      <td>2017-04-12 15:41:28</td>\n",
       "      <td>Test</td>\n",
       "    </tr>\n",
       "    <tr>\n",
       "      <th>147819</th>\n",
       "      <td>647</td>\n",
       "      <td>66758770_53988066587</td>\n",
       "      <td>40369564_40101682850_311847</td>\n",
       "      <td>1</td>\n",
       "      <td>2017-04-12 15:41:35</td>\n",
       "      <td>Test</td>\n",
       "    </tr>\n",
       "    <tr>\n",
       "      <th>147818</th>\n",
       "      <td>647</td>\n",
       "      <td>66758770_53988066587</td>\n",
       "      <td>40369564_40101682850_311847</td>\n",
       "      <td>2</td>\n",
       "      <td>2017-04-12 15:41:53</td>\n",
       "      <td>Test</td>\n",
       "    </tr>\n",
       "    <tr>\n",
       "      <th>147817</th>\n",
       "      <td>647</td>\n",
       "      <td>66758770_53988066587</td>\n",
       "      <td>40369564_40101682850_311847</td>\n",
       "      <td>3</td>\n",
       "      <td>2017-04-12 15:45:02</td>\n",
       "      <td>Test</td>\n",
       "    </tr>\n",
       "    <tr>\n",
       "      <th>147816</th>\n",
       "      <td>647</td>\n",
       "      <td>66758770_53988066587</td>\n",
       "      <td>40369564_40101682850_311847</td>\n",
       "      <td>4</td>\n",
       "      <td>2017-04-12 15:47:45</td>\n",
       "      <td>Test</td>\n",
       "    </tr>\n",
       "  </tbody>\n",
       "</table>\n",
       "</div>"
      ],
      "text/plain": [
       "        client_id            visitor_id                     visit_id  \\\n",
       "147820        647  66758770_53988066587  40369564_40101682850_311847   \n",
       "147819        647  66758770_53988066587  40369564_40101682850_311847   \n",
       "147818        647  66758770_53988066587  40369564_40101682850_311847   \n",
       "147817        647  66758770_53988066587  40369564_40101682850_311847   \n",
       "147816        647  66758770_53988066587  40369564_40101682850_311847   \n",
       "\n",
       "        process_step           date_time Variation  \n",
       "147820             0 2017-04-12 15:41:28      Test  \n",
       "147819             1 2017-04-12 15:41:35      Test  \n",
       "147818             2 2017-04-12 15:41:53      Test  \n",
       "147817             3 2017-04-12 15:45:02      Test  \n",
       "147816             4 2017-04-12 15:47:45      Test  "
      ]
     },
     "execution_count": 120,
     "metadata": {},
     "output_type": "execute_result"
    }
   ],
   "source": [
    "sorted_df.query('client_id == 647')"
   ]
  },
  {
   "cell_type": "markdown",
   "id": "641ba009",
   "metadata": {},
   "source": [
    "Building completion rate function"
   ]
  },
  {
   "cell_type": "markdown",
   "id": "2050fbd2",
   "metadata": {},
   "source": [
    "For further information about the function, please refer to backend.py"
   ]
  },
  {
   "cell_type": "code",
   "execution_count": 123,
   "id": "73a03a1f",
   "metadata": {},
   "outputs": [],
   "source": [
    "def calculate_completion_rate(data,variation=None):\n",
    "\n",
    "    if (variation == 'Test') or (variation == 'Control'):\n",
    "        variation_df = data[data['Variation']== variation]\n",
    "        confirm_step_users = variation_df[variation_df['process_step'] == 4]['client_id'].nunique()\n",
    "        total_users = variation_df['client_id'].nunique()\n",
    "        \n",
    "    else:\n",
    "        confirm_step_users = data[data['process_step'] == 4]['client_id'].nunique()\n",
    "        total_users = data['client_id'].nunique()\n",
    "\n",
    "    completion_rate_percentage = (confirm_step_users / total_users) * 100\n",
    "\n",
    "    return completion_rate_percentage"
   ]
  },
  {
   "cell_type": "code",
   "execution_count": 124,
   "id": "522e1081",
   "metadata": {},
   "outputs": [
    {
     "data": {
      "text/plain": [
       "65.58728539860616"
      ]
     },
     "execution_count": 124,
     "metadata": {},
     "output_type": "execute_result"
    }
   ],
   "source": [
    "calculate_completion_rate(web_group_experiment,'Control')"
   ]
  },
  {
   "cell_type": "code",
   "execution_count": 125,
   "id": "819c0d63",
   "metadata": {},
   "outputs": [
    {
     "data": {
      "text/plain": [
       "69.29323642835953"
      ]
     },
     "execution_count": 125,
     "metadata": {},
     "output_type": "execute_result"
    }
   ],
   "source": [
    "calculate_completion_rate(web_group_experiment,'Test')"
   ]
  },
  {
   "cell_type": "markdown",
   "id": "ca24fe41",
   "metadata": {},
   "source": [
    "Building completion rate function"
   ]
  },
  {
   "cell_type": "markdown",
   "id": "d2633895",
   "metadata": {},
   "source": [
    "For further information about the function, please refer to backend.py"
   ]
  },
  {
   "cell_type": "code",
   "execution_count": 126,
   "id": "89f90d01",
   "metadata": {},
   "outputs": [],
   "source": [
    "def calculate_avg_time_per_step(data,variation=None):\n",
    "    \n",
    "    if (variation == 'Test') or (variation == 'Control'):\n",
    "        \n",
    "        variation_df = data[data['Variation']== variation]\n",
    "        variation_df['time_spent_on_step'] = variation_df.groupby('client_id')['date_time'].diff()\n",
    "        avg_time_per_step = variation_df.groupby('process_step')['time_spent_on_step'].mean()\n",
    "        avg_time_per_step = avg_time_per_step.reindex(index = ['start', 'step_1', 'step_2', 'step_3', 'confirm'])\n",
    "    else:\n",
    "        \n",
    "        data['time_spent_on_step'] = data.groupby('client_id')['date_time'].diff()\n",
    "        avg_time_per_step = data.groupby('process_step')['time_spent_on_step'].mean()\n",
    "        avg_time_per_step = avg_time_per_step.reindex(index = ['start', 'step_1', 'step_2', 'step_3', 'confirm'])\n",
    "        \n",
    "    return avg_time_per_step"
   ]
  },
  {
   "cell_type": "markdown",
   "id": "8ee3e517",
   "metadata": {},
   "source": [
    "Experimenting with time to reach desired results."
   ]
  },
  {
   "cell_type": "code",
   "execution_count": 131,
   "id": "4e066d5f",
   "metadata": {},
   "outputs": [
    {
     "name": "stderr",
     "output_type": "stream",
     "text": [
      "/var/folders/l6/ynlhkqws5hv7wtyyn6rr6t4c0000gn/T/ipykernel_807/3099442970.py:5: SettingWithCopyWarning: \n",
      "A value is trying to be set on a copy of a slice from a DataFrame.\n",
      "Try using .loc[row_indexer,col_indexer] = value instead\n",
      "\n",
      "See the caveats in the documentation: https://pandas.pydata.org/pandas-docs/stable/user_guide/indexing.html#returning-a-view-versus-a-copy\n",
      "  control_time_spent['time_spent_on_step'] = control_time_spent.groupby('client_id')['date_time'].diff()\n"
     ]
    },
    {
     "data": {
      "text/plain": [
       "process_step\n",
       "start     4 days 05:57:44.544592030\n",
       "step_1    0 days 00:30:38.781647281\n",
       "step_2    0 days 00:00:39.342259834\n",
       "step_3    0 days 00:09:35.220494575\n",
       "confirm   0 days 18:21:17.307379630\n",
       "Name: time_spent_on_step, dtype: timedelta64[ns]"
      ]
     },
     "execution_count": 131,
     "metadata": {},
     "output_type": "execute_result"
    }
   ],
   "source": [
    "#sorted_df = web_group_experiment.sort_values(by=['client_id', 'date_time'])\n",
    "\n",
    "control_time_spent = sorted_df[sorted_df['Variation']=='Control']\n",
    "\n",
    "control_time_spent['time_spent_on_step'] = control_time_spent.groupby('client_id')['date_time'].diff()\n",
    "\n",
    "avg_time_per_step_control = control_time_spent.groupby('process_step')['time_spent_on_step'].mean()\n",
    "\n",
    "index_rename = {0: 'start', 1: 'step_1', 2: 'step_2', 3: 'step_3', 4: 'confirm'}\n",
    "\n",
    "avg_time_per_step_control = avg_time_per_step_control.rename(index=index_rename)\n",
    "\n",
    "#avg_time_per_step_control = avg_time_per_step_control.reindex(index = ['start', 'step_1', 'step_2', 'step_3', 'confirm'])\n",
    "\n",
    "avg_time_per_step_control"
   ]
  },
  {
   "cell_type": "code",
   "execution_count": 132,
   "id": "7ab279d8",
   "metadata": {},
   "outputs": [
    {
     "name": "stderr",
     "output_type": "stream",
     "text": [
      "/var/folders/l6/ynlhkqws5hv7wtyyn6rr6t4c0000gn/T/ipykernel_807/2488044916.py:3: SettingWithCopyWarning: \n",
      "A value is trying to be set on a copy of a slice from a DataFrame.\n",
      "Try using .loc[row_indexer,col_indexer] = value instead\n",
      "\n",
      "See the caveats in the documentation: https://pandas.pydata.org/pandas-docs/stable/user_guide/indexing.html#returning-a-view-versus-a-copy\n",
      "  test_time_spent['time_spent_on_step'] = test_time_spent.groupby('client_id')['date_time'].diff()\n"
     ]
    },
    {
     "data": {
      "text/plain": [
       "process_step\n",
       "start     3 days 02:55:49.873986735\n",
       "step_1    0 days 00:22:19.804570955\n",
       "step_2    0 days 00:01:51.212471355\n",
       "step_3    0 days 00:12:18.920516488\n",
       "confirm   1 days 05:00:32.783103231\n",
       "Name: time_spent_on_step, dtype: timedelta64[ns]"
      ]
     },
     "execution_count": 132,
     "metadata": {},
     "output_type": "execute_result"
    }
   ],
   "source": [
    "test_time_spent = sorted_df[sorted_df['Variation']=='Test']\n",
    "\n",
    "test_time_spent['time_spent_on_step'] = test_time_spent.groupby('client_id')['date_time'].diff()\n",
    "\n",
    "avg_time_per_step_test = test_time_spent.groupby('process_step')['time_spent_on_step'].mean()\n",
    "\n",
    "index_rename = {0: 'start', 1: 'step_1', 2: 'step_2', 3: 'step_3', 4: 'confirm'}\n",
    "\n",
    "avg_time_per_step_test = avg_time_per_step_test.rename(index=index_rename)\n",
    "\n",
    "# avg_time_per_step_test = avg_time_per_step_test.reindex(index = ['start', 'step_1', 'step_2', 'step_3', 'confirm'])\n",
    "\n",
    "avg_time_per_step_test"
   ]
  },
  {
   "cell_type": "code",
   "execution_count": 135,
   "id": "2c605d24",
   "metadata": {},
   "outputs": [
    {
     "data": {
      "text/plain": [
       "process_step\n",
       "start     3 days 15:02:39.424504584\n",
       "step_1    0 days 00:25:56.019441799\n",
       "step_2    0 days 00:01:18.503631663\n",
       "step_3    0 days 00:11:02.287741086\n",
       "confirm   1 days 00:40:39.014174987\n",
       "Name: time_spent_on_step, dtype: timedelta64[ns]"
      ]
     },
     "execution_count": 135,
     "metadata": {},
     "output_type": "execute_result"
    }
   ],
   "source": [
    "sorted_df['time_spent_on_step'] = sorted_df.groupby('client_id')['date_time'].diff()\n",
    "\n",
    "avg_time_per_step = sorted_df.groupby('process_step')['time_spent_on_step'].mean()\n",
    "\n",
    "index_rename = {0: 'start', 1: 'step_1', 2: 'step_2', 3: 'step_3', 4: 'confirm'}\n",
    "\n",
    "avg_time_per_step = avg_time_per_step.rename(index=index_rename)\n",
    "\n",
    "#avg_time_per_step = avg_time_per_step.reindex(index = ['start', 'step_1', 'step_2', 'step_3', 'confirm'])\n",
    "\n",
    "avg_time_per_step"
   ]
  },
  {
   "cell_type": "code",
   "execution_count": 35,
   "id": "66618c33",
   "metadata": {},
   "outputs": [
    {
     "data": {
      "text/plain": [
       "process_step\n",
       "start     0 days 10:34:55.327400221\n",
       "step_1    0 days 04:44:40.800457751\n",
       "step_2    0 days 01:26:44.953561331\n",
       "step_3    0 days 02:33:59.386640609\n",
       "confirm   7 days 06:23:06.917887202\n",
       "Name: time_spent_on_step, dtype: timedelta64[ns]"
      ]
     },
     "execution_count": 35,
     "metadata": {},
     "output_type": "execute_result"
    }
   ],
   "source": [
    "calculate_avg_time_per_step(web_group_experiment)"
   ]
  },
  {
   "cell_type": "code",
   "execution_count": 36,
   "id": "9d0d044f",
   "metadata": {},
   "outputs": [
    {
     "name": "stderr",
     "output_type": "stream",
     "text": [
      "/var/folders/l6/ynlhkqws5hv7wtyyn6rr6t4c0000gn/T/ipykernel_807/1006983066.py:6: SettingWithCopyWarning: \n",
      "A value is trying to be set on a copy of a slice from a DataFrame.\n",
      "Try using .loc[row_indexer,col_indexer] = value instead\n",
      "\n",
      "See the caveats in the documentation: https://pandas.pydata.org/pandas-docs/stable/user_guide/indexing.html#returning-a-view-versus-a-copy\n",
      "  variation_df['time_spent_on_step'] = variation_df.groupby('client_id')['date_time'].diff()\n"
     ]
    },
    {
     "data": {
      "text/plain": [
       "process_step\n",
       "start     0 days 09:17:27.053622956\n",
       "step_1    0 days 02:54:46.601001033\n",
       "step_2    0 days 01:35:27.801749659\n",
       "step_3    0 days 02:54:23.903277084\n",
       "confirm   5 days 23:26:23.550332778\n",
       "Name: time_spent_on_step, dtype: timedelta64[ns]"
      ]
     },
     "execution_count": 36,
     "metadata": {},
     "output_type": "execute_result"
    }
   ],
   "source": [
    "calculate_avg_time_per_step(web_group_experiment,'Test')"
   ]
  },
  {
   "cell_type": "code",
   "execution_count": 37,
   "id": "382fc949",
   "metadata": {},
   "outputs": [
    {
     "name": "stderr",
     "output_type": "stream",
     "text": [
      "/var/folders/l6/ynlhkqws5hv7wtyyn6rr6t4c0000gn/T/ipykernel_807/1006983066.py:6: SettingWithCopyWarning: \n",
      "A value is trying to be set on a copy of a slice from a DataFrame.\n",
      "Try using .loc[row_indexer,col_indexer] = value instead\n",
      "\n",
      "See the caveats in the documentation: https://pandas.pydata.org/pandas-docs/stable/user_guide/indexing.html#returning-a-view-versus-a-copy\n",
      "  variation_df['time_spent_on_step'] = variation_df.groupby('client_id')['date_time'].diff()\n"
     ]
    },
    {
     "data": {
      "text/plain": [
       "process_step\n",
       "start     0 days 12:08:42.464061324\n",
       "step_1    0 days 07:11:47.159839796\n",
       "step_2    0 days 01:16:10.175066634\n",
       "step_3    0 days 02:10:09.278050173\n",
       "confirm   9 days 12:45:21.393020281\n",
       "Name: time_spent_on_step, dtype: timedelta64[ns]"
      ]
     },
     "execution_count": 37,
     "metadata": {},
     "output_type": "execute_result"
    }
   ],
   "source": [
    "calculate_avg_time_per_step(web_group_experiment,'Control')"
   ]
  },
  {
   "cell_type": "markdown",
   "id": "2695721b",
   "metadata": {},
   "source": [
    "Previous average time per step functions didn't make sense. Started experimenting."
   ]
  },
  {
   "cell_type": "markdown",
   "id": "3d21e1fc",
   "metadata": {},
   "source": [
    "We found that the mistake was we weren't sorting by client_id and data_time before calculating the difference in time. This resulted in averages of over one day, because clients sometimes started the process, left for the day, and continued on another day. This was throwing off our results."
   ]
  },
  {
   "cell_type": "code",
   "execution_count": 141,
   "id": "192fed03",
   "metadata": {},
   "outputs": [
    {
     "data": {
      "text/html": [
       "<div>\n",
       "<style scoped>\n",
       "    .dataframe tbody tr th:only-of-type {\n",
       "        vertical-align: middle;\n",
       "    }\n",
       "\n",
       "    .dataframe tbody tr th {\n",
       "        vertical-align: top;\n",
       "    }\n",
       "\n",
       "    .dataframe thead th {\n",
       "        text-align: right;\n",
       "    }\n",
       "</style>\n",
       "<table border=\"1\" class=\"dataframe\">\n",
       "  <thead>\n",
       "    <tr style=\"text-align: right;\">\n",
       "      <th></th>\n",
       "      <th>client_id</th>\n",
       "      <th>process_step</th>\n",
       "      <th>date_time</th>\n",
       "      <th>time_diff</th>\n",
       "      <th>Variation</th>\n",
       "    </tr>\n",
       "  </thead>\n",
       "  <tbody>\n",
       "    <tr>\n",
       "      <th>77130</th>\n",
       "      <td>555</td>\n",
       "      <td>1</td>\n",
       "      <td>2017-04-15 12:58:03</td>\n",
       "      <td>0 days 00:00:07</td>\n",
       "      <td>Test</td>\n",
       "    </tr>\n",
       "    <tr>\n",
       "      <th>77129</th>\n",
       "      <td>555</td>\n",
       "      <td>2</td>\n",
       "      <td>2017-04-15 12:58:35</td>\n",
       "      <td>0 days 00:00:32</td>\n",
       "      <td>Test</td>\n",
       "    </tr>\n",
       "    <tr>\n",
       "      <th>77128</th>\n",
       "      <td>555</td>\n",
       "      <td>3</td>\n",
       "      <td>2017-04-15 13:00:14</td>\n",
       "      <td>0 days 00:01:39</td>\n",
       "      <td>Test</td>\n",
       "    </tr>\n",
       "    <tr>\n",
       "      <th>77127</th>\n",
       "      <td>555</td>\n",
       "      <td>4</td>\n",
       "      <td>2017-04-15 13:00:34</td>\n",
       "      <td>0 days 00:00:20</td>\n",
       "      <td>Test</td>\n",
       "    </tr>\n",
       "    <tr>\n",
       "      <th>147819</th>\n",
       "      <td>647</td>\n",
       "      <td>1</td>\n",
       "      <td>2017-04-12 15:41:35</td>\n",
       "      <td>0 days 00:00:07</td>\n",
       "      <td>Test</td>\n",
       "    </tr>\n",
       "    <tr>\n",
       "      <th>...</th>\n",
       "      <td>...</td>\n",
       "      <td>...</td>\n",
       "      <td>...</td>\n",
       "      <td>...</td>\n",
       "      <td>...</td>\n",
       "    </tr>\n",
       "    <tr>\n",
       "      <th>114790</th>\n",
       "      <td>9999729</td>\n",
       "      <td>1</td>\n",
       "      <td>2017-05-08 16:08:30</td>\n",
       "      <td>0 days 00:00:05</td>\n",
       "      <td>Test</td>\n",
       "    </tr>\n",
       "    <tr>\n",
       "      <th>114789</th>\n",
       "      <td>9999729</td>\n",
       "      <td>2</td>\n",
       "      <td>2017-05-08 16:08:40</td>\n",
       "      <td>0 days 00:00:10</td>\n",
       "      <td>Test</td>\n",
       "    </tr>\n",
       "    <tr>\n",
       "      <th>114788</th>\n",
       "      <td>9999729</td>\n",
       "      <td>3</td>\n",
       "      <td>2017-05-08 16:09:19</td>\n",
       "      <td>0 days 00:00:39</td>\n",
       "      <td>Test</td>\n",
       "    </tr>\n",
       "    <tr>\n",
       "      <th>114787</th>\n",
       "      <td>9999729</td>\n",
       "      <td>4</td>\n",
       "      <td>2017-05-08 16:09:40</td>\n",
       "      <td>0 days 00:00:21</td>\n",
       "      <td>Test</td>\n",
       "    </tr>\n",
       "    <tr>\n",
       "      <th>264542</th>\n",
       "      <td>9999832</td>\n",
       "      <td>1</td>\n",
       "      <td>2017-05-16 16:46:11</td>\n",
       "      <td>0 days 00:00:08</td>\n",
       "      <td>Test</td>\n",
       "    </tr>\n",
       "  </tbody>\n",
       "</table>\n",
       "<p>217227 rows × 5 columns</p>\n",
       "</div>"
      ],
      "text/plain": [
       "        client_id  process_step           date_time       time_diff Variation\n",
       "77130         555             1 2017-04-15 12:58:03 0 days 00:00:07      Test\n",
       "77129         555             2 2017-04-15 12:58:35 0 days 00:00:32      Test\n",
       "77128         555             3 2017-04-15 13:00:14 0 days 00:01:39      Test\n",
       "77127         555             4 2017-04-15 13:00:34 0 days 00:00:20      Test\n",
       "147819        647             1 2017-04-12 15:41:35 0 days 00:00:07      Test\n",
       "...           ...           ...                 ...             ...       ...\n",
       "114790    9999729             1 2017-05-08 16:08:30 0 days 00:00:05      Test\n",
       "114789    9999729             2 2017-05-08 16:08:40 0 days 00:00:10      Test\n",
       "114788    9999729             3 2017-05-08 16:09:19 0 days 00:00:39      Test\n",
       "114787    9999729             4 2017-05-08 16:09:40 0 days 00:00:21      Test\n",
       "264542    9999832             1 2017-05-16 16:46:11 0 days 00:00:08      Test\n",
       "\n",
       "[217227 rows x 5 columns]"
      ]
     },
     "execution_count": 141,
     "metadata": {},
     "output_type": "execute_result"
    }
   ],
   "source": [
    "\n",
    "merged_web_data = web_group_experiment.sort_values(by=['client_id', 'date_time'])\n",
    "\n",
    "merged_web_data['time_diff'] = merged_web_data.groupby('client_id')['date_time'].diff()\n",
    "\n",
    "merged_web_data = merged_web_data[merged_web_data['process_step'] != 0]\n",
    "\n",
    "merged_web_data[['client_id', 'process_step', 'date_time', 'time_diff','Variation']]"
   ]
  },
  {
   "cell_type": "code",
   "execution_count": 143,
   "id": "02c92536",
   "metadata": {},
   "outputs": [],
   "source": [
    "merged_web_data_test = merged_web_data[merged_web_data['Variation']=='Test']"
   ]
  },
  {
   "cell_type": "code",
   "execution_count": 144,
   "id": "69bc90b9",
   "metadata": {},
   "outputs": [],
   "source": [
    "merged_web_data_control = merged_web_data[merged_web_data['Variation']=='Control']"
   ]
  },
  {
   "cell_type": "code",
   "execution_count": 146,
   "id": "c097c9dc",
   "metadata": {},
   "outputs": [
    {
     "data": {
      "text/plain": [
       "process_step\n",
       "step_1    0 days 00:30:38.781647281\n",
       "step_2    0 days 00:00:39.342259834\n",
       "step_3    0 days 00:09:35.220494575\n",
       "confirm   0 days 18:21:17.307379630\n",
       "Name: time_diff, dtype: timedelta64[ns]"
      ]
     },
     "execution_count": 146,
     "metadata": {},
     "output_type": "execute_result"
    }
   ],
   "source": [
    "average_time_per_step_control = merged_web_data_control.groupby('process_step')['time_diff'].mean()\n",
    "\n",
    "index_rename = {1: 'step_1', 2: 'step_2', 3: 'step_3', 4: 'confirm'}\n",
    "\n",
    "average_time_per_step_control = average_time_per_step_control.rename(index=index_rename)\n",
    "\n",
    "average_time_per_step_control"
   ]
  },
  {
   "cell_type": "code",
   "execution_count": 147,
   "id": "2a91a3a2",
   "metadata": {
    "scrolled": true
   },
   "outputs": [
    {
     "data": {
      "text/plain": [
       "process_step\n",
       "step_1    0 days 00:22:19.804570955\n",
       "step_2    0 days 00:01:51.212471355\n",
       "step_3    0 days 00:12:18.920516488\n",
       "confirm   1 days 05:00:32.783103231\n",
       "Name: time_diff, dtype: timedelta64[ns]"
      ]
     },
     "execution_count": 147,
     "metadata": {},
     "output_type": "execute_result"
    }
   ],
   "source": [
    "average_time_per_step_test = merged_web_data_test.groupby('process_step')['time_diff'].mean()\n",
    "\n",
    "index_rename = {1: 'step_1', 2: 'step_2', 3: 'step_3', 4: 'confirm'}\n",
    "\n",
    "average_time_per_step_test = average_time_per_step_test.rename(index=index_rename)\n",
    "\n",
    "average_time_per_step_test"
   ]
  },
  {
   "cell_type": "markdown",
   "id": "efd6b3c5",
   "metadata": {},
   "source": [
    "Building error rate function."
   ]
  },
  {
   "cell_type": "markdown",
   "id": "9603a1c0",
   "metadata": {},
   "source": [
    "For further information about the function, please refer to backend.py"
   ]
  },
  {
   "cell_type": "code",
   "execution_count": 127,
   "id": "a4ef2cd4",
   "metadata": {},
   "outputs": [],
   "source": [
    "def calculate_error_rate(data,variation=None):\n",
    "\n",
    "    if (variation == 'Test') or (variation == 'Control'):\n",
    "        variation_df = data[data['Variation']== variation]\n",
    "        total_users_at_step = variation_df['client_id'].groupby(variation_df['process_step']).nunique()\n",
    "        backward_steps = variation_df[variation_df['process_step'].shift(1) > variation_df['process_step']]\n",
    "        users_proceeding_to_next_step = variation_df.groupby('process_step')['client_id'].nunique().shift(-1)\n",
    "        users_took_backward_steps = backward_steps.groupby('process_step')['client_id'].nunique()\n",
    "        \n",
    "        #Overall Error Rate\n",
    "        total_users_took_backward_steps = variation_df[variation_df['process_step'].shift(1) > variation_df['process_step']]['client_id'].nunique()\n",
    "        total_users = variation_df['client_id'].nunique()\n",
    "\n",
    "    else:\n",
    "        total_users_at_step = data['client_id'].groupby(data['process_step']).nunique()\n",
    "        backward_steps = data[data['process_step'].shift(1) > data['process_step']]\n",
    "        users_proceeding_to_next_step = data.groupby('process_step')['client_id'].nunique().shift(-1)\n",
    "        users_took_backward_steps = backward_steps.groupby('process_step')['client_id'].nunique()\n",
    "        \n",
    "        # Overall Error Rate\n",
    "        total_users_took_backward_steps = data[data['process_step'].shift(1) > data['process_step']]['client_id'].nunique()\n",
    "        total_users = data['client_id'].nunique()\n",
    "        \n",
    "\n",
    "    error_rate_percentage = (users_took_backward_steps / total_users_at_step) * 100\n",
    "    error_rate_percentage = error_rate_percentage.reindex(index = ['start', 'step_1', 'step_2', 'step_3', 'confirm'])\n",
    "    \n",
    "    overall_error_rate_percentage = (total_users_took_backward_steps / total_users) * 100\n",
    "    \n",
    "    return error_rate_percentage, overall_error_rate_percentage"
   ]
  },
  {
   "cell_type": "code",
   "execution_count": 128,
   "id": "87732541",
   "metadata": {},
   "outputs": [
    {
     "data": {
      "text/plain": [
       "(process_step\n",
       " start      88.515457\n",
       " step_1     91.933632\n",
       " step_2     92.644471\n",
       " step_3           NaN\n",
       " confirm    96.782040\n",
       " Name: client_id, dtype: float64,\n",
       " 88.77029702970297)"
      ]
     },
     "execution_count": 128,
     "metadata": {},
     "output_type": "execute_result"
    }
   ],
   "source": [
    "calculate_error_rate(web_group_experiment)"
   ]
  },
  {
   "cell_type": "code",
   "execution_count": 129,
   "id": "34504960",
   "metadata": {},
   "outputs": [
    {
     "data": {
      "text/plain": [
       "(process_step\n",
       " start      85.908450\n",
       " step_1     92.397777\n",
       " step_2     92.375335\n",
       " step_3           NaN\n",
       " confirm    98.121031\n",
       " Name: client_id, dtype: float64,\n",
       " 86.19751827298997)"
      ]
     },
     "execution_count": 129,
     "metadata": {},
     "output_type": "execute_result"
    }
   ],
   "source": [
    "calculate_error_rate(web_group_experiment,'Control')"
   ]
  },
  {
   "cell_type": "code",
   "execution_count": 130,
   "id": "fe4547b6",
   "metadata": {},
   "outputs": [
    {
     "data": {
      "text/plain": [
       "(process_step\n",
       " start      90.824244\n",
       " step_1     91.519347\n",
       " step_2     92.852008\n",
       " step_3           NaN\n",
       " confirm    95.504896\n",
       " Name: client_id, dtype: float64,\n",
       " 91.02640166122812)"
      ]
     },
     "execution_count": 130,
     "metadata": {},
     "output_type": "execute_result"
    }
   ],
   "source": [
    "calculate_error_rate(web_group_experiment,'Test')"
   ]
  },
  {
   "cell_type": "markdown",
   "id": "003356c8",
   "metadata": {},
   "source": [
    "Testing to see if error function was functioning properly."
   ]
  },
  {
   "cell_type": "code",
   "execution_count": 54,
   "id": "84ecf232",
   "metadata": {},
   "outputs": [
    {
     "data": {
      "text/html": [
       "<div>\n",
       "<style scoped>\n",
       "    .dataframe tbody tr th:only-of-type {\n",
       "        vertical-align: middle;\n",
       "    }\n",
       "\n",
       "    .dataframe tbody tr th {\n",
       "        vertical-align: top;\n",
       "    }\n",
       "\n",
       "    .dataframe thead th {\n",
       "        text-align: right;\n",
       "    }\n",
       "</style>\n",
       "<table border=\"1\" class=\"dataframe\">\n",
       "  <thead>\n",
       "    <tr style=\"text-align: right;\">\n",
       "      <th></th>\n",
       "      <th>client_id</th>\n",
       "      <th>visitor_id</th>\n",
       "      <th>visit_id</th>\n",
       "      <th>process_step</th>\n",
       "      <th>date_time</th>\n",
       "      <th>Variation</th>\n",
       "      <th>time_spent_on_step</th>\n",
       "      <th>time_diff</th>\n",
       "      <th>error</th>\n",
       "    </tr>\n",
       "  </thead>\n",
       "  <tbody>\n",
       "    <tr>\n",
       "      <th>77127</th>\n",
       "      <td>555</td>\n",
       "      <td>402506806_56087378777</td>\n",
       "      <td>637149525_38041617439_716659</td>\n",
       "      <td>confirm</td>\n",
       "      <td>2017-04-15 13:00:34</td>\n",
       "      <td>Test</td>\n",
       "      <td>NaT</td>\n",
       "      <td>0 days 00:00:20</td>\n",
       "      <td>1</td>\n",
       "    </tr>\n",
       "    <tr>\n",
       "      <th>147816</th>\n",
       "      <td>647</td>\n",
       "      <td>66758770_53988066587</td>\n",
       "      <td>40369564_40101682850_311847</td>\n",
       "      <td>confirm</td>\n",
       "      <td>2017-04-12 15:47:45</td>\n",
       "      <td>Test</td>\n",
       "      <td>NaT</td>\n",
       "      <td>0 days 00:02:43</td>\n",
       "      <td>1</td>\n",
       "    </tr>\n",
       "    <tr>\n",
       "      <th>14441</th>\n",
       "      <td>1195</td>\n",
       "      <td>766842522_69992551638</td>\n",
       "      <td>393817425_39015278493_996341</td>\n",
       "      <td>confirm</td>\n",
       "      <td>2017-04-05 20:19:31</td>\n",
       "      <td>Control</td>\n",
       "      <td>NaT</td>\n",
       "      <td>0 days 00:01:23</td>\n",
       "      <td>1</td>\n",
       "    </tr>\n",
       "    <tr>\n",
       "      <th>34092</th>\n",
       "      <td>1197</td>\n",
       "      <td>753759429_54481946928</td>\n",
       "      <td>71862471_21202285428_848395</td>\n",
       "      <td>confirm</td>\n",
       "      <td>2017-04-01 17:17:59</td>\n",
       "      <td>Control</td>\n",
       "      <td>NaT</td>\n",
       "      <td>0 days 00:00:17</td>\n",
       "      <td>1</td>\n",
       "    </tr>\n",
       "    <tr>\n",
       "      <th>311783</th>\n",
       "      <td>1336</td>\n",
       "      <td>920624746_32603333901</td>\n",
       "      <td>583743392_96265099036_939815</td>\n",
       "      <td>confirm</td>\n",
       "      <td>2017-05-08 06:08:43</td>\n",
       "      <td>Test</td>\n",
       "      <td>-1 days +21:47:05</td>\n",
       "      <td>0 days 00:01:49</td>\n",
       "      <td>1</td>\n",
       "    </tr>\n",
       "    <tr>\n",
       "      <th>...</th>\n",
       "      <td>...</td>\n",
       "      <td>...</td>\n",
       "      <td>...</td>\n",
       "      <td>...</td>\n",
       "      <td>...</td>\n",
       "      <td>...</td>\n",
       "      <td>...</td>\n",
       "      <td>...</td>\n",
       "      <td>...</td>\n",
       "    </tr>\n",
       "    <tr>\n",
       "      <th>146060</th>\n",
       "      <td>9998851</td>\n",
       "      <td>660529049_81285947655</td>\n",
       "      <td>310744937_17135608286_213964</td>\n",
       "      <td>confirm</td>\n",
       "      <td>2017-04-05 12:08:43</td>\n",
       "      <td>Test</td>\n",
       "      <td>NaT</td>\n",
       "      <td>0 days 00:00:31</td>\n",
       "      <td>1</td>\n",
       "    </tr>\n",
       "    <tr>\n",
       "      <th>106318</th>\n",
       "      <td>9998964</td>\n",
       "      <td>502193753_63097042630</td>\n",
       "      <td>699981922_52880598802_858635</td>\n",
       "      <td>confirm</td>\n",
       "      <td>2017-04-05 23:50:02</td>\n",
       "      <td>Test</td>\n",
       "      <td>NaT</td>\n",
       "      <td>0 days 00:01:14</td>\n",
       "      <td>1</td>\n",
       "    </tr>\n",
       "    <tr>\n",
       "      <th>42685</th>\n",
       "      <td>9999009</td>\n",
       "      <td>212849256_28644888524</td>\n",
       "      <td>149965839_24823291142_245569</td>\n",
       "      <td>confirm</td>\n",
       "      <td>2017-03-31 07:20:36</td>\n",
       "      <td>Test</td>\n",
       "      <td>NaT</td>\n",
       "      <td>0 days 00:01:58</td>\n",
       "      <td>1</td>\n",
       "    </tr>\n",
       "    <tr>\n",
       "      <th>193892</th>\n",
       "      <td>9999400</td>\n",
       "      <td>915967319_19082377501</td>\n",
       "      <td>288904166_90826265353_276104</td>\n",
       "      <td>confirm</td>\n",
       "      <td>2017-04-20 05:23:27</td>\n",
       "      <td>Test</td>\n",
       "      <td>NaT</td>\n",
       "      <td>0 days 00:00:24</td>\n",
       "      <td>1</td>\n",
       "    </tr>\n",
       "    <tr>\n",
       "      <th>114787</th>\n",
       "      <td>9999729</td>\n",
       "      <td>834634258_21862004160</td>\n",
       "      <td>870243567_56915814033_814203</td>\n",
       "      <td>confirm</td>\n",
       "      <td>2017-05-08 16:09:40</td>\n",
       "      <td>Test</td>\n",
       "      <td>18 days 01:48:13</td>\n",
       "      <td>0 days 00:00:21</td>\n",
       "      <td>1</td>\n",
       "    </tr>\n",
       "  </tbody>\n",
       "</table>\n",
       "<p>34215 rows × 9 columns</p>\n",
       "</div>"
      ],
      "text/plain": [
       "        client_id             visitor_id                      visit_id  \\\n",
       "77127         555  402506806_56087378777  637149525_38041617439_716659   \n",
       "147816        647   66758770_53988066587   40369564_40101682850_311847   \n",
       "14441        1195  766842522_69992551638  393817425_39015278493_996341   \n",
       "34092        1197  753759429_54481946928   71862471_21202285428_848395   \n",
       "311783       1336  920624746_32603333901  583743392_96265099036_939815   \n",
       "...           ...                    ...                           ...   \n",
       "146060    9998851  660529049_81285947655  310744937_17135608286_213964   \n",
       "106318    9998964  502193753_63097042630  699981922_52880598802_858635   \n",
       "42685     9999009  212849256_28644888524  149965839_24823291142_245569   \n",
       "193892    9999400  915967319_19082377501  288904166_90826265353_276104   \n",
       "114787    9999729  834634258_21862004160  870243567_56915814033_814203   \n",
       "\n",
       "       process_step           date_time Variation time_spent_on_step  \\\n",
       "77127       confirm 2017-04-15 13:00:34      Test                NaT   \n",
       "147816      confirm 2017-04-12 15:47:45      Test                NaT   \n",
       "14441       confirm 2017-04-05 20:19:31   Control                NaT   \n",
       "34092       confirm 2017-04-01 17:17:59   Control                NaT   \n",
       "311783      confirm 2017-05-08 06:08:43      Test  -1 days +21:47:05   \n",
       "...             ...                 ...       ...                ...   \n",
       "146060      confirm 2017-04-05 12:08:43      Test                NaT   \n",
       "106318      confirm 2017-04-05 23:50:02      Test                NaT   \n",
       "42685       confirm 2017-03-31 07:20:36      Test                NaT   \n",
       "193892      confirm 2017-04-20 05:23:27      Test                NaT   \n",
       "114787      confirm 2017-05-08 16:09:40      Test   18 days 01:48:13   \n",
       "\n",
       "             time_diff  error  \n",
       "77127  0 days 00:00:20      1  \n",
       "147816 0 days 00:02:43      1  \n",
       "14441  0 days 00:01:23      1  \n",
       "34092  0 days 00:00:17      1  \n",
       "311783 0 days 00:01:49      1  \n",
       "...                ...    ...  \n",
       "146060 0 days 00:00:31      1  \n",
       "106318 0 days 00:01:14      1  \n",
       "42685  0 days 00:01:58      1  \n",
       "193892 0 days 00:00:24      1  \n",
       "114787 0 days 00:00:21      1  \n",
       "\n",
       "[34215 rows x 9 columns]"
      ]
     },
     "execution_count": 54,
     "metadata": {},
     "output_type": "execute_result"
    }
   ],
   "source": [
    "merged_web_data.query(\"process_step == 'confirm' & error == 1\")"
   ]
  },
  {
   "cell_type": "code",
   "execution_count": 166,
   "id": "4268f7b9",
   "metadata": {
    "scrolled": true
   },
   "outputs": [
    {
     "name": "stdout",
     "output_type": "stream",
     "text": [
      "Total Errors: 32423\n",
      "Total Steps: 321309\n",
      "Error Rate: 10.090909373842626\n"
     ]
    },
    {
     "data": {
      "text/plain": [
       "process_step\n",
       "0    20.933495\n",
       "1     8.480916\n",
       "2     8.214505\n",
       "3     0.326562\n",
       "4     0.000000\n",
       "Name: process_step, dtype: float64"
      ]
     },
     "execution_count": 166,
     "metadata": {},
     "output_type": "execute_result"
    }
   ],
   "source": [
    "\n",
    "error_test_1 = web_group_experiment.sort_values(by=['client_id', 'date_time'])\n",
    "\n",
    "\n",
    "error_mask = error_test_1.groupby('client_id')['process_step'].shift(1) > error_test_1['process_step']\n",
    "\n",
    "\n",
    "total_errors = error_mask.sum()\n",
    "\n",
    "\n",
    "total_steps = error_test_1.shape[0]\n",
    "\n",
    "\n",
    "error_rate = total_errors / total_steps *100\n",
    "\n",
    "\n",
    "average_error_per_step = error_mask.groupby(web_group_experiment['process_step']).mean()*100\n",
    "\n",
    "\n",
    "print(\"Total Errors:\", total_errors)\n",
    "print(\"Total Steps:\", total_steps)\n",
    "print(\"Error Rate:\", error_rate)\n",
    "average_error_per_step"
   ]
  },
  {
   "cell_type": "markdown",
   "id": "a24ba60b",
   "metadata": {},
   "source": [
    "Our attempt to calculate the click-through-rate. Due to time limitation, we decided to pursue other parts of the project. Still, it's in our interest to finish the function, since it can be useful in other projects."
   ]
  },
  {
   "cell_type": "code",
   "execution_count": 131,
   "id": "1f95b6f6",
   "metadata": {},
   "outputs": [],
   "source": [
    "def calculate_ctr(data,variation=None):\n",
    "    \n",
    "    if (variation == 'Test') or (variation == 'Control'):\n",
    "        variation_df = data[data['Variation']== variation]\n",
    "        total_users_at_step = variation_df['client_id'].groupby(variation_df['process_step']).nunique()\n",
    "        users_proceeding_to_next_step = variation_df.groupby('process_step')['client_id'].nunique().shift(-1)\n",
    "\n",
    "    else:\n",
    "        total_users_at_step = data['client_id'].groupby(data['process_step']).nunique()\n",
    "        users_proceeding_to_next_step = data.groupby('process_step')['client_id'].nunique().shift(-1)\n",
    "    \n",
    "    \n",
    "    users_proceeding_to_next_step = users_proceeding_to_next_step.fillna(0)\n",
    "    \n",
    "    ctr = (users_proceeding_to_next_step / total_users_at_step)*100\n",
    "    ctr = ctr.reindex(index = ['start', 'step_1', 'step_2', 'step_3', 'confirm'])\n",
    "\n",
    "\n",
    "    return ctr"
   ]
  },
  {
   "cell_type": "code",
   "execution_count": 132,
   "id": "bc7bf954",
   "metadata": {},
   "outputs": [
    {
     "data": {
      "text/plain": [
       "process_step\n",
       "start       88.703171\n",
       "step_1      92.095725\n",
       "step_2      93.632052\n",
       "step_3       0.000000\n",
       "confirm    146.760060\n",
       "Name: client_id, dtype: float64"
      ]
     },
     "execution_count": 132,
     "metadata": {},
     "output_type": "execute_result"
    }
   ],
   "source": [
    "calculate_ctr(web_group_experiment)"
   ]
  },
  {
   "cell_type": "code",
   "execution_count": 133,
   "id": "c476cb94",
   "metadata": {},
   "outputs": [
    {
     "data": {
      "text/plain": [
       "process_step\n",
       "start       86.130701\n",
       "step_1      92.546645\n",
       "step_2      93.415550\n",
       "step_3       0.000000\n",
       "confirm    151.593884\n",
       "Name: client_id, dtype: float64"
      ]
     },
     "execution_count": 133,
     "metadata": {},
     "output_type": "execute_result"
    }
   ],
   "source": [
    "calculate_ctr(web_group_experiment,'Control')"
   ]
  },
  {
   "cell_type": "code",
   "execution_count": 134,
   "id": "2eeb4556",
   "metadata": {},
   "outputs": [
    {
     "data": {
      "text/plain": [
       "process_step\n",
       "start       90.959181\n",
       "step_1      91.721268\n",
       "step_2      93.813460\n",
       "step_3       0.000000\n",
       "confirm    142.767699\n",
       "Name: client_id, dtype: float64"
      ]
     },
     "execution_count": 134,
     "metadata": {},
     "output_type": "execute_result"
    }
   ],
   "source": [
    "calculate_ctr(web_group_experiment,'Test')"
   ]
  },
  {
   "cell_type": "code",
   "execution_count": 168,
   "id": "4f7b9fe6",
   "metadata": {},
   "outputs": [
    {
     "name": "stdout",
     "output_type": "stream",
     "text": [
      "Successful CTR Events: 0\n",
      "Total Possible CTR Events: 0\n",
      "Click-Through-Rate: nan\n"
     ]
    },
    {
     "name": "stderr",
     "output_type": "stream",
     "text": [
      "/var/folders/l6/ynlhkqws5hv7wtyyn6rr6t4c0000gn/T/ipykernel_807/3104391829.py:15: RuntimeWarning: invalid value encountered in scalar divide\n",
      "  ctr_rate = successful_ctr_events / total_possible_ctr_events\n"
     ]
    }
   ],
   "source": [
    "\n",
    "ctr_test_1 = web_group_experiment.sort_values(by=['client_id', 'date_time'])\n",
    "\n",
    "\n",
    "ctr_mask = (ctr_test_1['process_step'].shift(1) == 'start') & ((ctr_test_1['process_step'] == 'step_1') | (ctr_test_1['process_step'] == 'step_2'))\n",
    "\n",
    "\n",
    "successful_ctr_events = ctr_mask.sum()\n",
    "\n",
    "\n",
    "total_possible_ctr_events = (ctr_test_1['process_step'] == 'start').sum()\n",
    "\n",
    "\n",
    "ctr_rate = successful_ctr_events / total_possible_ctr_events\n",
    "\n",
    "# Displaying the result\n",
    "print(\"Successful CTR Events:\", successful_ctr_events)\n",
    "print(\"Total Possible CTR Events:\", total_possible_ctr_events)\n",
    "print(\"Click-Through-Rate:\", ctr_rate)"
   ]
  },
  {
   "cell_type": "code",
   "execution_count": 237,
   "id": "6d0c1008",
   "metadata": {},
   "outputs": [
    {
     "name": "stdout",
     "output_type": "stream",
     "text": [
      "process_step\n",
      "1.0    0.943319\n",
      "2.0    0.977073\n",
      "3.0    0.951550\n",
      "4.0    0.264372\n",
      "Name: process_step, dtype: float64\n"
     ]
    }
   ],
   "source": [
    "\n",
    "ctr_test_2 = web_group_experiment.sort_values(by=['client_id', 'date_time'])\n",
    "\n",
    "\n",
    "ctr_mask_2 = ctr_test_2.groupby('client_id')['process_step'].shift(-1) == ctr_test_2['process_step'].shift(-1)\n",
    "\n",
    "\n",
    "click_through_rate_per_step = ctr_mask_2.groupby(merged_web_data['process_step']).mean()\n",
    "\n",
    "print(click_through_rate_per_step)"
   ]
  },
  {
   "cell_type": "code",
   "execution_count": 229,
   "id": "029f332f",
   "metadata": {},
   "outputs": [
    {
     "data": {
      "text/plain": [
       "77131      True\n",
       "77130      True\n",
       "77129      True\n",
       "77128      True\n",
       "77127     False\n",
       "          ...  \n",
       "114789     True\n",
       "114788     True\n",
       "114787    False\n",
       "264543     True\n",
       "264542    False\n",
       "Name: process_step, Length: 321309, dtype: bool"
      ]
     },
     "execution_count": 229,
     "metadata": {},
     "output_type": "execute_result"
    }
   ],
   "source": [
    "ctr_mask_2"
   ]
  },
  {
   "cell_type": "code",
   "execution_count": 235,
   "id": "c9ec4c5a",
   "metadata": {},
   "outputs": [
    {
     "data": {
      "text/plain": [
       "client_id                            2414662\n",
       "visitor_id             667386499_58731605451\n",
       "visit_id        111288517_23205461743_982637\n",
       "process_step                               3\n",
       "date_time                2017-03-28 18:32:15\n",
       "Variation                               Test\n",
       "Name: 89075, dtype: object"
      ]
     },
     "execution_count": 235,
     "metadata": {},
     "output_type": "execute_result"
    }
   ],
   "source": [
    "ctr_test_2.iloc[77131]"
   ]
  },
  {
   "cell_type": "code",
   "execution_count": 236,
   "id": "a7039e94",
   "metadata": {},
   "outputs": [
    {
     "data": {
      "text/html": [
       "<div>\n",
       "<style scoped>\n",
       "    .dataframe tbody tr th:only-of-type {\n",
       "        vertical-align: middle;\n",
       "    }\n",
       "\n",
       "    .dataframe tbody tr th {\n",
       "        vertical-align: top;\n",
       "    }\n",
       "\n",
       "    .dataframe thead th {\n",
       "        text-align: right;\n",
       "    }\n",
       "</style>\n",
       "<table border=\"1\" class=\"dataframe\">\n",
       "  <thead>\n",
       "    <tr style=\"text-align: right;\">\n",
       "      <th></th>\n",
       "      <th>client_id</th>\n",
       "      <th>visitor_id</th>\n",
       "      <th>visit_id</th>\n",
       "      <th>process_step</th>\n",
       "      <th>date_time</th>\n",
       "      <th>Variation</th>\n",
       "    </tr>\n",
       "  </thead>\n",
       "  <tbody>\n",
       "    <tr>\n",
       "      <th>89078</th>\n",
       "      <td>2414662</td>\n",
       "      <td>667386499_58731605451</td>\n",
       "      <td>111288517_23205461743_982637</td>\n",
       "      <td>0</td>\n",
       "      <td>2017-03-28 18:29:11</td>\n",
       "      <td>Test</td>\n",
       "    </tr>\n",
       "    <tr>\n",
       "      <th>89077</th>\n",
       "      <td>2414662</td>\n",
       "      <td>667386499_58731605451</td>\n",
       "      <td>111288517_23205461743_982637</td>\n",
       "      <td>1</td>\n",
       "      <td>2017-03-28 18:30:58</td>\n",
       "      <td>Test</td>\n",
       "    </tr>\n",
       "    <tr>\n",
       "      <th>89076</th>\n",
       "      <td>2414662</td>\n",
       "      <td>667386499_58731605451</td>\n",
       "      <td>111288517_23205461743_982637</td>\n",
       "      <td>2</td>\n",
       "      <td>2017-03-28 18:31:47</td>\n",
       "      <td>Test</td>\n",
       "    </tr>\n",
       "    <tr>\n",
       "      <th>89075</th>\n",
       "      <td>2414662</td>\n",
       "      <td>667386499_58731605451</td>\n",
       "      <td>111288517_23205461743_982637</td>\n",
       "      <td>3</td>\n",
       "      <td>2017-03-28 18:32:15</td>\n",
       "      <td>Test</td>\n",
       "    </tr>\n",
       "    <tr>\n",
       "      <th>89074</th>\n",
       "      <td>2414662</td>\n",
       "      <td>667386499_58731605451</td>\n",
       "      <td>111288517_23205461743_982637</td>\n",
       "      <td>4</td>\n",
       "      <td>2017-03-28 18:33:46</td>\n",
       "      <td>Test</td>\n",
       "    </tr>\n",
       "    <tr>\n",
       "      <th>89073</th>\n",
       "      <td>2414662</td>\n",
       "      <td>667386499_58731605451</td>\n",
       "      <td>693118467_54529385066_933320</td>\n",
       "      <td>4</td>\n",
       "      <td>2017-04-03 18:16:49</td>\n",
       "      <td>Test</td>\n",
       "    </tr>\n",
       "  </tbody>\n",
       "</table>\n",
       "</div>"
      ],
      "text/plain": [
       "       client_id             visitor_id                      visit_id  \\\n",
       "89078    2414662  667386499_58731605451  111288517_23205461743_982637   \n",
       "89077    2414662  667386499_58731605451  111288517_23205461743_982637   \n",
       "89076    2414662  667386499_58731605451  111288517_23205461743_982637   \n",
       "89075    2414662  667386499_58731605451  111288517_23205461743_982637   \n",
       "89074    2414662  667386499_58731605451  111288517_23205461743_982637   \n",
       "89073    2414662  667386499_58731605451  693118467_54529385066_933320   \n",
       "\n",
       "       process_step           date_time Variation  \n",
       "89078             0 2017-03-28 18:29:11      Test  \n",
       "89077             1 2017-03-28 18:30:58      Test  \n",
       "89076             2 2017-03-28 18:31:47      Test  \n",
       "89075             3 2017-03-28 18:32:15      Test  \n",
       "89074             4 2017-03-28 18:33:46      Test  \n",
       "89073             4 2017-04-03 18:16:49      Test  "
      ]
     },
     "execution_count": 236,
     "metadata": {},
     "output_type": "execute_result"
    }
   ],
   "source": [
    "ctr_test_2.query('client_id==2414662')"
   ]
  },
  {
   "cell_type": "code",
   "execution_count": 198,
   "id": "fefbc57b",
   "metadata": {},
   "outputs": [
    {
     "name": "stdout",
     "output_type": "stream",
     "text": [
      "0.8707389044639939\n"
     ]
    }
   ],
   "source": [
    "\n",
    "ctr_test_3 = web_group_experiment.sort_values(by=['client_id', 'date_time'])\n",
    "\n",
    "\n",
    "eligible_clicks = ctr_test_3['process_step'].shift(1) != 0\n",
    "\n",
    "\n",
    "click_through_mask = (ctr_test_3['process_step'].shift(1) + 1 == ctr_test_3['process_step']) & (ctr_test_3['process_step'] > 0)\n",
    "\n",
    "\n",
    "total_eligible_transitions = eligible_clicks.sum()\n",
    "\n",
    "\n",
    "total_click_through_events = click_through_mask.sum()\n",
    "\n",
    "click_through_rate_per_step = total_click_through_events / total_eligible_transitions\n",
    "\n",
    "\n",
    "print(click_through_rate_per_step)"
   ]
  },
  {
   "cell_type": "code",
   "execution_count": 233,
   "id": "2e321964",
   "metadata": {},
   "outputs": [
    {
     "data": {
      "text/plain": [
       "client_id                            5429577\n",
       "visitor_id             953417162_25754415962\n",
       "visit_id        818259206_38623400239_128890\n",
       "process_step                               0\n",
       "date_time                2017-04-02 10:32:44\n",
       "Variation                            Control\n",
       "Name: 814, dtype: object"
      ]
     },
     "execution_count": 233,
     "metadata": {},
     "output_type": "execute_result"
    }
   ],
   "source": [
    "ctr_test_3.iloc[173345]"
   ]
  },
  {
   "cell_type": "code",
   "execution_count": 234,
   "id": "e31a228a",
   "metadata": {},
   "outputs": [
    {
     "data": {
      "text/html": [
       "<div>\n",
       "<style scoped>\n",
       "    .dataframe tbody tr th:only-of-type {\n",
       "        vertical-align: middle;\n",
       "    }\n",
       "\n",
       "    .dataframe tbody tr th {\n",
       "        vertical-align: top;\n",
       "    }\n",
       "\n",
       "    .dataframe thead th {\n",
       "        text-align: right;\n",
       "    }\n",
       "</style>\n",
       "<table border=\"1\" class=\"dataframe\">\n",
       "  <thead>\n",
       "    <tr style=\"text-align: right;\">\n",
       "      <th></th>\n",
       "      <th>client_id</th>\n",
       "      <th>visitor_id</th>\n",
       "      <th>visit_id</th>\n",
       "      <th>process_step</th>\n",
       "      <th>date_time</th>\n",
       "      <th>Variation</th>\n",
       "    </tr>\n",
       "  </thead>\n",
       "  <tbody>\n",
       "    <tr>\n",
       "      <th>173348</th>\n",
       "      <td>2414527</td>\n",
       "      <td>288008927_45592456398</td>\n",
       "      <td>190214071_66174343229_718933</td>\n",
       "      <td>0</td>\n",
       "      <td>2017-04-07 13:26:00</td>\n",
       "      <td>Control</td>\n",
       "    </tr>\n",
       "    <tr>\n",
       "      <th>173347</th>\n",
       "      <td>2414527</td>\n",
       "      <td>288008927_45592456398</td>\n",
       "      <td>190214071_66174343229_718933</td>\n",
       "      <td>0</td>\n",
       "      <td>2017-04-07 13:34:38</td>\n",
       "      <td>Control</td>\n",
       "    </tr>\n",
       "    <tr>\n",
       "      <th>173346</th>\n",
       "      <td>2414527</td>\n",
       "      <td>288008927_45592456398</td>\n",
       "      <td>190214071_66174343229_718933</td>\n",
       "      <td>1</td>\n",
       "      <td>2017-04-07 13:34:45</td>\n",
       "      <td>Control</td>\n",
       "    </tr>\n",
       "    <tr>\n",
       "      <th>173345</th>\n",
       "      <td>2414527</td>\n",
       "      <td>288008927_45592456398</td>\n",
       "      <td>190214071_66174343229_718933</td>\n",
       "      <td>2</td>\n",
       "      <td>2017-04-07 13:35:22</td>\n",
       "      <td>Control</td>\n",
       "    </tr>\n",
       "    <tr>\n",
       "      <th>173344</th>\n",
       "      <td>2414527</td>\n",
       "      <td>288008927_45592456398</td>\n",
       "      <td>190214071_66174343229_718933</td>\n",
       "      <td>3</td>\n",
       "      <td>2017-04-07 13:38:32</td>\n",
       "      <td>Control</td>\n",
       "    </tr>\n",
       "    <tr>\n",
       "      <th>173343</th>\n",
       "      <td>2414527</td>\n",
       "      <td>288008927_45592456398</td>\n",
       "      <td>190214071_66174343229_718933</td>\n",
       "      <td>4</td>\n",
       "      <td>2017-04-07 13:39:56</td>\n",
       "      <td>Control</td>\n",
       "    </tr>\n",
       "    <tr>\n",
       "      <th>173342</th>\n",
       "      <td>2414527</td>\n",
       "      <td>288008927_45592456398</td>\n",
       "      <td>190214071_66174343229_718933</td>\n",
       "      <td>0</td>\n",
       "      <td>2017-04-07 13:41:06</td>\n",
       "      <td>Control</td>\n",
       "    </tr>\n",
       "    <tr>\n",
       "      <th>173341</th>\n",
       "      <td>2414527</td>\n",
       "      <td>288008927_45592456398</td>\n",
       "      <td>190214071_66174343229_718933</td>\n",
       "      <td>1</td>\n",
       "      <td>2017-04-07 13:41:14</td>\n",
       "      <td>Control</td>\n",
       "    </tr>\n",
       "  </tbody>\n",
       "</table>\n",
       "</div>"
      ],
      "text/plain": [
       "        client_id             visitor_id                      visit_id  \\\n",
       "173348    2414527  288008927_45592456398  190214071_66174343229_718933   \n",
       "173347    2414527  288008927_45592456398  190214071_66174343229_718933   \n",
       "173346    2414527  288008927_45592456398  190214071_66174343229_718933   \n",
       "173345    2414527  288008927_45592456398  190214071_66174343229_718933   \n",
       "173344    2414527  288008927_45592456398  190214071_66174343229_718933   \n",
       "173343    2414527  288008927_45592456398  190214071_66174343229_718933   \n",
       "173342    2414527  288008927_45592456398  190214071_66174343229_718933   \n",
       "173341    2414527  288008927_45592456398  190214071_66174343229_718933   \n",
       "\n",
       "        process_step           date_time Variation  \n",
       "173348             0 2017-04-07 13:26:00   Control  \n",
       "173347             0 2017-04-07 13:34:38   Control  \n",
       "173346             1 2017-04-07 13:34:45   Control  \n",
       "173345             2 2017-04-07 13:35:22   Control  \n",
       "173344             3 2017-04-07 13:38:32   Control  \n",
       "173343             4 2017-04-07 13:39:56   Control  \n",
       "173342             0 2017-04-07 13:41:06   Control  \n",
       "173341             1 2017-04-07 13:41:14   Control  "
      ]
     },
     "execution_count": 234,
     "metadata": {},
     "output_type": "execute_result"
    }
   ],
   "source": [
    "ctr_test_3.query('client_id==2414527')"
   ]
  },
  {
   "cell_type": "markdown",
   "id": "79990220",
   "metadata": {},
   "source": [
    "Building the drop-off-rate function."
   ]
  },
  {
   "cell_type": "markdown",
   "id": "e9712b1e",
   "metadata": {},
   "source": [
    "For further information about the function, please refer to backend.py"
   ]
  },
  {
   "cell_type": "code",
   "execution_count": 135,
   "id": "9ca1f547",
   "metadata": {},
   "outputs": [],
   "source": [
    "def calculate_drop_off_rate(data,variation=None):\n",
    "    \n",
    "    if (variation == 'Test') or (variation == 'Control'):\n",
    "        variation_df = data[data['Variation']== variation]\n",
    "        total_users_at_step = variation_df['client_id'].groupby(variation_df['process_step']).nunique()\n",
    "        users_abandoned_at_step = total_users_at_step - variation_df.groupby('process_step')['client_id'].nunique().shift(-1)\n",
    "    \n",
    "    else:\n",
    "        total_users_at_step = data['client_id'].groupby(data['process_step']).nunique()\n",
    "        users_abandoned_at_step = total_users_at_step - data.groupby('process_step')['client_id'].nunique().shift(-1)\n",
    "    \n",
    "   \n",
    "    users_abandoned_at_step = users_abandoned_at_step.fillna(0)\n",
    "    drop_off_rate_percentage = (users_abandoned_at_step / total_users_at_step) * 100\n",
    "    drop_off_rate_percentage = drop_off_rate_percentage.reindex(index = ['start', 'step_1', 'step_2', 'step_3', 'confirm'])\n",
    "\n",
    "\n",
    "    return drop_off_rate_percentage"
   ]
  },
  {
   "cell_type": "code",
   "execution_count": 136,
   "id": "33fc96aa",
   "metadata": {},
   "outputs": [
    {
     "data": {
      "text/plain": [
       "process_step\n",
       "start      11.296829\n",
       "step_1      7.904275\n",
       "step_2      6.367948\n",
       "step_3      0.000000\n",
       "confirm   -46.760060\n",
       "Name: client_id, dtype: float64"
      ]
     },
     "execution_count": 136,
     "metadata": {},
     "output_type": "execute_result"
    }
   ],
   "source": [
    "calculate_drop_off_rate(web_group_experiment)"
   ]
  },
  {
   "cell_type": "code",
   "execution_count": 137,
   "id": "43d41357",
   "metadata": {},
   "outputs": [
    {
     "data": {
      "text/plain": [
       "process_step\n",
       "start      13.869299\n",
       "step_1      7.453355\n",
       "step_2      6.584450\n",
       "step_3      0.000000\n",
       "confirm   -51.593884\n",
       "Name: client_id, dtype: float64"
      ]
     },
     "execution_count": 137,
     "metadata": {},
     "output_type": "execute_result"
    }
   ],
   "source": [
    "calculate_drop_off_rate(web_group_experiment,'Control')"
   ]
  },
  {
   "cell_type": "code",
   "execution_count": 138,
   "id": "6b5819f7",
   "metadata": {},
   "outputs": [
    {
     "data": {
      "text/plain": [
       "process_step\n",
       "start       9.040819\n",
       "step_1      8.278732\n",
       "step_2      6.186540\n",
       "step_3      0.000000\n",
       "confirm   -42.767699\n",
       "Name: client_id, dtype: float64"
      ]
     },
     "execution_count": 138,
     "metadata": {},
     "output_type": "execute_result"
    }
   ],
   "source": [
    "calculate_drop_off_rate(web_group_experiment,'Test')"
   ]
  },
  {
   "cell_type": "markdown",
   "id": "6743f8cb",
   "metadata": {},
   "source": [
    "# Visualizing"
   ]
  },
  {
   "cell_type": "markdown",
   "id": "b16f90dc",
   "metadata": {},
   "source": [
    "Visualizing the distribution of the client's age across both groups."
   ]
  },
  {
   "cell_type": "code",
   "execution_count": 47,
   "id": "7da01855",
   "metadata": {},
   "outputs": [
    {
     "data": {
      "image/png": "[encoded data removed]",
      "text/plain": [
       "<Figure size 640x480 with 1 Axes>"
      ]
     },
     "metadata": {},
     "output_type": "display_data"
    }
   ],
   "source": [
    "sns.set_palette(\"RdPu\")\n",
    "sns.histplot(final_rooster_process_counts_profile['clnt_age'], bins=20, kde=True)\n",
    "plt.title(\"Distribution of Experiment's Client Age\")\n",
    "plt.show()"
   ]
  },
  {
   "cell_type": "markdown",
   "id": "da62aa7a",
   "metadata": {},
   "source": [
    "Visualizing client tenure, or years with the company. \n",
    "\n",
    "From Vanguard's inception to 2017, the max years a client can have with the company is 42 years. We filtered out the clients that were about that number."
   ]
  },
  {
   "cell_type": "code",
   "execution_count": 147,
   "id": "c66322cb",
   "metadata": {},
   "outputs": [],
   "source": [
    "max_value = 42\n",
    "final_rooster_process_counts_profile['clnt_tenure_yr']\n",
    "final_rooster_process_counts_profile['clnt_tenure_yr'] = np.where(final_rooster_process_counts_profile['clnt_tenure_yr'] > max_value, np.nan, final_rooster_process_counts_profile['clnt_tenure_yr'])"
   ]
  },
  {
   "cell_type": "code",
   "execution_count": 148,
   "id": "54726705",
   "metadata": {},
   "outputs": [
    {
     "data": {
      "image/png": "[encoded data removed]",
      "text/plain": [
       "<Figure size 640x480 with 1 Axes>"
      ]
     },
     "metadata": {},
     "output_type": "display_data"
    }
   ],
   "source": [
    "sns.set_palette(\"RdPu\")\n",
    "sns.histplot(final_rooster_process_counts_profile['clnt_tenure_yr'], bins=20, kde=True)\n",
    "plt.title('Distribution of Tenure')\n",
    "plt.show()"
   ]
  },
  {
   "cell_type": "markdown",
   "id": "99e298f7",
   "metadata": {},
   "source": [
    "Visualizing the distribution of the client's age across both groups using bins."
   ]
  },
  {
   "cell_type": "code",
   "execution_count": 49,
   "id": "4bfd994d",
   "metadata": {},
   "outputs": [],
   "source": [
    "final_rooster_process_counts_profile['age_group'] = pd.cut(final_rooster_process_counts_profile['clnt_age'], bins=[20, 30, 40, 50, 60, 70, 80], labels=['20-30', '30-40', '40-50', '50-60', '60-70', '70-80'])"
   ]
  },
  {
   "cell_type": "code",
   "execution_count": 52,
   "id": "f4cfd2db",
   "metadata": {},
   "outputs": [
    {
     "data": {
      "text/plain": [
       "Text(0.5, 1.0, 'Distribution of Clients by Age Group')"
      ]
     },
     "execution_count": 52,
     "metadata": {},
     "output_type": "execute_result"
    },
    {
     "data": {
      "image/png": "[encoded data removed]",
      "text/plain": [
       "<Figure size 640x480 with 1 Axes>"
      ]
     },
     "metadata": {},
     "output_type": "display_data"
    }
   ],
   "source": [
    "sns.set_palette(\"RdPu\")\n",
    "sns.countplot(x='age_group', data=final_rooster_process_counts_profile, hue='age_group')\n",
    "plt.title('Distribution of Clients by Age Group')"
   ]
  },
  {
   "cell_type": "code",
   "execution_count": null,
   "id": "016b9163",
   "metadata": {},
   "outputs": [],
   "source": []
  },
  {
   "cell_type": "code",
   "execution_count": null,
   "id": "531338e6",
   "metadata": {},
   "outputs": [],
   "source": []
  },
  {
   "cell_type": "code",
   "execution_count": null,
   "id": "eb19cbbd",
   "metadata": {},
   "outputs": [],
   "source": []
  },
  {
   "cell_type": "code",
   "execution_count": null,
   "id": "ec3e8401",
   "metadata": {},
   "outputs": [],
   "source": []
  },
  {
   "cell_type": "code",
   "execution_count": null,
   "id": "08406adc",
   "metadata": {},
   "outputs": [],
   "source": []
  },
  {
   "cell_type": "code",
   "execution_count": null,
   "id": "0d72d432",
   "metadata": {},
   "outputs": [],
   "source": []
  },
  {
   "cell_type": "markdown",
   "id": "cf068a03",
   "metadata": {},
   "source": [
    "# Exploring data types & missing values"
   ]
  },
  {
   "cell_type": "markdown",
   "id": "d038f5e1",
   "metadata": {},
   "source": [
    "# This code was used at the beginning of the project when dataframes weren't clean. Since then, the dataframes have changed, but we still leave this part for you to see what steps we took to clean the datasets."
   ]
  },
  {
   "cell_type": "code",
   "execution_count": 19,
   "id": "7b02e4fd",
   "metadata": {},
   "outputs": [
    {
     "name": "stdout",
     "output_type": "stream",
     "text": [
      "<class 'pandas.core.frame.DataFrame'>\n",
      "RangeIndex: 70609 entries, 0 to 70608\n",
      "Data columns (total 9 columns):\n",
      " #   Column            Non-Null Count  Dtype  \n",
      "---  ------            --------------  -----  \n",
      " 0   client_id         70609 non-null  int64  \n",
      " 1   clnt_tenure_yr    70595 non-null  float64\n",
      " 2   clnt_tenure_mnth  70595 non-null  float64\n",
      " 3   clnt_age          70594 non-null  float64\n",
      " 4   gendr             70595 non-null  object \n",
      " 5   num_accts         70595 non-null  float64\n",
      " 6   bal               70595 non-null  float64\n",
      " 7   calls_6_mnth      70595 non-null  float64\n",
      " 8   logons_6_mnth     70595 non-null  float64\n",
      "dtypes: float64(7), int64(1), object(1)\n",
      "memory usage: 4.8+ MB\n"
     ]
    }
   ],
   "source": [
    "client_profiles.info()"
   ]
  },
  {
   "cell_type": "code",
   "execution_count": 20,
   "id": "72c5bf69",
   "metadata": {},
   "outputs": [
    {
     "data": {
      "text/plain": [
       "Index(['client_id', 'clnt_tenure_yr', 'clnt_tenure_mnth', 'clnt_age', 'gendr',\n",
       "       'num_accts', 'bal', 'calls_6_mnth', 'logons_6_mnth'],\n",
       "      dtype='object')"
      ]
     },
     "execution_count": 20,
     "metadata": {},
     "output_type": "execute_result"
    }
   ],
   "source": [
    "client_profiles.columns"
   ]
  },
  {
   "cell_type": "code",
   "execution_count": 21,
   "id": "cc78388a",
   "metadata": {},
   "outputs": [
    {
     "name": "stdout",
     "output_type": "stream",
     "text": [
      "<class 'pandas.core.frame.DataFrame'>\n",
      "RangeIndex: 160786 entries, 0 to 160785\n",
      "Data columns (total 9 columns):\n",
      " #   Column          Non-Null Count   Dtype         \n",
      "---  ------          --------------   -----         \n",
      " 0   client_id       160786 non-null  int64         \n",
      " 1   visitor_id_x    160786 non-null  object        \n",
      " 2   visit_id_x      160786 non-null  object        \n",
      " 3   process_step_x  160786 non-null  object        \n",
      " 4   date_time_x     160786 non-null  datetime64[ns]\n",
      " 5   visitor_id_y    160786 non-null  object        \n",
      " 6   visit_id_y      160786 non-null  object        \n",
      " 7   process_step_y  160786 non-null  object        \n",
      " 8   date_time_y     160786 non-null  datetime64[ns]\n",
      "dtypes: datetime64[ns](2), int64(1), object(6)\n",
      "memory usage: 11.0+ MB\n"
     ]
    }
   ],
   "source": [
    "digital_footprints.info()"
   ]
  },
  {
   "cell_type": "code",
   "execution_count": 71,
   "id": "f3a48822",
   "metadata": {},
   "outputs": [
    {
     "data": {
      "text/plain": [
       "Index(['client_id', 'visitor_id_x', 'visit_id_x', 'process_step_x',\n",
       "       'date_time_x', 'visitor_id_y', 'visit_id_y', 'process_step_y',\n",
       "       'date_time_y'],\n",
       "      dtype='object')"
      ]
     },
     "execution_count": 71,
     "metadata": {},
     "output_type": "execute_result"
    }
   ],
   "source": [
    "digital_footprints.columns"
   ]
  },
  {
   "cell_type": "code",
   "execution_count": 72,
   "id": "28937011",
   "metadata": {},
   "outputs": [
    {
     "data": {
      "text/plain": [
       "0         2017-04-05 16:06:35\n",
       "1         2017-04-05 16:06:35\n",
       "2         2017-04-05 16:06:35\n",
       "3         2017-04-05 16:06:35\n",
       "4         2017-04-05 16:06:35\n",
       "                 ...         \n",
       "160781    2017-03-31 15:15:46\n",
       "160782    2017-03-31 15:14:53\n",
       "160783    2017-03-31 15:12:08\n",
       "160784    2017-03-31 15:11:37\n",
       "160785    2017-03-31 15:10:47\n",
       "Name: date_time_x, Length: 160786, dtype: object"
      ]
     },
     "execution_count": 72,
     "metadata": {},
     "output_type": "execute_result"
    }
   ],
   "source": [
    "digital_footprints['date_time_x']"
   ]
  },
  {
   "cell_type": "code",
   "execution_count": 10,
   "id": "b3f1afc2",
   "metadata": {},
   "outputs": [
    {
     "name": "stdout",
     "output_type": "stream",
     "text": [
      "<class 'pandas.core.frame.DataFrame'>\n",
      "RangeIndex: 70609 entries, 0 to 70608\n",
      "Data columns (total 2 columns):\n",
      " #   Column     Non-Null Count  Dtype \n",
      "---  ------     --------------  ----- \n",
      " 0   client_id  70609 non-null  int64 \n",
      " 1   Variation  50500 non-null  object\n",
      "dtypes: int64(1), object(1)\n",
      "memory usage: 1.1+ MB\n"
     ]
    }
   ],
   "source": [
    "experiment_roster.info()"
   ]
  },
  {
   "cell_type": "code",
   "execution_count": 53,
   "id": "2e2a89f2",
   "metadata": {},
   "outputs": [
    {
     "data": {
      "text/plain": [
       "Index(['client_id', 'Variation'], dtype='object')"
      ]
     },
     "execution_count": 53,
     "metadata": {},
     "output_type": "execute_result"
    }
   ],
   "source": [
    "experiment_roster.columns"
   ]
  },
  {
   "cell_type": "code",
   "execution_count": 87,
   "id": "8f442147",
   "metadata": {},
   "outputs": [
    {
     "data": {
      "text/html": [
       "<div>\n",
       "<style scoped>\n",
       "    .dataframe tbody tr th:only-of-type {\n",
       "        vertical-align: middle;\n",
       "    }\n",
       "\n",
       "    .dataframe tbody tr th {\n",
       "        vertical-align: top;\n",
       "    }\n",
       "\n",
       "    .dataframe thead th {\n",
       "        text-align: right;\n",
       "    }\n",
       "</style>\n",
       "<table border=\"1\" class=\"dataframe\">\n",
       "  <thead>\n",
       "    <tr style=\"text-align: right;\">\n",
       "      <th></th>\n",
       "      <th>client_id</th>\n",
       "      <th>clnt_tenure_yr</th>\n",
       "      <th>clnt_tenure_mnth</th>\n",
       "      <th>clnt_age</th>\n",
       "      <th>gendr</th>\n",
       "      <th>num_accts</th>\n",
       "      <th>bal</th>\n",
       "      <th>calls_6_mnth</th>\n",
       "      <th>logons_6_mnth</th>\n",
       "      <th>visitor_id_x</th>\n",
       "      <th>visit_id_x</th>\n",
       "      <th>process_step_x</th>\n",
       "      <th>date_time_x</th>\n",
       "      <th>visitor_id_y</th>\n",
       "      <th>visit_id_y</th>\n",
       "      <th>process_step_y</th>\n",
       "      <th>date_time_y</th>\n",
       "    </tr>\n",
       "  </thead>\n",
       "  <tbody>\n",
       "    <tr>\n",
       "      <th>0</th>\n",
       "      <td>2892152</td>\n",
       "      <td>4.0</td>\n",
       "      <td>58.0</td>\n",
       "      <td>36.0</td>\n",
       "      <td>U</td>\n",
       "      <td>2.0</td>\n",
       "      <td>46815.48</td>\n",
       "      <td>5.0</td>\n",
       "      <td>8.0</td>\n",
       "      <td>475009955_99741870924</td>\n",
       "      <td>953097438_9608092216_244580</td>\n",
       "      <td>start</td>\n",
       "      <td>2017-04-05 22:33:57</td>\n",
       "      <td>475009955_99741870924</td>\n",
       "      <td>444789517_93530657187_644985</td>\n",
       "      <td>confirm</td>\n",
       "      <td>2017-05-06 22:41:48</td>\n",
       "    </tr>\n",
       "    <tr>\n",
       "      <th>1</th>\n",
       "      <td>2892152</td>\n",
       "      <td>4.0</td>\n",
       "      <td>58.0</td>\n",
       "      <td>36.0</td>\n",
       "      <td>U</td>\n",
       "      <td>2.0</td>\n",
       "      <td>46815.48</td>\n",
       "      <td>5.0</td>\n",
       "      <td>8.0</td>\n",
       "      <td>475009955_99741870924</td>\n",
       "      <td>953097438_9608092216_244580</td>\n",
       "      <td>start</td>\n",
       "      <td>2017-04-05 22:33:57</td>\n",
       "      <td>475009955_99741870924</td>\n",
       "      <td>444789517_93530657187_644985</td>\n",
       "      <td>step_3</td>\n",
       "      <td>2017-05-06 22:39:41</td>\n",
       "    </tr>\n",
       "    <tr>\n",
       "      <th>2</th>\n",
       "      <td>2892152</td>\n",
       "      <td>4.0</td>\n",
       "      <td>58.0</td>\n",
       "      <td>36.0</td>\n",
       "      <td>U</td>\n",
       "      <td>2.0</td>\n",
       "      <td>46815.48</td>\n",
       "      <td>5.0</td>\n",
       "      <td>8.0</td>\n",
       "      <td>475009955_99741870924</td>\n",
       "      <td>953097438_9608092216_244580</td>\n",
       "      <td>start</td>\n",
       "      <td>2017-04-05 22:33:57</td>\n",
       "      <td>475009955_99741870924</td>\n",
       "      <td>444789517_93530657187_644985</td>\n",
       "      <td>step_2</td>\n",
       "      <td>2017-05-06 22:38:09</td>\n",
       "    </tr>\n",
       "    <tr>\n",
       "      <th>3</th>\n",
       "      <td>2892152</td>\n",
       "      <td>4.0</td>\n",
       "      <td>58.0</td>\n",
       "      <td>36.0</td>\n",
       "      <td>U</td>\n",
       "      <td>2.0</td>\n",
       "      <td>46815.48</td>\n",
       "      <td>5.0</td>\n",
       "      <td>8.0</td>\n",
       "      <td>475009955_99741870924</td>\n",
       "      <td>953097438_9608092216_244580</td>\n",
       "      <td>start</td>\n",
       "      <td>2017-04-05 22:33:57</td>\n",
       "      <td>475009955_99741870924</td>\n",
       "      <td>444789517_93530657187_644985</td>\n",
       "      <td>step_1</td>\n",
       "      <td>2017-05-06 22:37:12</td>\n",
       "    </tr>\n",
       "    <tr>\n",
       "      <th>4</th>\n",
       "      <td>2892152</td>\n",
       "      <td>4.0</td>\n",
       "      <td>58.0</td>\n",
       "      <td>36.0</td>\n",
       "      <td>U</td>\n",
       "      <td>2.0</td>\n",
       "      <td>46815.48</td>\n",
       "      <td>5.0</td>\n",
       "      <td>8.0</td>\n",
       "      <td>475009955_99741870924</td>\n",
       "      <td>953097438_9608092216_244580</td>\n",
       "      <td>start</td>\n",
       "      <td>2017-04-05 22:33:57</td>\n",
       "      <td>475009955_99741870924</td>\n",
       "      <td>444789517_93530657187_644985</td>\n",
       "      <td>start</td>\n",
       "      <td>2017-05-06 22:34:49</td>\n",
       "    </tr>\n",
       "    <tr>\n",
       "      <th>...</th>\n",
       "      <td>...</td>\n",
       "      <td>...</td>\n",
       "      <td>...</td>\n",
       "      <td>...</td>\n",
       "      <td>...</td>\n",
       "      <td>...</td>\n",
       "      <td>...</td>\n",
       "      <td>...</td>\n",
       "      <td>...</td>\n",
       "      <td>...</td>\n",
       "      <td>...</td>\n",
       "      <td>...</td>\n",
       "      <td>...</td>\n",
       "      <td>...</td>\n",
       "      <td>...</td>\n",
       "      <td>...</td>\n",
       "      <td>...</td>\n",
       "    </tr>\n",
       "    <tr>\n",
       "      <th>155568</th>\n",
       "      <td>7807844</td>\n",
       "      <td>5.0</td>\n",
       "      <td>70.0</td>\n",
       "      <td>37.0</td>\n",
       "      <td>U</td>\n",
       "      <td>2.0</td>\n",
       "      <td>493497.05</td>\n",
       "      <td>2.0</td>\n",
       "      <td>2.0</td>\n",
       "      <td>22703806_12091389151</td>\n",
       "      <td>582197818_99560699743_991536</td>\n",
       "      <td>step_1</td>\n",
       "      <td>2017-04-19 11:14:13</td>\n",
       "      <td>355191087_38612428309</td>\n",
       "      <td>218671552_6538580332_69944</td>\n",
       "      <td>start</td>\n",
       "      <td>2017-06-18 20:12:35</td>\n",
       "    </tr>\n",
       "    <tr>\n",
       "      <th>155569</th>\n",
       "      <td>7807844</td>\n",
       "      <td>5.0</td>\n",
       "      <td>70.0</td>\n",
       "      <td>37.0</td>\n",
       "      <td>U</td>\n",
       "      <td>2.0</td>\n",
       "      <td>493497.05</td>\n",
       "      <td>2.0</td>\n",
       "      <td>2.0</td>\n",
       "      <td>22703806_12091389151</td>\n",
       "      <td>582197818_99560699743_991536</td>\n",
       "      <td>start</td>\n",
       "      <td>2017-04-19 11:14:08</td>\n",
       "      <td>355191087_38612428309</td>\n",
       "      <td>218671552_6538580332_69944</td>\n",
       "      <td>step_3</td>\n",
       "      <td>2017-06-18 20:15:01</td>\n",
       "    </tr>\n",
       "    <tr>\n",
       "      <th>155570</th>\n",
       "      <td>7807844</td>\n",
       "      <td>5.0</td>\n",
       "      <td>70.0</td>\n",
       "      <td>37.0</td>\n",
       "      <td>U</td>\n",
       "      <td>2.0</td>\n",
       "      <td>493497.05</td>\n",
       "      <td>2.0</td>\n",
       "      <td>2.0</td>\n",
       "      <td>22703806_12091389151</td>\n",
       "      <td>582197818_99560699743_991536</td>\n",
       "      <td>start</td>\n",
       "      <td>2017-04-19 11:14:08</td>\n",
       "      <td>355191087_38612428309</td>\n",
       "      <td>218671552_6538580332_69944</td>\n",
       "      <td>step_2</td>\n",
       "      <td>2017-06-18 20:13:39</td>\n",
       "    </tr>\n",
       "    <tr>\n",
       "      <th>155571</th>\n",
       "      <td>7807844</td>\n",
       "      <td>5.0</td>\n",
       "      <td>70.0</td>\n",
       "      <td>37.0</td>\n",
       "      <td>U</td>\n",
       "      <td>2.0</td>\n",
       "      <td>493497.05</td>\n",
       "      <td>2.0</td>\n",
       "      <td>2.0</td>\n",
       "      <td>22703806_12091389151</td>\n",
       "      <td>582197818_99560699743_991536</td>\n",
       "      <td>start</td>\n",
       "      <td>2017-04-19 11:14:08</td>\n",
       "      <td>355191087_38612428309</td>\n",
       "      <td>218671552_6538580332_69944</td>\n",
       "      <td>step_1</td>\n",
       "      <td>2017-06-18 20:12:40</td>\n",
       "    </tr>\n",
       "    <tr>\n",
       "      <th>155572</th>\n",
       "      <td>7807844</td>\n",
       "      <td>5.0</td>\n",
       "      <td>70.0</td>\n",
       "      <td>37.0</td>\n",
       "      <td>U</td>\n",
       "      <td>2.0</td>\n",
       "      <td>493497.05</td>\n",
       "      <td>2.0</td>\n",
       "      <td>2.0</td>\n",
       "      <td>22703806_12091389151</td>\n",
       "      <td>582197818_99560699743_991536</td>\n",
       "      <td>start</td>\n",
       "      <td>2017-04-19 11:14:08</td>\n",
       "      <td>355191087_38612428309</td>\n",
       "      <td>218671552_6538580332_69944</td>\n",
       "      <td>start</td>\n",
       "      <td>2017-06-18 20:12:35</td>\n",
       "    </tr>\n",
       "  </tbody>\n",
       "</table>\n",
       "<p>155573 rows × 17 columns</p>\n",
       "</div>"
      ],
      "text/plain": [
       "        client_id  clnt_tenure_yr  clnt_tenure_mnth  clnt_age gendr  \\\n",
       "0         2892152             4.0              58.0      36.0     U   \n",
       "1         2892152             4.0              58.0      36.0     U   \n",
       "2         2892152             4.0              58.0      36.0     U   \n",
       "3         2892152             4.0              58.0      36.0     U   \n",
       "4         2892152             4.0              58.0      36.0     U   \n",
       "...           ...             ...               ...       ...   ...   \n",
       "155568    7807844             5.0              70.0      37.0     U   \n",
       "155569    7807844             5.0              70.0      37.0     U   \n",
       "155570    7807844             5.0              70.0      37.0     U   \n",
       "155571    7807844             5.0              70.0      37.0     U   \n",
       "155572    7807844             5.0              70.0      37.0     U   \n",
       "\n",
       "        num_accts        bal  calls_6_mnth  logons_6_mnth  \\\n",
       "0             2.0   46815.48           5.0            8.0   \n",
       "1             2.0   46815.48           5.0            8.0   \n",
       "2             2.0   46815.48           5.0            8.0   \n",
       "3             2.0   46815.48           5.0            8.0   \n",
       "4             2.0   46815.48           5.0            8.0   \n",
       "...           ...        ...           ...            ...   \n",
       "155568        2.0  493497.05           2.0            2.0   \n",
       "155569        2.0  493497.05           2.0            2.0   \n",
       "155570        2.0  493497.05           2.0            2.0   \n",
       "155571        2.0  493497.05           2.0            2.0   \n",
       "155572        2.0  493497.05           2.0            2.0   \n",
       "\n",
       "                 visitor_id_x                    visit_id_x process_step_x  \\\n",
       "0       475009955_99741870924   953097438_9608092216_244580          start   \n",
       "1       475009955_99741870924   953097438_9608092216_244580          start   \n",
       "2       475009955_99741870924   953097438_9608092216_244580          start   \n",
       "3       475009955_99741870924   953097438_9608092216_244580          start   \n",
       "4       475009955_99741870924   953097438_9608092216_244580          start   \n",
       "...                       ...                           ...            ...   \n",
       "155568   22703806_12091389151  582197818_99560699743_991536         step_1   \n",
       "155569   22703806_12091389151  582197818_99560699743_991536          start   \n",
       "155570   22703806_12091389151  582197818_99560699743_991536          start   \n",
       "155571   22703806_12091389151  582197818_99560699743_991536          start   \n",
       "155572   22703806_12091389151  582197818_99560699743_991536          start   \n",
       "\n",
       "                date_time_x           visitor_id_y  \\\n",
       "0       2017-04-05 22:33:57  475009955_99741870924   \n",
       "1       2017-04-05 22:33:57  475009955_99741870924   \n",
       "2       2017-04-05 22:33:57  475009955_99741870924   \n",
       "3       2017-04-05 22:33:57  475009955_99741870924   \n",
       "4       2017-04-05 22:33:57  475009955_99741870924   \n",
       "...                     ...                    ...   \n",
       "155568  2017-04-19 11:14:13  355191087_38612428309   \n",
       "155569  2017-04-19 11:14:08  355191087_38612428309   \n",
       "155570  2017-04-19 11:14:08  355191087_38612428309   \n",
       "155571  2017-04-19 11:14:08  355191087_38612428309   \n",
       "155572  2017-04-19 11:14:08  355191087_38612428309   \n",
       "\n",
       "                          visit_id_y process_step_y          date_time_y  \n",
       "0       444789517_93530657187_644985        confirm  2017-05-06 22:41:48  \n",
       "1       444789517_93530657187_644985         step_3  2017-05-06 22:39:41  \n",
       "2       444789517_93530657187_644985         step_2  2017-05-06 22:38:09  \n",
       "3       444789517_93530657187_644985         step_1  2017-05-06 22:37:12  \n",
       "4       444789517_93530657187_644985          start  2017-05-06 22:34:49  \n",
       "...                              ...            ...                  ...  \n",
       "155568    218671552_6538580332_69944          start  2017-06-18 20:12:35  \n",
       "155569    218671552_6538580332_69944         step_3  2017-06-18 20:15:01  \n",
       "155570    218671552_6538580332_69944         step_2  2017-06-18 20:13:39  \n",
       "155571    218671552_6538580332_69944         step_1  2017-06-18 20:12:40  \n",
       "155572    218671552_6538580332_69944          start  2017-06-18 20:12:35  \n",
       "\n",
       "[155573 rows x 17 columns]"
      ]
     },
     "execution_count": 87,
     "metadata": {},
     "output_type": "execute_result"
    }
   ],
   "source": [
    "client_footprints"
   ]
  },
  {
   "cell_type": "code",
   "execution_count": 88,
   "id": "c518c7a9",
   "metadata": {},
   "outputs": [
    {
     "data": {
      "text/html": [
       "<div>\n",
       "<style scoped>\n",
       "    .dataframe tbody tr th:only-of-type {\n",
       "        vertical-align: middle;\n",
       "    }\n",
       "\n",
       "    .dataframe tbody tr th {\n",
       "        vertical-align: top;\n",
       "    }\n",
       "\n",
       "    .dataframe thead th {\n",
       "        text-align: right;\n",
       "    }\n",
       "</style>\n",
       "<table border=\"1\" class=\"dataframe\">\n",
       "  <thead>\n",
       "    <tr style=\"text-align: right;\">\n",
       "      <th></th>\n",
       "      <th>client_id</th>\n",
       "      <th>clnt_tenure_yr</th>\n",
       "      <th>clnt_tenure_mnth</th>\n",
       "      <th>clnt_age</th>\n",
       "      <th>gendr</th>\n",
       "      <th>num_accts</th>\n",
       "      <th>bal</th>\n",
       "      <th>calls_6_mnth</th>\n",
       "      <th>logons_6_mnth</th>\n",
       "      <th>visitor_id_x</th>\n",
       "      <th>visit_id_x</th>\n",
       "      <th>process_step_x</th>\n",
       "      <th>date_time_x</th>\n",
       "      <th>visitor_id_y</th>\n",
       "      <th>visit_id_y</th>\n",
       "      <th>process_step_y</th>\n",
       "      <th>date_time_y</th>\n",
       "      <th>Variation</th>\n",
       "    </tr>\n",
       "  </thead>\n",
       "  <tbody>\n",
       "    <tr>\n",
       "      <th>0</th>\n",
       "      <td>2892152</td>\n",
       "      <td>4.0</td>\n",
       "      <td>58.0</td>\n",
       "      <td>36.0</td>\n",
       "      <td>U</td>\n",
       "      <td>2.0</td>\n",
       "      <td>46815.48</td>\n",
       "      <td>5.0</td>\n",
       "      <td>8.0</td>\n",
       "      <td>475009955_99741870924</td>\n",
       "      <td>953097438_9608092216_244580</td>\n",
       "      <td>start</td>\n",
       "      <td>2017-04-05 22:33:57</td>\n",
       "      <td>475009955_99741870924</td>\n",
       "      <td>444789517_93530657187_644985</td>\n",
       "      <td>confirm</td>\n",
       "      <td>2017-05-06 22:41:48</td>\n",
       "      <td>Test</td>\n",
       "    </tr>\n",
       "    <tr>\n",
       "      <th>1</th>\n",
       "      <td>2892152</td>\n",
       "      <td>4.0</td>\n",
       "      <td>58.0</td>\n",
       "      <td>36.0</td>\n",
       "      <td>U</td>\n",
       "      <td>2.0</td>\n",
       "      <td>46815.48</td>\n",
       "      <td>5.0</td>\n",
       "      <td>8.0</td>\n",
       "      <td>475009955_99741870924</td>\n",
       "      <td>953097438_9608092216_244580</td>\n",
       "      <td>start</td>\n",
       "      <td>2017-04-05 22:33:57</td>\n",
       "      <td>475009955_99741870924</td>\n",
       "      <td>444789517_93530657187_644985</td>\n",
       "      <td>step_3</td>\n",
       "      <td>2017-05-06 22:39:41</td>\n",
       "      <td>Test</td>\n",
       "    </tr>\n",
       "    <tr>\n",
       "      <th>2</th>\n",
       "      <td>2892152</td>\n",
       "      <td>4.0</td>\n",
       "      <td>58.0</td>\n",
       "      <td>36.0</td>\n",
       "      <td>U</td>\n",
       "      <td>2.0</td>\n",
       "      <td>46815.48</td>\n",
       "      <td>5.0</td>\n",
       "      <td>8.0</td>\n",
       "      <td>475009955_99741870924</td>\n",
       "      <td>953097438_9608092216_244580</td>\n",
       "      <td>start</td>\n",
       "      <td>2017-04-05 22:33:57</td>\n",
       "      <td>475009955_99741870924</td>\n",
       "      <td>444789517_93530657187_644985</td>\n",
       "      <td>step_2</td>\n",
       "      <td>2017-05-06 22:38:09</td>\n",
       "      <td>Test</td>\n",
       "    </tr>\n",
       "    <tr>\n",
       "      <th>3</th>\n",
       "      <td>2892152</td>\n",
       "      <td>4.0</td>\n",
       "      <td>58.0</td>\n",
       "      <td>36.0</td>\n",
       "      <td>U</td>\n",
       "      <td>2.0</td>\n",
       "      <td>46815.48</td>\n",
       "      <td>5.0</td>\n",
       "      <td>8.0</td>\n",
       "      <td>475009955_99741870924</td>\n",
       "      <td>953097438_9608092216_244580</td>\n",
       "      <td>start</td>\n",
       "      <td>2017-04-05 22:33:57</td>\n",
       "      <td>475009955_99741870924</td>\n",
       "      <td>444789517_93530657187_644985</td>\n",
       "      <td>step_1</td>\n",
       "      <td>2017-05-06 22:37:12</td>\n",
       "      <td>Test</td>\n",
       "    </tr>\n",
       "    <tr>\n",
       "      <th>4</th>\n",
       "      <td>2892152</td>\n",
       "      <td>4.0</td>\n",
       "      <td>58.0</td>\n",
       "      <td>36.0</td>\n",
       "      <td>U</td>\n",
       "      <td>2.0</td>\n",
       "      <td>46815.48</td>\n",
       "      <td>5.0</td>\n",
       "      <td>8.0</td>\n",
       "      <td>475009955_99741870924</td>\n",
       "      <td>953097438_9608092216_244580</td>\n",
       "      <td>start</td>\n",
       "      <td>2017-04-05 22:33:57</td>\n",
       "      <td>475009955_99741870924</td>\n",
       "      <td>444789517_93530657187_644985</td>\n",
       "      <td>start</td>\n",
       "      <td>2017-05-06 22:34:49</td>\n",
       "      <td>Test</td>\n",
       "    </tr>\n",
       "    <tr>\n",
       "      <th>...</th>\n",
       "      <td>...</td>\n",
       "      <td>...</td>\n",
       "      <td>...</td>\n",
       "      <td>...</td>\n",
       "      <td>...</td>\n",
       "      <td>...</td>\n",
       "      <td>...</td>\n",
       "      <td>...</td>\n",
       "      <td>...</td>\n",
       "      <td>...</td>\n",
       "      <td>...</td>\n",
       "      <td>...</td>\n",
       "      <td>...</td>\n",
       "      <td>...</td>\n",
       "      <td>...</td>\n",
       "      <td>...</td>\n",
       "      <td>...</td>\n",
       "      <td>...</td>\n",
       "    </tr>\n",
       "    <tr>\n",
       "      <th>155568</th>\n",
       "      <td>7807844</td>\n",
       "      <td>5.0</td>\n",
       "      <td>70.0</td>\n",
       "      <td>37.0</td>\n",
       "      <td>U</td>\n",
       "      <td>2.0</td>\n",
       "      <td>493497.05</td>\n",
       "      <td>2.0</td>\n",
       "      <td>2.0</td>\n",
       "      <td>22703806_12091389151</td>\n",
       "      <td>582197818_99560699743_991536</td>\n",
       "      <td>step_1</td>\n",
       "      <td>2017-04-19 11:14:13</td>\n",
       "      <td>355191087_38612428309</td>\n",
       "      <td>218671552_6538580332_69944</td>\n",
       "      <td>start</td>\n",
       "      <td>2017-06-18 20:12:35</td>\n",
       "      <td>NaN</td>\n",
       "    </tr>\n",
       "    <tr>\n",
       "      <th>155569</th>\n",
       "      <td>7807844</td>\n",
       "      <td>5.0</td>\n",
       "      <td>70.0</td>\n",
       "      <td>37.0</td>\n",
       "      <td>U</td>\n",
       "      <td>2.0</td>\n",
       "      <td>493497.05</td>\n",
       "      <td>2.0</td>\n",
       "      <td>2.0</td>\n",
       "      <td>22703806_12091389151</td>\n",
       "      <td>582197818_99560699743_991536</td>\n",
       "      <td>start</td>\n",
       "      <td>2017-04-19 11:14:08</td>\n",
       "      <td>355191087_38612428309</td>\n",
       "      <td>218671552_6538580332_69944</td>\n",
       "      <td>step_3</td>\n",
       "      <td>2017-06-18 20:15:01</td>\n",
       "      <td>NaN</td>\n",
       "    </tr>\n",
       "    <tr>\n",
       "      <th>155570</th>\n",
       "      <td>7807844</td>\n",
       "      <td>5.0</td>\n",
       "      <td>70.0</td>\n",
       "      <td>37.0</td>\n",
       "      <td>U</td>\n",
       "      <td>2.0</td>\n",
       "      <td>493497.05</td>\n",
       "      <td>2.0</td>\n",
       "      <td>2.0</td>\n",
       "      <td>22703806_12091389151</td>\n",
       "      <td>582197818_99560699743_991536</td>\n",
       "      <td>start</td>\n",
       "      <td>2017-04-19 11:14:08</td>\n",
       "      <td>355191087_38612428309</td>\n",
       "      <td>218671552_6538580332_69944</td>\n",
       "      <td>step_2</td>\n",
       "      <td>2017-06-18 20:13:39</td>\n",
       "      <td>NaN</td>\n",
       "    </tr>\n",
       "    <tr>\n",
       "      <th>155571</th>\n",
       "      <td>7807844</td>\n",
       "      <td>5.0</td>\n",
       "      <td>70.0</td>\n",
       "      <td>37.0</td>\n",
       "      <td>U</td>\n",
       "      <td>2.0</td>\n",
       "      <td>493497.05</td>\n",
       "      <td>2.0</td>\n",
       "      <td>2.0</td>\n",
       "      <td>22703806_12091389151</td>\n",
       "      <td>582197818_99560699743_991536</td>\n",
       "      <td>start</td>\n",
       "      <td>2017-04-19 11:14:08</td>\n",
       "      <td>355191087_38612428309</td>\n",
       "      <td>218671552_6538580332_69944</td>\n",
       "      <td>step_1</td>\n",
       "      <td>2017-06-18 20:12:40</td>\n",
       "      <td>NaN</td>\n",
       "    </tr>\n",
       "    <tr>\n",
       "      <th>155572</th>\n",
       "      <td>7807844</td>\n",
       "      <td>5.0</td>\n",
       "      <td>70.0</td>\n",
       "      <td>37.0</td>\n",
       "      <td>U</td>\n",
       "      <td>2.0</td>\n",
       "      <td>493497.05</td>\n",
       "      <td>2.0</td>\n",
       "      <td>2.0</td>\n",
       "      <td>22703806_12091389151</td>\n",
       "      <td>582197818_99560699743_991536</td>\n",
       "      <td>start</td>\n",
       "      <td>2017-04-19 11:14:08</td>\n",
       "      <td>355191087_38612428309</td>\n",
       "      <td>218671552_6538580332_69944</td>\n",
       "      <td>start</td>\n",
       "      <td>2017-06-18 20:12:35</td>\n",
       "      <td>NaN</td>\n",
       "    </tr>\n",
       "  </tbody>\n",
       "</table>\n",
       "<p>155573 rows × 18 columns</p>\n",
       "</div>"
      ],
      "text/plain": [
       "        client_id  clnt_tenure_yr  clnt_tenure_mnth  clnt_age gendr  \\\n",
       "0         2892152             4.0              58.0      36.0     U   \n",
       "1         2892152             4.0              58.0      36.0     U   \n",
       "2         2892152             4.0              58.0      36.0     U   \n",
       "3         2892152             4.0              58.0      36.0     U   \n",
       "4         2892152             4.0              58.0      36.0     U   \n",
       "...           ...             ...               ...       ...   ...   \n",
       "155568    7807844             5.0              70.0      37.0     U   \n",
       "155569    7807844             5.0              70.0      37.0     U   \n",
       "155570    7807844             5.0              70.0      37.0     U   \n",
       "155571    7807844             5.0              70.0      37.0     U   \n",
       "155572    7807844             5.0              70.0      37.0     U   \n",
       "\n",
       "        num_accts        bal  calls_6_mnth  logons_6_mnth  \\\n",
       "0             2.0   46815.48           5.0            8.0   \n",
       "1             2.0   46815.48           5.0            8.0   \n",
       "2             2.0   46815.48           5.0            8.0   \n",
       "3             2.0   46815.48           5.0            8.0   \n",
       "4             2.0   46815.48           5.0            8.0   \n",
       "...           ...        ...           ...            ...   \n",
       "155568        2.0  493497.05           2.0            2.0   \n",
       "155569        2.0  493497.05           2.0            2.0   \n",
       "155570        2.0  493497.05           2.0            2.0   \n",
       "155571        2.0  493497.05           2.0            2.0   \n",
       "155572        2.0  493497.05           2.0            2.0   \n",
       "\n",
       "                 visitor_id_x                    visit_id_x process_step_x  \\\n",
       "0       475009955_99741870924   953097438_9608092216_244580          start   \n",
       "1       475009955_99741870924   953097438_9608092216_244580          start   \n",
       "2       475009955_99741870924   953097438_9608092216_244580          start   \n",
       "3       475009955_99741870924   953097438_9608092216_244580          start   \n",
       "4       475009955_99741870924   953097438_9608092216_244580          start   \n",
       "...                       ...                           ...            ...   \n",
       "155568   22703806_12091389151  582197818_99560699743_991536         step_1   \n",
       "155569   22703806_12091389151  582197818_99560699743_991536          start   \n",
       "155570   22703806_12091389151  582197818_99560699743_991536          start   \n",
       "155571   22703806_12091389151  582197818_99560699743_991536          start   \n",
       "155572   22703806_12091389151  582197818_99560699743_991536          start   \n",
       "\n",
       "                date_time_x           visitor_id_y  \\\n",
       "0       2017-04-05 22:33:57  475009955_99741870924   \n",
       "1       2017-04-05 22:33:57  475009955_99741870924   \n",
       "2       2017-04-05 22:33:57  475009955_99741870924   \n",
       "3       2017-04-05 22:33:57  475009955_99741870924   \n",
       "4       2017-04-05 22:33:57  475009955_99741870924   \n",
       "...                     ...                    ...   \n",
       "155568  2017-04-19 11:14:13  355191087_38612428309   \n",
       "155569  2017-04-19 11:14:08  355191087_38612428309   \n",
       "155570  2017-04-19 11:14:08  355191087_38612428309   \n",
       "155571  2017-04-19 11:14:08  355191087_38612428309   \n",
       "155572  2017-04-19 11:14:08  355191087_38612428309   \n",
       "\n",
       "                          visit_id_y process_step_y          date_time_y  \\\n",
       "0       444789517_93530657187_644985        confirm  2017-05-06 22:41:48   \n",
       "1       444789517_93530657187_644985         step_3  2017-05-06 22:39:41   \n",
       "2       444789517_93530657187_644985         step_2  2017-05-06 22:38:09   \n",
       "3       444789517_93530657187_644985         step_1  2017-05-06 22:37:12   \n",
       "4       444789517_93530657187_644985          start  2017-05-06 22:34:49   \n",
       "...                              ...            ...                  ...   \n",
       "155568    218671552_6538580332_69944          start  2017-06-18 20:12:35   \n",
       "155569    218671552_6538580332_69944         step_3  2017-06-18 20:15:01   \n",
       "155570    218671552_6538580332_69944         step_2  2017-06-18 20:13:39   \n",
       "155571    218671552_6538580332_69944         step_1  2017-06-18 20:12:40   \n",
       "155572    218671552_6538580332_69944          start  2017-06-18 20:12:35   \n",
       "\n",
       "       Variation  \n",
       "0           Test  \n",
       "1           Test  \n",
       "2           Test  \n",
       "3           Test  \n",
       "4           Test  \n",
       "...          ...  \n",
       "155568       NaN  \n",
       "155569       NaN  \n",
       "155570       NaN  \n",
       "155571       NaN  \n",
       "155572       NaN  \n",
       "\n",
       "[155573 rows x 18 columns]"
      ]
     },
     "execution_count": 88,
     "metadata": {},
     "output_type": "execute_result"
    }
   ],
   "source": [
    "grouped_data"
   ]
  },
  {
   "cell_type": "markdown",
   "id": "638cfed3",
   "metadata": {},
   "source": [
    "Observation - there are null values on test variation"
   ]
  },
  {
   "cell_type": "code",
   "execution_count": 39,
   "id": "6b3a3752",
   "metadata": {},
   "outputs": [
    {
     "data": {
      "text/plain": [
       "8887"
      ]
     },
     "execution_count": 39,
     "metadata": {},
     "output_type": "execute_result"
    }
   ],
   "source": [
    "# Spotting duplicates\n",
    "grouped_data.duplicated().sum()"
   ]
  },
  {
   "cell_type": "code",
   "execution_count": 40,
   "id": "0c176f7a",
   "metadata": {},
   "outputs": [
    {
     "data": {
      "text/html": [
       "<div>\n",
       "<style scoped>\n",
       "    .dataframe tbody tr th:only-of-type {\n",
       "        vertical-align: middle;\n",
       "    }\n",
       "\n",
       "    .dataframe tbody tr th {\n",
       "        vertical-align: top;\n",
       "    }\n",
       "\n",
       "    .dataframe thead th {\n",
       "        text-align: right;\n",
       "    }\n",
       "</style>\n",
       "<table border=\"1\" class=\"dataframe\">\n",
       "  <thead>\n",
       "    <tr style=\"text-align: right;\">\n",
       "      <th></th>\n",
       "      <th>client_id</th>\n",
       "      <th>clnt_tenure_yr</th>\n",
       "      <th>clnt_tenure_mnth</th>\n",
       "      <th>clnt_age</th>\n",
       "      <th>num_accts</th>\n",
       "      <th>bal</th>\n",
       "      <th>calls_6_mnth</th>\n",
       "      <th>logons_6_mnth</th>\n",
       "      <th>date_time_x</th>\n",
       "      <th>date_time_y</th>\n",
       "    </tr>\n",
       "  </thead>\n",
       "  <tbody>\n",
       "    <tr>\n",
       "      <th>count</th>\n",
       "      <td>1.555730e+05</td>\n",
       "      <td>155543.000000</td>\n",
       "      <td>155543.000000</td>\n",
       "      <td>155543.000000</td>\n",
       "      <td>155543.000000</td>\n",
       "      <td>1.555430e+05</td>\n",
       "      <td>155543.000000</td>\n",
       "      <td>155543.000000</td>\n",
       "      <td>155573</td>\n",
       "      <td>155573</td>\n",
       "    </tr>\n",
       "    <tr>\n",
       "      <th>mean</th>\n",
       "      <td>5.041359e+06</td>\n",
       "      <td>13.585253</td>\n",
       "      <td>169.027973</td>\n",
       "      <td>55.039880</td>\n",
       "      <td>2.336421</td>\n",
       "      <td>2.463716e+05</td>\n",
       "      <td>4.657837</td>\n",
       "      <td>6.829166</td>\n",
       "      <td>2017-04-11 04:51:05.182429184</td>\n",
       "      <td>2017-05-22 01:35:02.175904512</td>\n",
       "    </tr>\n",
       "    <tr>\n",
       "      <th>min</th>\n",
       "      <td>1.643000e+03</td>\n",
       "      <td>2.000000</td>\n",
       "      <td>34.000000</td>\n",
       "      <td>15.000000</td>\n",
       "      <td>2.000000</td>\n",
       "      <td>1.379134e+04</td>\n",
       "      <td>0.000000</td>\n",
       "      <td>1.000000</td>\n",
       "      <td>2017-03-15 00:03:03</td>\n",
       "      <td>2017-05-01 00:00:28</td>\n",
       "    </tr>\n",
       "    <tr>\n",
       "      <th>25%</th>\n",
       "      <td>2.564246e+06</td>\n",
       "      <td>7.000000</td>\n",
       "      <td>86.000000</td>\n",
       "      <td>45.000000</td>\n",
       "      <td>2.000000</td>\n",
       "      <td>4.923532e+04</td>\n",
       "      <td>3.000000</td>\n",
       "      <td>5.000000</td>\n",
       "      <td>2017-04-04 21:19:16</td>\n",
       "      <td>2017-05-08 19:20:10</td>\n",
       "    </tr>\n",
       "    <tr>\n",
       "      <th>50%</th>\n",
       "      <td>5.128835e+06</td>\n",
       "      <td>12.000000</td>\n",
       "      <td>155.000000</td>\n",
       "      <td>57.000000</td>\n",
       "      <td>2.000000</td>\n",
       "      <td>1.004957e+05</td>\n",
       "      <td>5.000000</td>\n",
       "      <td>7.000000</td>\n",
       "      <td>2017-04-10 10:43:27</td>\n",
       "      <td>2017-05-19 17:36:04</td>\n",
       "    </tr>\n",
       "    <tr>\n",
       "      <th>75%</th>\n",
       "      <td>7.456903e+06</td>\n",
       "      <td>19.000000</td>\n",
       "      <td>238.000000</td>\n",
       "      <td>66.000000</td>\n",
       "      <td>3.000000</td>\n",
       "      <td>2.255843e+05</td>\n",
       "      <td>6.000000</td>\n",
       "      <td>9.000000</td>\n",
       "      <td>2017-04-18 15:34:53</td>\n",
       "      <td>2017-06-03 19:23:37</td>\n",
       "    </tr>\n",
       "    <tr>\n",
       "      <th>max</th>\n",
       "      <td>9.999729e+06</td>\n",
       "      <td>54.000000</td>\n",
       "      <td>655.000000</td>\n",
       "      <td>93.000000</td>\n",
       "      <td>6.000000</td>\n",
       "      <td>1.632004e+07</td>\n",
       "      <td>7.000000</td>\n",
       "      <td>9.000000</td>\n",
       "      <td>2017-04-30 23:59:16</td>\n",
       "      <td>2017-06-20 23:57:06</td>\n",
       "    </tr>\n",
       "    <tr>\n",
       "      <th>std</th>\n",
       "      <td>2.854246e+06</td>\n",
       "      <td>7.684740</td>\n",
       "      <td>92.005690</td>\n",
       "      <td>15.947932</td>\n",
       "      <td>0.612464</td>\n",
       "      <td>6.748682e+05</td>\n",
       "      <td>2.002529</td>\n",
       "      <td>2.103210</td>\n",
       "      <td>NaN</td>\n",
       "      <td>NaN</td>\n",
       "    </tr>\n",
       "  </tbody>\n",
       "</table>\n",
       "</div>"
      ],
      "text/plain": [
       "          client_id  clnt_tenure_yr  clnt_tenure_mnth       clnt_age  \\\n",
       "count  1.555730e+05   155543.000000     155543.000000  155543.000000   \n",
       "mean   5.041359e+06       13.585253        169.027973      55.039880   \n",
       "min    1.643000e+03        2.000000         34.000000      15.000000   \n",
       "25%    2.564246e+06        7.000000         86.000000      45.000000   \n",
       "50%    5.128835e+06       12.000000        155.000000      57.000000   \n",
       "75%    7.456903e+06       19.000000        238.000000      66.000000   \n",
       "max    9.999729e+06       54.000000        655.000000      93.000000   \n",
       "std    2.854246e+06        7.684740         92.005690      15.947932   \n",
       "\n",
       "           num_accts           bal   calls_6_mnth  logons_6_mnth  \\\n",
       "count  155543.000000  1.555430e+05  155543.000000  155543.000000   \n",
       "mean        2.336421  2.463716e+05       4.657837       6.829166   \n",
       "min         2.000000  1.379134e+04       0.000000       1.000000   \n",
       "25%         2.000000  4.923532e+04       3.000000       5.000000   \n",
       "50%         2.000000  1.004957e+05       5.000000       7.000000   \n",
       "75%         3.000000  2.255843e+05       6.000000       9.000000   \n",
       "max         6.000000  1.632004e+07       7.000000       9.000000   \n",
       "std         0.612464  6.748682e+05       2.002529       2.103210   \n",
       "\n",
       "                         date_time_x                    date_time_y  \n",
       "count                         155573                         155573  \n",
       "mean   2017-04-11 04:51:05.182429184  2017-05-22 01:35:02.175904512  \n",
       "min              2017-03-15 00:03:03            2017-05-01 00:00:28  \n",
       "25%              2017-04-04 21:19:16            2017-05-08 19:20:10  \n",
       "50%              2017-04-10 10:43:27            2017-05-19 17:36:04  \n",
       "75%              2017-04-18 15:34:53            2017-06-03 19:23:37  \n",
       "max              2017-04-30 23:59:16            2017-06-20 23:57:06  \n",
       "std                              NaN                            NaN  "
      ]
     },
     "execution_count": 40,
     "metadata": {},
     "output_type": "execute_result"
    }
   ],
   "source": [
    "grouped_data.describe()"
   ]
  },
  {
   "cell_type": "code",
   "execution_count": 41,
   "id": "e015a6ce",
   "metadata": {},
   "outputs": [
    {
     "data": {
      "text/plain": [
       "Index(['gendr', 'visitor_id_x', 'visit_id_x', 'process_step_x', 'visitor_id_y',\n",
       "       'visit_id_y', 'process_step_y', 'Variation'],\n",
       "      dtype='object')"
      ]
     },
     "execution_count": 41,
     "metadata": {},
     "output_type": "execute_result"
    }
   ],
   "source": [
    "# Categorical\n",
    "grouped_data.select_dtypes(\"object\").columns"
   ]
  },
  {
   "cell_type": "code",
   "execution_count": 42,
   "id": "d459727f",
   "metadata": {},
   "outputs": [
    {
     "data": {
      "text/plain": [
       "visit_id_x        7884\n",
       "visit_id_y        7101\n",
       "visitor_id_x      6066\n",
       "visitor_id_y      5810\n",
       "process_step_x       5\n",
       "process_step_y       5\n",
       "gendr                4\n",
       "Variation            2\n",
       "dtype: int64"
      ]
     },
     "execution_count": 42,
     "metadata": {},
     "output_type": "execute_result"
    }
   ],
   "source": [
    "grouped_data.select_dtypes(\"object\").nunique().sort_values(ascending=False)"
   ]
  },
  {
   "cell_type": "code",
   "execution_count": 43,
   "id": "6f79a73e",
   "metadata": {},
   "outputs": [
    {
     "data": {
      "text/plain": [
       "Index(['client_id', 'clnt_tenure_yr', 'clnt_tenure_mnth', 'clnt_age',\n",
       "       'num_accts', 'bal', 'calls_6_mnth', 'logons_6_mnth'],\n",
       "      dtype='object')"
      ]
     },
     "execution_count": 43,
     "metadata": {},
     "output_type": "execute_result"
    }
   ],
   "source": [
    "# Numerical to do \n",
    "# Client_id is usually CATEGORICAL\n",
    "grouped_data.select_dtypes(\"number\").columns"
   ]
  },
  {
   "cell_type": "code",
   "execution_count": 44,
   "id": "1c9fcc7e",
   "metadata": {},
   "outputs": [
    {
     "data": {
      "text/plain": [
       "client_id           5289\n",
       "bal                 5288\n",
       "clnt_tenure_mnth     402\n",
       "clnt_age             152\n",
       "clnt_tenure_yr        44\n",
       "logons_6_mnth          9\n",
       "calls_6_mnth           8\n",
       "num_accts              5\n",
       "dtype: int64"
      ]
     },
     "execution_count": 44,
     "metadata": {},
     "output_type": "execute_result"
    }
   ],
   "source": [
    "grouped_data.select_dtypes(\"number\").nunique().sort_values(ascending=False)"
   ]
  },
  {
   "cell_type": "code",
   "execution_count": 48,
   "id": "84df4bc0",
   "metadata": {},
   "outputs": [
    {
     "data": {
      "text/plain": [
       "count     111079\n",
       "unique         2\n",
       "top         Test\n",
       "freq       62904\n",
       "Name: Variation, dtype: object"
      ]
     },
     "execution_count": 48,
     "metadata": {},
     "output_type": "execute_result"
    }
   ],
   "source": [
    "grouped_data['Variation'].describe()"
   ]
  },
  {
   "cell_type": "code",
   "execution_count": 49,
   "id": "d082dc7a",
   "metadata": {},
   "outputs": [
    {
     "data": {
      "text/plain": [
       "Variation\n",
       "Test       62904\n",
       "Control    48175\n",
       "Name: count, dtype: int64"
      ]
     },
     "execution_count": 49,
     "metadata": {},
     "output_type": "execute_result"
    }
   ],
   "source": [
    "# Seeing the A/B groups\n",
    "grouped_data['Variation'].value_counts()"
   ]
  },
  {
   "cell_type": "code",
   "execution_count": null,
   "id": "e7a13646",
   "metadata": {},
   "outputs": [],
   "source": [
    "# Questions:\n",
    "1. Who are the primary clients using this online process?\n",
    " \n",
    "    # gendr, bal\n",
    "\n",
    "2. Are the primary clients younger or older, new or long-standing?\n",
    "\n",
    "    # clnt_tenure_yr, clnt_tenure_mnth, clnt_age, "
   ]
  },
  {
   "cell_type": "markdown",
   "id": "07114568",
   "metadata": {},
   "source": [
    "# Exploring client data"
   ]
  },
  {
   "cell_type": "code",
   "execution_count": 52,
   "id": "2d6db595",
   "metadata": {},
   "outputs": [
    {
     "data": {
      "text/plain": [
       "client_id  clnt_tenure_yr  clnt_tenure_mnth  clnt_age  gendr  num_accts  bal        calls_6_mnth  logons_6_mnth\n",
       "169        21.0            262.0             47.5      M      2.0        501570.72  4.0           4.0              1\n",
       "6663225    16.0            193.0             40.5      F      2.0        47445.45   2.0           5.0              1\n",
       "6664483    22.0            271.0             46.5      M      4.0        699384.16  6.0           9.0              1\n",
       "6664376    17.0            207.0             64.0      M      2.0        311829.13  7.0           7.0              1\n",
       "6664052    32.0            394.0             71.0      M      2.0        79642.36   0.0           4.0              1\n",
       "                                                                                                                  ..\n",
       "3360049    16.0            203.0             35.5      F      2.0        53572.85   0.0           3.0              1\n",
       "3360254    6.0             73.0              19.0      U      2.0        29968.65   1.0           4.0              1\n",
       "3360406    5.0             70.0              29.5      F      4.0        73299.98   3.0           6.0              1\n",
       "3360813    7.0             92.0              53.0      U      2.0        59204.32   6.0           9.0              1\n",
       "9999839    13.0            160.0             28.5      F      2.0        67425.35   3.0           3.0              1\n",
       "Name: count, Length: 70594, dtype: int64"
      ]
     },
     "execution_count": 52,
     "metadata": {},
     "output_type": "execute_result"
    }
   ],
   "source": [
    "client_profiles.value_counts()"
   ]
  },
  {
   "cell_type": "markdown",
   "id": "28432e67",
   "metadata": {},
   "source": [
    "# Visualize Data"
   ]
  },
  {
   "cell_type": "markdown",
   "id": "bfab969e",
   "metadata": {},
   "source": [
    "Numerical Measures: These can include coefficients, frequency counts, and other statistical metrics.\n",
    "\n",
    "Visual Representations: Examples are histograms, scatter plots, pie charts, and more."
   ]
  },
  {
   "cell_type": "code",
   "execution_count": 71,
   "id": "dd2d32d4",
   "metadata": {},
   "outputs": [
    {
     "data": {
      "image/png": "[encoded data removed]",
      "text/plain": [
       "<Figure size 640x480 with 1 Axes>"
      ]
     },
     "metadata": {},
     "output_type": "display_data"
    }
   ],
   "source": [
    "sns.histplot(client_profiles['clnt_age'], bins=20, kde=True)\n",
    "plt.title('Distribution of Client Age')\n",
    "plt.show()"
   ]
  },
  {
   "cell_type": "code",
   "execution_count": 72,
   "id": "126b88bb",
   "metadata": {},
   "outputs": [
    {
     "data": {
      "image/png": "[encoded data removed]",
      "text/plain": [
       "<Figure size 640x480 with 1 Axes>"
      ]
     },
     "metadata": {},
     "output_type": "display_data"
    }
   ],
   "source": [
    "sns.histplot(client_profiles['clnt_tenure_yr'], bins=20, kde=True)\n",
    "plt.title('Distribution of Tenure')\n",
    "plt.show()"
   ]
  },
  {
   "cell_type": "code",
   "execution_count": 76,
   "id": "3f26e3f8",
   "metadata": {},
   "outputs": [],
   "source": [
    "# Segmenting Clients\n",
    "client_profiles['age_group'] = pd.cut(client_profiles['clnt_age'], bins=[20, 30, 40, 50, 60, 70, 80], labels=['20-30', '30-40', '40-50', '50-60', '60-70', '70-80'])"
   ]
  },
  {
   "cell_type": "code",
   "execution_count": 77,
   "id": "e5a99b16",
   "metadata": {},
   "outputs": [
    {
     "data": {
      "text/plain": [
       "0        60-70\n",
       "1        50-60\n",
       "2        30-40\n",
       "3        40-50\n",
       "4        30-40\n",
       "         ...  \n",
       "70604    30-40\n",
       "70605    30-40\n",
       "70606    60-70\n",
       "70607    60-70\n",
       "70608    50-60\n",
       "Name: age_group, Length: 70609, dtype: category\n",
       "Categories (6, object): ['20-30' < '30-40' < '40-50' < '50-60' < '60-70' < '70-80']"
      ]
     },
     "execution_count": 77,
     "metadata": {},
     "output_type": "execute_result"
    }
   ],
   "source": [
    "client_profiles['age_group']"
   ]
  },
  {
   "cell_type": "code",
   "execution_count": 78,
   "id": "ab6e085b",
   "metadata": {},
   "outputs": [
    {
     "data": {
      "text/plain": [
       "Text(0.5, 1.0, 'Distribution of Clients by Age Group')"
      ]
     },
     "execution_count": 78,
     "metadata": {},
     "output_type": "execute_result"
    },
    {
     "data": {
      "image/png": "[encoded data removed]",
      "text/plain": [
       "<Figure size 640x480 with 1 Axes>"
      ]
     },
     "metadata": {},
     "output_type": "display_data"
    }
   ],
   "source": [
    "sns.countplot(x='age_group', data=client_profiles)\n",
    "plt.title('Distribution of Clients by Age Group')"
   ]
  },
  {
   "cell_type": "code",
   "execution_count": 79,
   "id": "37919831",
   "metadata": {},
   "outputs": [],
   "source": [
    "# Exploring Client Tenure"
   ]
  },
  {
   "cell_type": "code",
   "execution_count": 80,
   "id": "ab973b8a",
   "metadata": {},
   "outputs": [
    {
     "data": {
      "text/plain": [
       "Text(0.5, 1.0, 'Age vs. Tenure')"
      ]
     },
     "execution_count": 80,
     "metadata": {},
     "output_type": "execute_result"
    },
    {
     "data": {
      "image/png": "[encoded data removed]",
      "text/plain": [
       "<Figure size 640x480 with 1 Axes>"
      ]
     },
     "metadata": {},
     "output_type": "display_data"
    }
   ],
   "source": [
    "sns.scatterplot(x='clnt_age', y='clnt_tenure_yr', data=client_profiles)\n",
    "plt.title('Age vs. Tenure')"
   ]
  },
  {
   "cell_type": "code",
   "execution_count": 81,
   "id": "a2a1add8",
   "metadata": {},
   "outputs": [],
   "source": [
    "# Comparing the groups"
   ]
  },
  {
   "cell_type": "code",
   "execution_count": 82,
   "id": "1157cc94",
   "metadata": {},
   "outputs": [
    {
     "data": {
      "text/plain": [
       "Text(0.5, 1.0, 'Age Distribution by A/B Test')"
      ]
     },
     "execution_count": 82,
     "metadata": {},
     "output_type": "execute_result"
    },
    {
     "data": {
      "image/png": "[encoded data removed]",
      "text/plain": [
       "<Figure size 640x480 with 1 Axes>"
      ]
     },
     "metadata": {},
     "output_type": "display_data"
    }
   ],
   "source": [
    "sns.boxplot(x='Variation', y='clnt_age', data=grouped_data)\n",
    "plt.title('Age Distribution by A/B Test')"
   ]
  },
  {
   "cell_type": "markdown",
   "id": "bc0b971f",
   "metadata": {},
   "source": [
    "# Performing Client Behavior Analysis"
   ]
  },
  {
   "cell_type": "code",
   "execution_count": 83,
   "id": "4971486c",
   "metadata": {},
   "outputs": [],
   "source": [
    "# Key Metrics"
   ]
  },
  {
   "cell_type": "code",
   "execution_count": 84,
   "id": "5a285628",
   "metadata": {},
   "outputs": [
    {
     "data": {
      "text/plain": [
       "Text(0.5, 1.0, 'Number of Logons in the Last 6 Months by Variation')"
      ]
     },
     "execution_count": 84,
     "metadata": {},
     "output_type": "execute_result"
    },
    {
     "data": {
      "image/png": "[encoded data removed]",
      "text/plain": [
       "<Figure size 640x480 with 1 Axes>"
      ]
     },
     "metadata": {},
     "output_type": "display_data"
    }
   ],
   "source": [
    "sns.barplot(x='Variation', y='logons_6_mnth', data=grouped_data)\n",
    "plt.title('Number of Logons in the Last 6 Months by Variation')"
   ]
  },
  {
   "cell_type": "code",
   "execution_count": 85,
   "id": "98717338",
   "metadata": {},
   "outputs": [
    {
     "data": {
      "text/plain": [
       "Text(0.5, 1.0, 'Number of Calls in the Last 6 Months by Variation')"
      ]
     },
     "execution_count": 85,
     "metadata": {},
     "output_type": "execute_result"
    },
    {
     "data": {
      "image/png": "[encoded data removed]",
      "text/plain": [
       "<Figure size 640x480 with 1 Axes>"
      ]
     },
     "metadata": {},
     "output_type": "display_data"
    }
   ],
   "source": [
    "sns.barplot(x='Variation', y='calls_6_mnth', data=grouped_data)\n",
    "plt.title('Number of Calls in the Last 6 Months by Variation')"
   ]
  },
  {
   "cell_type": "code",
   "execution_count": null,
   "id": "49329c7c",
   "metadata": {},
   "outputs": [],
   "source": [
    "# Data for login information for each group variation during A/B testing"
   ]
  },
  {
   "cell_type": "code",
   "execution_count": null,
   "id": "8a888c04",
   "metadata": {},
   "outputs": [],
   "source": [
    "####### This code is for interactive visualization on dashboard"
   ]
  },
  {
   "cell_type": "code",
   "execution_count": null,
   "id": "1580c9b6",
   "metadata": {},
   "outputs": [],
   "source": [
    "ab_test_data = grouped_data[(grouped_data['date_time_x'] >= '2017-03-15') & (grouped_data['date_time_x'] <= '2017-06-20')]\n",
    "ab_test_data"
   ]
  },
  {
   "cell_type": "code",
   "execution_count": 63,
   "id": "7d73a812",
   "metadata": {},
   "outputs": [
    {
     "data": {
      "text/plain": [
       "Timestamp('2017-03-15 00:03:03')"
      ]
     },
     "execution_count": 63,
     "metadata": {},
     "output_type": "execute_result"
    }
   ],
   "source": [
    "grouped_data['date_time_x'].min()"
   ]
  },
  {
   "cell_type": "code",
   "execution_count": null,
   "id": "f31bc550",
   "metadata": {},
   "outputs": [],
   "source": [
    "test_data = ab_test_data[ab_test_data['Variation'] == 'Test']\n",
    "test_data"
   ]
  },
  {
   "cell_type": "code",
   "execution_count": null,
   "id": "089d3eae",
   "metadata": {},
   "outputs": [],
   "source": [
    "control_data = ab_test_data[ab_test_data['Variation'] == 'Control']\n",
    "control_data"
   ]
  },
  {
   "cell_type": "code",
   "execution_count": 90,
   "id": "09d05e9b",
   "metadata": {},
   "outputs": [
    {
     "data": {
      "text/html": [
       "<div>\n",
       "<style scoped>\n",
       "    .dataframe tbody tr th:only-of-type {\n",
       "        vertical-align: middle;\n",
       "    }\n",
       "\n",
       "    .dataframe tbody tr th {\n",
       "        vertical-align: top;\n",
       "    }\n",
       "\n",
       "    .dataframe thead th {\n",
       "        text-align: right;\n",
       "    }\n",
       "</style>\n",
       "<table border=\"1\" class=\"dataframe\">\n",
       "  <thead>\n",
       "    <tr style=\"text-align: right;\">\n",
       "      <th>process_step_x</th>\n",
       "      <th>start</th>\n",
       "      <th>step_1</th>\n",
       "      <th>step_2</th>\n",
       "      <th>step_3</th>\n",
       "      <th>confirm</th>\n",
       "    </tr>\n",
       "    <tr>\n",
       "      <th>Variation</th>\n",
       "      <th></th>\n",
       "      <th></th>\n",
       "      <th></th>\n",
       "      <th></th>\n",
       "      <th></th>\n",
       "    </tr>\n",
       "  </thead>\n",
       "  <tbody>\n",
       "    <tr>\n",
       "      <th>Control</th>\n",
       "      <td>0.547151</td>\n",
       "      <td>0.201349</td>\n",
       "      <td>0.143788</td>\n",
       "      <td>0.090690</td>\n",
       "      <td>0.017021</td>\n",
       "    </tr>\n",
       "    <tr>\n",
       "      <th>Test</th>\n",
       "      <td>0.460464</td>\n",
       "      <td>0.240446</td>\n",
       "      <td>0.160642</td>\n",
       "      <td>0.091346</td>\n",
       "      <td>0.047104</td>\n",
       "    </tr>\n",
       "  </tbody>\n",
       "</table>\n",
       "</div>"
      ],
      "text/plain": [
       "process_step_x     start    step_1    step_2    step_3   confirm\n",
       "Variation                                                       \n",
       "Control         0.547151  0.201349  0.143788  0.090690  0.017021\n",
       "Test            0.460464  0.240446  0.160642  0.091346  0.047104"
      ]
     },
     "execution_count": 90,
     "metadata": {},
     "output_type": "execute_result"
    }
   ],
   "source": [
    "conversion_rates = grouped_data.groupby('Variation')['process_step_x'].value_counts(normalize=True).unstack()\n",
    "desired_order = ['start', 'step_1', 'step_2', 'step_3', 'confirm']\n",
    "conversion_rates = conversion_rates[desired_order]\n",
    "conversion_rates"
   ]
  },
  {
   "cell_type": "code",
   "execution_count": 91,
   "id": "1d2281af",
   "metadata": {},
   "outputs": [
    {
     "data": {
      "text/plain": [
       "Text(0.5, 1.0, 'Completion Rates by Process Step and Test Group')"
      ]
     },
     "execution_count": 91,
     "metadata": {},
     "output_type": "execute_result"
    },
    {
     "data": {
      "image/png": "[encoded data removed]",
      "text/plain": [
       "<Figure size 640x480 with 1 Axes>"
      ]
     },
     "metadata": {},
     "output_type": "display_data"
    }
   ],
   "source": [
    "custom_palette = {'start': 'green', 'step_1': 'lightgreen', 'step_2': 'turquoise', 'step_3': 'lightblue', 'confirm': 'pink'}\n",
    "conversion_rates.plot(kind='bar', stacked=True, color=[custom_palette[col] for col in conversion_rates.columns])\n",
    "plt.title('Conversion Rates by Process Step and Variation')\n",
    "plt.title('Completion Rates by Process Step and Test Group')"
   ]
  },
  {
   "cell_type": "code",
   "execution_count": 92,
   "id": "0c86091d",
   "metadata": {},
   "outputs": [
    {
     "data": {
      "text/plain": [
       "0         30-40\n",
       "1         30-40\n",
       "2         30-40\n",
       "3         30-40\n",
       "4         30-40\n",
       "          ...  \n",
       "155568    30-40\n",
       "155569    30-40\n",
       "155570    30-40\n",
       "155571    30-40\n",
       "155572    30-40\n",
       "Name: age_group, Length: 155573, dtype: category\n",
       "Categories (6, object): ['20-30' < '30-40' < '40-50' < '50-60' < '60-70' < '70-80']"
      ]
     },
     "execution_count": 92,
     "metadata": {},
     "output_type": "execute_result"
    }
   ],
   "source": [
    "grouped_data['age_group'] = pd.cut(grouped_data['clnt_age'], bins=[20, 30, 40, 50, 60, 70, 80], labels=['20-30', '30-40', '40-50', '50-60', '60-70', '70-80'])\n",
    "grouped_data['age_group']"
   ]
  },
  {
   "cell_type": "code",
   "execution_count": 93,
   "id": "a7a4c6f8",
   "metadata": {},
   "outputs": [
    {
     "data": {
      "text/plain": [
       "Text(0.5, 1.0, 'Number of Logons by Age Group and Test Group')"
      ]
     },
     "execution_count": 93,
     "metadata": {},
     "output_type": "execute_result"
    },
    {
     "data": {
      "image/png": "[encoded data removed]",
      "text/plain": [
       "<Figure size 640x480 with 1 Axes>"
      ]
     },
     "metadata": {},
     "output_type": "display_data"
    }
   ],
   "source": [
    "custom_palette = {'Test': 'turquoise', 'Control': 'pink'}\n",
    "\n",
    "sns.barplot(x='age_group', y='logons_6_mnth', hue='Variation', data=grouped_data, palette=custom_palette)\n",
    "plt.title('Number of Logons by Age Group and Test Group')"
   ]
  },
  {
   "cell_type": "code",
   "execution_count": 94,
   "id": "f3fd9380",
   "metadata": {},
   "outputs": [
    {
     "data": {
      "text/plain": [
       "Text(0.5, 1.0, 'Distribution of Clients by Age Group')"
      ]
     },
     "execution_count": 94,
     "metadata": {},
     "output_type": "execute_result"
    },
    {
     "data": {
      "image/png": "[encoded data removed]",
      "text/plain": [
       "<Figure size 640x480 with 1 Axes>"
      ]
     },
     "metadata": {},
     "output_type": "display_data"
    }
   ],
   "source": [
    "sns.countplot(x='age_group', data=client_profiles, color='turquoise')\n",
    "plt.title('Distribution of Clients by Age Group')"
   ]
  },
  {
   "cell_type": "code",
   "execution_count": null,
   "id": "af0e0153",
   "metadata": {},
   "outputs": [],
   "source": []
  }
 ],
 "metadata": {
  "kernelspec": {
   "display_name": "project-2",
   "language": "python",
   "name": "project-2"
  },
  "language_info": {
   "codemirror_mode": {
    "name": "ipython",
    "version": 3
   },
   "file_extension": ".py",
   "mimetype": "text/x-python",
   "name": "python",
   "nbconvert_exporter": "python",
   "pygments_lexer": "ipython3",
   "version": "3.11.5"
  },
  "toc": {
   "base_numbering": 1,
   "nav_menu": {},
   "number_sections": true,
   "sideBar": true,
   "skip_h1_title": false,
   "title_cell": "Table of Contents",
   "title_sidebar": "Contents",
   "toc_cell": false,
   "toc_position": {},
   "toc_section_display": true,
   "toc_window_display": false
  }
 },
 "nbformat": 4,
 "nbformat_minor": 5
}
